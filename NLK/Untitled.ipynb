{
 "cells": [
  {
   "cell_type": "code",
   "execution_count": 4,
   "id": "add2e49d",
   "metadata": {
    "scrolled": true
   },
   "outputs": [
    {
     "data": {
      "text/plain": [
       "(0, array([], dtype=float64), array([], dtype=float64))"
      ]
     },
     "execution_count": 4,
     "metadata": {},
     "output_type": "execute_result"
    }
   ],
   "source": [
    "from particle_propagation import Particle_Propagator, Approximated_Propagator, Thor_SCSI_Propagator\n",
    "import numpy as np\n",
    "\n",
    "propagator = Particle_Propagator(Approximated_Propagator)\n",
    "reward,x,px = propagator.propagation_thousand_rounds(np.array([]),np.array([]),\n",
    "                                                     kicker_strength = 0)\n",
    "reward,x,px"
   ]
  },
  {
   "cell_type": "code",
   "execution_count": 3,
   "id": "229cd7ca",
   "metadata": {},
   "outputs": [
    {
     "name": "stdout",
     "output_type": "stream",
     "text": [
      "0\n"
     ]
    }
   ],
   "source": [
    "print(len(np.array([])))"
   ]
  },
  {
   "cell_type": "code",
   "execution_count": 4,
   "id": "285d4811",
   "metadata": {},
   "outputs": [
    {
     "data": {
      "text/plain": [
       "array([], dtype=int64)"
      ]
     },
     "execution_count": 4,
     "metadata": {},
     "output_type": "execute_result"
    }
   ],
   "source": [
    "points = np.array([[1,2],[3,4]])\n",
    "points = points[:, points[0,:] < 0.015]\n",
    "points[0,:]"
   ]
  },
  {
   "cell_type": "code",
   "execution_count": null,
   "id": "0eec0661",
   "metadata": {},
   "outputs": [],
   "source": []
  },
  {
   "cell_type": "code",
   "execution_count": null,
   "id": "2c83ea0a",
   "metadata": {},
   "outputs": [],
   "source": []
  },
  {
   "cell_type": "code",
   "execution_count": null,
   "id": "a71effe7",
   "metadata": {},
   "outputs": [],
   "source": []
  },
  {
   "cell_type": "code",
   "execution_count": null,
   "id": "d13db4cd",
   "metadata": {},
   "outputs": [],
   "source": []
  },
  {
   "cell_type": "code",
   "execution_count": null,
   "id": "574eda4b",
   "metadata": {},
   "outputs": [],
   "source": []
  },
  {
   "cell_type": "code",
   "execution_count": null,
   "id": "fa2016c5",
   "metadata": {},
   "outputs": [],
   "source": []
  },
  {
   "cell_type": "code",
   "execution_count": 9,
   "id": "6b20347a",
   "metadata": {},
   "outputs": [],
   "source": [
    "import importlib.resources"
   ]
  },
  {
   "cell_type": "code",
   "execution_count": 10,
   "id": "554f45f1",
   "metadata": {},
   "outputs": [
    {
     "data": {
      "text/plain": [
       "['BinaryIO',\n",
       " 'BytesIO',\n",
       " 'Iterable',\n",
       " 'Iterator',\n",
       " 'ModuleType',\n",
       " 'Optional',\n",
       " 'Package',\n",
       " 'Path',\n",
       " 'Resource',\n",
       " 'ResourceLoader',\n",
       " 'Set',\n",
       " 'TextIO',\n",
       " 'TextIOWrapper',\n",
       " 'Union',\n",
       " 'ZipImportError',\n",
       " '__all__',\n",
       " '__builtins__',\n",
       " '__cached__',\n",
       " '__doc__',\n",
       " '__file__',\n",
       " '__loader__',\n",
       " '__name__',\n",
       " '__package__',\n",
       " '__spec__',\n",
       " '_check_location',\n",
       " '_get_package',\n",
       " '_get_resource_reader',\n",
       " '_normalize_path',\n",
       " 'cast',\n",
       " 'contents',\n",
       " 'contextmanager',\n",
       " 'import_module',\n",
       " 'is_resource',\n",
       " 'open_binary',\n",
       " 'open_text',\n",
       " 'os',\n",
       " 'path',\n",
       " 'read_binary',\n",
       " 'read_text',\n",
       " 'resources_abc',\n",
       " 'suppress',\n",
       " 'tempfile']"
      ]
     },
     "execution_count": 10,
     "metadata": {},
     "output_type": "execute_result"
    }
   ],
   "source": [
    "dir(importlib.resources)  #"
   ]
  },
  {
   "cell_type": "code",
   "execution_count": null,
   "id": "26730c34",
   "metadata": {},
   "outputs": [],
   "source": []
  }
 ],
 "metadata": {
  "kernelspec": {
   "display_name": "Python 3",
   "language": "python",
   "name": "python3"
  },
  "language_info": {
   "codemirror_mode": {
    "name": "ipython",
    "version": 3
   },
   "file_extension": ".py",
   "mimetype": "text/x-python",
   "name": "python",
   "nbconvert_exporter": "python",
   "pygments_lexer": "ipython3",
   "version": "3.8.8"
  }
 },
 "nbformat": 4,
 "nbformat_minor": 5
}
