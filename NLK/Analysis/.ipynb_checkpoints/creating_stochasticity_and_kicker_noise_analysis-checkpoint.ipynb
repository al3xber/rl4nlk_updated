{
 "cells": [
  {
   "cell_type": "code",
   "execution_count": 1,
   "id": "fe865463",
   "metadata": {},
   "outputs": [],
   "source": [
    "from particle_propagation import Particle_Propagator, Approximated_Propagator, Thor_SCSI_Propagator\n",
    "import numpy as np\n",
    "import matplotlib.pyplot as plt\n",
    "\n",
    "propagator = Particle_Propagator(Thor_SCSI_Propagator)#Approximated_Propagator)"
   ]
  },
  {
   "cell_type": "code",
   "execution_count": 2,
   "id": "d7fe8b37",
   "metadata": {},
   "outputs": [
    {
     "name": "stdout",
     "output_type": "stream",
     "text": [
      "Needed time: 4.202919006347656\n"
     ]
    },
    {
     "data": {
      "text/plain": [
       "(1.0, array([[0.00778271]]), array([[0.00077681]]))"
      ]
     },
     "execution_count": 2,
     "metadata": {},
     "output_type": "execute_result"
    }
   ],
   "source": [
    "propagator.propagation_thousand_rounds(\n",
    "            np.array(1*[0.016]), np.array(1*[-0.00025]), \n",
    "            when_activate_NLK = 4,kicker_strength = 0.035, deterministic = True)"
   ]
  },
  {
   "cell_type": "code",
   "execution_count": 3,
   "id": "cd355ed1",
   "metadata": {},
   "outputs": [],
   "source": [
    "def plot_steerer_noise(x,px):\n",
    "    #this function was used to calculate the number of electrons surviving an optimal kick\n",
    "    #We adjusted the noise s.t. around 95% of the electrons survive the injection\n",
    "    \n",
    "    result, x_processes,_ = propagator.propagation_thousand_rounds(\n",
    "                                        np.array(1000*[x]), np.array(1000*[px]), \n",
    "                                        when_activate_NLK = 4,kicker_strength = 0.035)\n",
    "    plt.figure(figsize=(9,5))\n",
    "    plt.hist(x_processes[x_processes!=0.0],bins = 100)\n",
    "    plt.xlabel(\"$x$-value in $\\mathrm{mm}$\")\n",
    "    plt.ylabel(\"Amount of electrons (out of 1000)\")\n",
    "    plt.title(\"Distribution of $x$-value after 1000 rounds including kick\")\n",
    "    plt.show()\n",
    "    print(\"Result:\",result)\n",
    "    \n"
   ]
  },
  {
   "cell_type": "markdown",
   "id": "610331d8",
   "metadata": {},
   "source": [
    "With the following noises, we got the wished performance"
   ]
  },
  {
   "cell_type": "code",
   "execution_count": 4,
   "id": "12cd6555",
   "metadata": {
    "scrolled": true
   },
   "outputs": [
    {
     "name": "stdout",
     "output_type": "stream",
     "text": [
      "Needed time: 104.42274165153503\n"
     ]
    },
    {
     "data": {
      "image/png": "[encoded data removed]",
      "text/plain": [
       "<Figure size 648x360 with 1 Axes>"
      ]
     },
     "metadata": {
      "needs_background": "light"
     },
     "output_type": "display_data"
    },
    {
     "name": "stdout",
     "output_type": "stream",
     "text": [
      "Result: 450.0\n"
     ]
    },
    {
     "name": "stderr",
     "output_type": "stream",
     "text": [
      "Process Process-63:\n",
      "Process Process-57:\n",
      "Process Process-43:\n",
      "Process Process-50:\n",
      "Process Process-55:\n",
      "Process Process-56:\n",
      "Process Process-51:\n",
      "Process Process-54:\n",
      "Process Process-61:\n",
      "Process Process-48:\n",
      "Process Process-44:\n",
      "Process Process-47:\n",
      "Process Process-62:\n",
      "Process Process-49:\n",
      "Traceback (most recent call last):\n",
      "Process Process-59:\n",
      "Process Process-53:\n",
      "Process Process-58:\n",
      "Process Process-46:\n",
      "Process Process-45:\n",
      "Traceback (most recent call last):\n",
      "Traceback (most recent call last):\n",
      "Traceback (most recent call last):\n",
      "Process Process-52:\n",
      "Traceback (most recent call last):\n",
      "Traceback (most recent call last):\n",
      "Traceback (most recent call last):\n",
      "Traceback (most recent call last):\n",
      "Traceback (most recent call last):\n",
      "Traceback (most recent call last):\n",
      "Traceback (most recent call last):\n",
      "Traceback (most recent call last):\n",
      "Traceback (most recent call last):\n",
      "Traceback (most recent call last):\n",
      "Traceback (most recent call last):\n",
      "  File \"/home/al3xber/anaconda3/lib/python3.8/multiprocessing/process.py\", line 315, in _bootstrap\n",
      "    self.run()\n",
      "  File \"/home/al3xber/anaconda3/lib/python3.8/multiprocessing/process.py\", line 315, in _bootstrap\n",
      "    self.run()\n",
      "Traceback (most recent call last):\n",
      "  File \"/home/al3xber/anaconda3/lib/python3.8/multiprocessing/process.py\", line 315, in _bootstrap\n",
      "    self.run()\n",
      "Traceback (most recent call last):\n",
      "  File \"/home/al3xber/anaconda3/lib/python3.8/multiprocessing/process.py\", line 315, in _bootstrap\n",
      "    self.run()\n",
      "Process Process-60:\n",
      "  File \"/home/al3xber/anaconda3/lib/python3.8/multiprocessing/process.py\", line 315, in _bootstrap\n",
      "    self.run()\n",
      "Traceback (most recent call last):\n",
      "Traceback (most recent call last):\n",
      "  File \"/home/al3xber/anaconda3/lib/python3.8/multiprocessing/process.py\", line 315, in _bootstrap\n",
      "    self.run()\n",
      "  File \"/home/al3xber/anaconda3/lib/python3.8/multiprocessing/process.py\", line 315, in _bootstrap\n",
      "    self.run()\n",
      "  File \"/home/al3xber/anaconda3/lib/python3.8/multiprocessing/process.py\", line 315, in _bootstrap\n",
      "    self.run()\n",
      "Traceback (most recent call last):\n",
      "  File \"/home/al3xber/anaconda3/lib/python3.8/multiprocessing/process.py\", line 315, in _bootstrap\n",
      "    self.run()\n",
      "  File \"/home/al3xber/anaconda3/lib/python3.8/multiprocessing/process.py\", line 315, in _bootstrap\n",
      "    self.run()\n",
      "  File \"/home/al3xber/anaconda3/lib/python3.8/multiprocessing/process.py\", line 315, in _bootstrap\n",
      "    self.run()\n",
      "  File \"/home/al3xber/anaconda3/lib/python3.8/multiprocessing/process.py\", line 108, in run\n",
      "    self._target(*self._args, **self._kwargs)\n",
      "  File \"/home/al3xber/anaconda3/lib/python3.8/multiprocessing/process.py\", line 315, in _bootstrap\n",
      "    self.run()\n",
      "  File \"/home/al3xber/anaconda3/lib/python3.8/multiprocessing/process.py\", line 315, in _bootstrap\n",
      "    self.run()\n",
      "  File \"/home/al3xber/anaconda3/lib/python3.8/multiprocessing/process.py\", line 315, in _bootstrap\n",
      "    self.run()\n",
      "  File \"/home/al3xber/anaconda3/lib/python3.8/multiprocessing/process.py\", line 315, in _bootstrap\n",
      "    self.run()\n",
      "  File \"/home/al3xber/anaconda3/lib/python3.8/multiprocessing/process.py\", line 315, in _bootstrap\n",
      "    self.run()\n",
      "  File \"/home/al3xber/anaconda3/lib/python3.8/multiprocessing/process.py\", line 315, in _bootstrap\n",
      "    self.run()\n",
      "  File \"/home/al3xber/anaconda3/lib/python3.8/multiprocessing/process.py\", line 315, in _bootstrap\n",
      "    self.run()\n",
      "  File \"/home/al3xber/anaconda3/lib/python3.8/multiprocessing/process.py\", line 108, in run\n",
      "    self._target(*self._args, **self._kwargs)\n",
      "  File \"/home/al3xber/anaconda3/lib/python3.8/multiprocessing/process.py\", line 108, in run\n",
      "    self._target(*self._args, **self._kwargs)\n",
      "  File \"/home/al3xber/anaconda3/lib/python3.8/multiprocessing/process.py\", line 108, in run\n",
      "    self._target(*self._args, **self._kwargs)\n",
      "  File \"/home/al3xber/anaconda3/lib/python3.8/multiprocessing/process.py\", line 108, in run\n",
      "    self._target(*self._args, **self._kwargs)\n",
      "  File \"/home/al3xber/anaconda3/lib/python3.8/multiprocessing/process.py\", line 315, in _bootstrap\n",
      "    self.run()\n",
      "  File \"/home/al3xber/anaconda3/lib/python3.8/multiprocessing/process.py\", line 108, in run\n",
      "    self._target(*self._args, **self._kwargs)\n",
      "  File \"/home/al3xber/anaconda3/lib/python3.8/multiprocessing/process.py\", line 108, in run\n",
      "    self._target(*self._args, **self._kwargs)\n",
      "  File \"/home/al3xber/anaconda3/lib/python3.8/multiprocessing/process.py\", line 108, in run\n",
      "    self._target(*self._args, **self._kwargs)\n",
      "Traceback (most recent call last):\n",
      "  File \"/home/al3xber/Desktop/Workspace/rl4nlk_updated/NLK/particle_propagation/particle_propagation/thorscsi_propagation.py\", line 354, in worker\n",
      "    result, x_process, px_process, start = run(idx,args[1]+running_idx, worker_acc_info,remaining_info)\n",
      "  File \"/home/al3xber/anaconda3/lib/python3.8/multiprocessing/process.py\", line 108, in run\n",
      "    self._target(*self._args, **self._kwargs)\n",
      "  File \"/home/al3xber/anaconda3/lib/python3.8/multiprocessing/process.py\", line 108, in run\n",
      "    self._target(*self._args, **self._kwargs)\n",
      "  File \"/home/al3xber/anaconda3/lib/python3.8/multiprocessing/process.py\", line 108, in run\n",
      "    self._target(*self._args, **self._kwargs)\n",
      "  File \"/home/al3xber/anaconda3/lib/python3.8/multiprocessing/process.py\", line 108, in run\n",
      "    self._target(*self._args, **self._kwargs)\n",
      "  File \"/home/al3xber/anaconda3/lib/python3.8/multiprocessing/process.py\", line 108, in run\n",
      "    self._target(*self._args, **self._kwargs)\n",
      "  File \"/home/al3xber/anaconda3/lib/python3.8/multiprocessing/process.py\", line 108, in run\n",
      "    self._target(*self._args, **self._kwargs)\n",
      "  File \"/home/al3xber/anaconda3/lib/python3.8/multiprocessing/process.py\", line 108, in run\n",
      "    self._target(*self._args, **self._kwargs)\n",
      "  File \"/home/al3xber/anaconda3/lib/python3.8/multiprocessing/process.py\", line 108, in run\n",
      "    self._target(*self._args, **self._kwargs)\n",
      "  File \"/home/al3xber/Desktop/Workspace/rl4nlk_updated/NLK/particle_propagation/particle_propagation/thorscsi_propagation.py\", line 354, in worker\n",
      "    result, x_process, px_process, start = run(idx,args[1]+running_idx, worker_acc_info,remaining_info)\n",
      "  File \"/home/al3xber/anaconda3/lib/python3.8/multiprocessing/process.py\", line 108, in run\n",
      "    self._target(*self._args, **self._kwargs)\n",
      "  File \"/home/al3xber/Desktop/Workspace/rl4nlk_updated/NLK/particle_propagation/particle_propagation/thorscsi_propagation.py\", line 354, in worker\n",
      "    result, x_process, px_process, start = run(idx,args[1]+running_idx, worker_acc_info,remaining_info)\n",
      "  File \"/home/al3xber/anaconda3/lib/python3.8/multiprocessing/process.py\", line 315, in _bootstrap\n",
      "    self.run()\n",
      "  File \"/home/al3xber/Desktop/Workspace/rl4nlk_updated/NLK/particle_propagation/particle_propagation/thorscsi_propagation.py\", line 354, in worker\n",
      "    result, x_process, px_process, start = run(idx,args[1]+running_idx, worker_acc_info,remaining_info)\n",
      "  File \"/home/al3xber/anaconda3/lib/python3.8/multiprocessing/process.py\", line 108, in run\n",
      "    self._target(*self._args, **self._kwargs)\n",
      "  File \"/home/al3xber/Desktop/Workspace/rl4nlk_updated/NLK/particle_propagation/particle_propagation/thorscsi_propagation.py\", line 354, in worker\n",
      "    result, x_process, px_process, start = run(idx,args[1]+running_idx, worker_acc_info,remaining_info)\n",
      "  File \"/home/al3xber/anaconda3/lib/python3.8/multiprocessing/process.py\", line 108, in run\n",
      "    self._target(*self._args, **self._kwargs)\n",
      "  File \"/home/al3xber/Desktop/Workspace/rl4nlk_updated/NLK/particle_propagation/particle_propagation/thorscsi_propagation.py\", line 354, in worker\n",
      "    result, x_process, px_process, start = run(idx,args[1]+running_idx, worker_acc_info,remaining_info)\n",
      "  File \"/home/al3xber/Desktop/Workspace/rl4nlk_updated/NLK/particle_propagation/particle_propagation/thorscsi_propagation.py\", line 354, in worker\n",
      "    result, x_process, px_process, start = run(idx,args[1]+running_idx, worker_acc_info,remaining_info)\n",
      "  File \"/home/al3xber/Desktop/Workspace/rl4nlk_updated/NLK/particle_propagation/particle_propagation/thorscsi_propagation.py\", line 354, in worker\n",
      "    result, x_process, px_process, start = run(idx,args[1]+running_idx, worker_acc_info,remaining_info)\n",
      "  File \"/home/al3xber/Desktop/Workspace/rl4nlk_updated/NLK/particle_propagation/particle_propagation/thorscsi_propagation.py\", line 354, in worker\n",
      "    result, x_process, px_process, start = run(idx,args[1]+running_idx, worker_acc_info,remaining_info)\n"
     ]
    },
    {
     "name": "stderr",
     "output_type": "stream",
     "text": [
      "  File \"/home/al3xber/Desktop/Workspace/rl4nlk_updated/NLK/particle_propagation/particle_propagation/thorscsi_propagation.py\", line 354, in worker\n",
      "    result, x_process, px_process, start = run(idx,args[1]+running_idx, worker_acc_info,remaining_info)\n",
      "  File \"/home/al3xber/Desktop/Workspace/rl4nlk_updated/NLK/particle_propagation/particle_propagation/thorscsi_propagation.py\", line 384, in information_extractor_worker\n",
      "    _,result,x_process,px_process,start = worker_queue_list[x].get(block=True, timeout=.1)\n",
      "  File \"/home/al3xber/Desktop/Workspace/rl4nlk_updated/NLK/particle_propagation/particle_propagation/thorscsi_propagation.py\", line 194, in run\n",
      "    return particle_propagation(args, worker_acc_info, remaining_info)\n",
      "  File \"/home/al3xber/Desktop/Workspace/rl4nlk_updated/NLK/particle_propagation/particle_propagation/thorscsi_propagation.py\", line 354, in worker\n",
      "    result, x_process, px_process, start = run(idx,args[1]+running_idx, worker_acc_info,remaining_info)\n",
      "  File \"/home/al3xber/Desktop/Workspace/rl4nlk_updated/NLK/particle_propagation/particle_propagation/thorscsi_propagation.py\", line 354, in worker\n",
      "    result, x_process, px_process, start = run(idx,args[1]+running_idx, worker_acc_info,remaining_info)\n",
      "  File \"/home/al3xber/Desktop/Workspace/rl4nlk_updated/NLK/particle_propagation/particle_propagation/thorscsi_propagation.py\", line 354, in worker\n",
      "    result, x_process, px_process, start = run(idx,args[1]+running_idx, worker_acc_info,remaining_info)\n",
      "  File \"/home/al3xber/anaconda3/lib/python3.8/multiprocessing/process.py\", line 315, in _bootstrap\n",
      "    self.run()\n",
      "  File \"/home/al3xber/Desktop/Workspace/rl4nlk_updated/NLK/particle_propagation/particle_propagation/thorscsi_propagation.py\", line 354, in worker\n",
      "    result, x_process, px_process, start = run(idx,args[1]+running_idx, worker_acc_info,remaining_info)\n",
      "  File \"/home/al3xber/Desktop/Workspace/rl4nlk_updated/NLK/particle_propagation/particle_propagation/thorscsi_propagation.py\", line 194, in run\n",
      "    return particle_propagation(args, worker_acc_info, remaining_info)\n",
      "  File \"/home/al3xber/Desktop/Workspace/rl4nlk_updated/NLK/particle_propagation/particle_propagation/thorscsi_propagation.py\", line 354, in worker\n",
      "    result, x_process, px_process, start = run(idx,args[1]+running_idx, worker_acc_info,remaining_info)\n",
      "  File \"/home/al3xber/anaconda3/lib/python3.8/multiprocessing/process.py\", line 108, in run\n",
      "    self._target(*self._args, **self._kwargs)\n",
      "  File \"/home/al3xber/Desktop/Workspace/rl4nlk_updated/NLK/particle_propagation/particle_propagation/thorscsi_propagation.py\", line 354, in worker\n",
      "    result, x_process, px_process, start = run(idx,args[1]+running_idx, worker_acc_info,remaining_info)\n",
      "  File \"/home/al3xber/Desktop/Workspace/rl4nlk_updated/NLK/particle_propagation/particle_propagation/thorscsi_propagation.py\", line 194, in run\n",
      "    return particle_propagation(args, worker_acc_info, remaining_info)\n",
      "  File \"/home/al3xber/Desktop/Workspace/rl4nlk_updated/NLK/particle_propagation/particle_propagation/thorscsi_propagation.py\", line 354, in worker\n",
      "    result, x_process, px_process, start = run(idx,args[1]+running_idx, worker_acc_info,remaining_info)\n",
      "  File \"/home/al3xber/Desktop/Workspace/rl4nlk_updated/NLK/particle_propagation/particle_propagation/thorscsi_propagation.py\", line 194, in run\n",
      "    return particle_propagation(args, worker_acc_info, remaining_info)\n",
      "  File \"/home/al3xber/Desktop/Workspace/rl4nlk_updated/NLK/particle_propagation/particle_propagation/thorscsi_propagation.py\", line 354, in worker\n",
      "    result, x_process, px_process, start = run(idx,args[1]+running_idx, worker_acc_info,remaining_info)\n",
      "  File \"/home/al3xber/Desktop/Workspace/rl4nlk_updated/NLK/particle_propagation/particle_propagation/thorscsi_propagation.py\", line 194, in run\n",
      "    return particle_propagation(args, worker_acc_info, remaining_info)\n",
      "  File \"/home/al3xber/Desktop/Workspace/rl4nlk_updated/NLK/particle_propagation/particle_propagation/thorscsi_propagation.py\", line 194, in run\n",
      "    return particle_propagation(args, worker_acc_info, remaining_info)\n",
      "  File \"/home/al3xber/Desktop/Workspace/rl4nlk_updated/NLK/particle_propagation/particle_propagation/thorscsi_propagation.py\", line 194, in run\n",
      "    return particle_propagation(args, worker_acc_info, remaining_info)\n",
      "  File \"/home/al3xber/anaconda3/lib/python3.8/multiprocessing/process.py\", line 108, in run\n",
      "    self._target(*self._args, **self._kwargs)\n",
      "  File \"/home/al3xber/Desktop/Workspace/rl4nlk_updated/NLK/particle_propagation/particle_propagation/thorscsi_propagation.py\", line 194, in run\n",
      "    return particle_propagation(args, worker_acc_info, remaining_info)\n",
      "  File \"/home/al3xber/Desktop/Workspace/rl4nlk_updated/NLK/particle_propagation/particle_propagation/thorscsi_propagation.py\", line 163, in particle_propagation\n",
      "    result = acc.propagate(calc_config, ps)\n",
      "  File \"/home/al3xber/Desktop/Workspace/rl4nlk_updated/NLK/particle_propagation/particle_propagation/thorscsi_propagation.py\", line 194, in run\n",
      "    return particle_propagation(args, worker_acc_info, remaining_info)\n",
      "  File \"/home/al3xber/Desktop/Workspace/rl4nlk_updated/NLK/particle_propagation/particle_propagation/thorscsi_propagation.py\", line 194, in run\n",
      "    return particle_propagation(args, worker_acc_info, remaining_info)\n",
      "  File \"/home/al3xber/Desktop/Workspace/rl4nlk_updated/NLK/particle_propagation/particle_propagation/thorscsi_propagation.py\", line 163, in particle_propagation\n",
      "    result = acc.propagate(calc_config, ps)\n",
      "  File \"/home/al3xber/Desktop/Workspace/rl4nlk_updated/NLK/particle_propagation/particle_propagation/thorscsi_propagation.py\", line 194, in run\n",
      "    return particle_propagation(args, worker_acc_info, remaining_info)\n",
      "  File \"/home/al3xber/Desktop/Workspace/rl4nlk_updated/NLK/particle_propagation/particle_propagation/thorscsi_propagation.py\", line 194, in run\n",
      "    return particle_propagation(args, worker_acc_info, remaining_info)\n",
      "  File \"/home/al3xber/Desktop/Workspace/rl4nlk_updated/NLK/particle_propagation/particle_propagation/thorscsi_propagation.py\", line 354, in worker\n",
      "    result, x_process, px_process, start = run(idx,args[1]+running_idx, worker_acc_info,remaining_info)\n",
      "  File \"/home/al3xber/Desktop/Workspace/rl4nlk_updated/NLK/particle_propagation/particle_propagation/thorscsi_propagation.py\", line 194, in run\n",
      "    return particle_propagation(args, worker_acc_info, remaining_info)\n",
      "  File \"/home/al3xber/Desktop/Workspace/rl4nlk_updated/NLK/particle_propagation/particle_propagation/thorscsi_propagation.py\", line 194, in run\n",
      "    return particle_propagation(args, worker_acc_info, remaining_info)\n",
      "  File \"/home/al3xber/Desktop/Workspace/rl4nlk_updated/NLK/particle_propagation/particle_propagation/thorscsi_propagation.py\", line 194, in run\n",
      "    return particle_propagation(args, worker_acc_info, remaining_info)\n",
      "  File \"/home/al3xber/Desktop/Workspace/rl4nlk_updated/NLK/particle_propagation/particle_propagation/thorscsi_propagation.py\", line 194, in run\n",
      "    return particle_propagation(args, worker_acc_info, remaining_info)\n",
      "  File \"/home/al3xber/anaconda3/lib/python3.8/multiprocessing/queues.py\", line 107, in get\n",
      "    if not self._poll(timeout):\n",
      "  File \"/home/al3xber/Desktop/Workspace/rl4nlk_updated/NLK/particle_propagation/particle_propagation/thorscsi_propagation.py\", line 194, in run\n",
      "    return particle_propagation(args, worker_acc_info, remaining_info)\n",
      "  File \"/home/al3xber/Desktop/Workspace/rl4nlk_updated/NLK/particle_propagation/particle_propagation/thorscsi_propagation.py\", line 163, in particle_propagation\n",
      "    result = acc.propagate(calc_config, ps)\n",
      "  File \"/home/al3xber/Desktop/Workspace/rl4nlk_updated/NLK/particle_propagation/particle_propagation/thorscsi_propagation.py\", line 354, in worker\n",
      "    result, x_process, px_process, start = run(idx,args[1]+running_idx, worker_acc_info,remaining_info)\n",
      "  File \"/home/al3xber/Desktop/Workspace/rl4nlk_updated/NLK/particle_propagation/particle_propagation/thorscsi_propagation.py\", line 163, in particle_propagation\n",
      "    result = acc.propagate(calc_config, ps)\n",
      "  File \"/home/al3xber/Desktop/Workspace/rl4nlk_updated/NLK/particle_propagation/particle_propagation/thorscsi_propagation.py\", line 194, in run\n",
      "    return particle_propagation(args, worker_acc_info, remaining_info)\n"
     ]
    },
    {
     "name": "stderr",
     "output_type": "stream",
     "text": [
      "  File \"/home/al3xber/Desktop/Workspace/rl4nlk_updated/NLK/particle_propagation/particle_propagation/thorscsi_propagation.py\", line 163, in particle_propagation\n",
      "    result = acc.propagate(calc_config, ps)\n",
      "  File \"/home/al3xber/Desktop/Workspace/rl4nlk_updated/NLK/particle_propagation/particle_propagation/thorscsi_propagation.py\", line 163, in particle_propagation\n",
      "    result = acc.propagate(calc_config, ps)\n",
      "  File \"/home/al3xber/Desktop/Workspace/rl4nlk_updated/NLK/particle_propagation/particle_propagation/thorscsi_propagation.py\", line 163, in particle_propagation\n",
      "    result = acc.propagate(calc_config, ps)\n",
      "  File \"/home/al3xber/Desktop/Workspace/rl4nlk_updated/NLK/particle_propagation/particle_propagation/thorscsi_propagation.py\", line 163, in particle_propagation\n",
      "    result = acc.propagate(calc_config, ps)\n",
      "KeyboardInterrupt\n",
      "  File \"/home/al3xber/Desktop/Workspace/rl4nlk_updated/NLK/particle_propagation/particle_propagation/thorscsi_propagation.py\", line 163, in particle_propagation\n",
      "    result = acc.propagate(calc_config, ps)\n",
      "  File \"/home/al3xber/Desktop/Workspace/rl4nlk_updated/NLK/particle_propagation/particle_propagation/thorscsi_propagation.py\", line 163, in particle_propagation\n",
      "    result = acc.propagate(calc_config, ps)\n",
      "  File \"/home/al3xber/Desktop/Workspace/rl4nlk_updated/NLK/particle_propagation/particle_propagation/thorscsi_propagation.py\", line 163, in particle_propagation\n",
      "    result = acc.propagate(calc_config, ps)\n",
      "  File \"/home/al3xber/Desktop/Workspace/rl4nlk_updated/NLK/particle_propagation/particle_propagation/thorscsi_propagation.py\", line 163, in particle_propagation\n",
      "    result = acc.propagate(calc_config, ps)\n",
      "  File \"/home/al3xber/Desktop/Workspace/rl4nlk_updated/NLK/particle_propagation/particle_propagation/thorscsi_propagation.py\", line 163, in particle_propagation\n",
      "    result = acc.propagate(calc_config, ps)\n",
      "  File \"/home/al3xber/anaconda3/lib/python3.8/multiprocessing/connection.py\", line 257, in poll\n",
      "    return self._poll(timeout)\n",
      "  File \"/home/al3xber/Desktop/Workspace/rl4nlk_updated/NLK/particle_propagation/particle_propagation/thorscsi_propagation.py\", line 194, in run\n",
      "    return particle_propagation(args, worker_acc_info, remaining_info)\n",
      "  File \"/home/al3xber/Desktop/Workspace/rl4nlk_updated/NLK/particle_propagation/particle_propagation/thorscsi_propagation.py\", line 163, in particle_propagation\n",
      "    result = acc.propagate(calc_config, ps)\n",
      "  File \"/home/al3xber/Desktop/Workspace/rl4nlk_updated/NLK/particle_propagation/particle_propagation/thorscsi_propagation.py\", line 166, in particle_propagation\n",
      "    n_x = ps.x\n",
      "KeyboardInterrupt\n",
      "  File \"/home/al3xber/Desktop/Workspace/rl4nlk_updated/NLK/particle_propagation/particle_propagation/thorscsi_propagation.py\", line 194, in run\n",
      "    return particle_propagation(args, worker_acc_info, remaining_info)\n",
      "KeyboardInterrupt\n",
      "  File \"/home/al3xber/Desktop/Workspace/rl4nlk_updated/NLK/particle_propagation/particle_propagation/thorscsi_propagation.py\", line 163, in particle_propagation\n",
      "    result = acc.propagate(calc_config, ps)\n",
      "KeyboardInterrupt\n",
      "  File \"/home/al3xber/Desktop/Workspace/rl4nlk_updated/NLK/particle_propagation/particle_propagation/thorscsi_propagation.py\", line 163, in particle_propagation\n",
      "    result = acc.propagate(calc_config, ps)\n",
      "KeyboardInterrupt\n",
      "KeyboardInterrupt\n",
      "KeyboardInterrupt\n",
      "  File \"/home/al3xber/Desktop/Workspace/rl4nlk_updated/NLK/particle_propagation/particle_propagation/thorscsi_propagation.py\", line 163, in particle_propagation\n",
      "    result = acc.propagate(calc_config, ps)\n",
      "  File \"/home/al3xber/Desktop/Workspace/rl4nlk_updated/NLK/particle_propagation/particle_propagation/thorscsi_propagation.py\", line 163, in particle_propagation\n",
      "    result = acc.propagate(calc_config, ps)\n",
      "  File \"/home/al3xber/anaconda3/lib/python3.8/multiprocessing/connection.py\", line 424, in _poll\n",
      "    r = wait([self], timeout)\n",
      "KeyboardInterrupt\n",
      "KeyboardInterrupt\n",
      "KeyboardInterrupt\n",
      "  File \"/home/al3xber/Desktop/Workspace/rl4nlk_updated/NLK/particle_propagation/particle_propagation/thorscsi_propagation.py\", line 163, in particle_propagation\n",
      "    result = acc.propagate(calc_config, ps)\n",
      "KeyboardInterrupt\n",
      "KeyboardInterrupt\n",
      "  File \"/home/al3xber/anaconda3/lib/python3.8/multiprocessing/connection.py\", line 931, in wait\n",
      "    ready = selector.select(timeout)\n",
      "KeyboardInterrupt\n",
      "  File \"/home/al3xber/anaconda3/lib/python3.8/selectors.py\", line 415, in select\n",
      "    fd_event_list = self._selector.poll(timeout)\n",
      "KeyboardInterrupt\n",
      "KeyboardInterrupt\n",
      "KeyboardInterrupt\n",
      "KeyboardInterrupt\n",
      "KeyboardInterrupt\n",
      "KeyboardInterrupt\n",
      "KeyboardInterrupt\n",
      "KeyboardInterrupt\n",
      "ERROR:root:Internal Python error in the inspect module.\n",
      "Below is the traceback from this internal error.\n",
      "\n"
     ]
    },
    {
     "name": "stdout",
     "output_type": "stream",
     "text": [
      "Traceback (most recent call last):\n",
      "  File \"/home/al3xber/anaconda3/lib/python3.8/site-packages/IPython/core/interactiveshell.py\", line 3437, in run_code\n",
      "    exec(code_obj, self.user_global_ns, self.user_ns)\n",
      "  File \"<ipython-input-4-4d561c4d81fb>\", line 2, in <module>\n",
      "    plot_steerer_noise(0.016,-0.00025)   #not optimal settings\n",
      "  File \"<ipython-input-3-db66144c905b>\", line 5, in plot_steerer_noise\n",
      "    result, x_processes,_ = propagator.propagation_thousand_rounds(\n",
      "  File \"/home/al3xber/Desktop/Workspace/rl4nlk_updated/NLK/particle_propagation/particle_propagation/particle_propagation.py\", line 41, in propagation_thousand_rounds\n",
      "    result = self.Propagator.propagation_thousand_rounds(x, px, when_activate_NLK, kicker_strength,\n",
      "  File \"/home/al3xber/Desktop/Workspace/rl4nlk_updated/NLK/particle_propagation/particle_propagation/thorscsi_propagation.py\", line 313, in propagation_thousand_rounds\n",
      "    result = self._run_jobs([('job', i) for i in range(0,len(x_list),25)], workers=20)\n",
      "  File \"/home/al3xber/Desktop/Workspace/rl4nlk_updated/NLK/particle_propagation/particle_propagation/thorscsi_propagation.py\", line 440, in _run_jobs\n",
      "    p.join()\n",
      "  File \"/home/al3xber/anaconda3/lib/python3.8/multiprocessing/process.py\", line 149, in join\n",
      "    res = self._popen.wait(timeout)\n",
      "  File \"/home/al3xber/anaconda3/lib/python3.8/multiprocessing/popen_fork.py\", line 47, in wait\n",
      "    return self.poll(os.WNOHANG if timeout == 0.0 else 0)\n",
      "  File \"/home/al3xber/anaconda3/lib/python3.8/multiprocessing/popen_fork.py\", line 27, in poll\n",
      "    pid, sts = os.waitpid(self.pid, flag)\n",
      "KeyboardInterrupt\n",
      "\n",
      "During handling of the above exception, another exception occurred:\n",
      "\n",
      "Traceback (most recent call last):\n",
      "  File \"/home/al3xber/anaconda3/lib/python3.8/site-packages/IPython/core/interactiveshell.py\", line 2061, in showtraceback\n",
      "    stb = value._render_traceback_()\n",
      "AttributeError: 'KeyboardInterrupt' object has no attribute '_render_traceback_'\n",
      "\n",
      "During handling of the above exception, another exception occurred:\n",
      "\n",
      "Traceback (most recent call last):\n",
      "  File \"/home/al3xber/anaconda3/lib/python3.8/site-packages/IPython/core/ultratb.py\", line 1101, in get_records\n",
      "    return _fixed_getinnerframes(etb, number_of_lines_of_context, tb_offset)\n",
      "  File \"/home/al3xber/anaconda3/lib/python3.8/site-packages/IPython/core/ultratb.py\", line 248, in wrapped\n",
      "    return f(*args, **kwargs)\n",
      "  File \"/home/al3xber/anaconda3/lib/python3.8/site-packages/IPython/core/ultratb.py\", line 281, in _fixed_getinnerframes\n",
      "    records = fix_frame_records_filenames(inspect.getinnerframes(etb, context))\n",
      "  File \"/home/al3xber/anaconda3/lib/python3.8/inspect.py\", line 1515, in getinnerframes\n",
      "    frameinfo = (tb.tb_frame,) + getframeinfo(tb, context)\n",
      "  File \"/home/al3xber/anaconda3/lib/python3.8/inspect.py\", line 1473, in getframeinfo\n",
      "    filename = getsourcefile(frame) or getfile(frame)\n",
      "  File \"/home/al3xber/anaconda3/lib/python3.8/inspect.py\", line 708, in getsourcefile\n",
      "    if getattr(getmodule(object, filename), '__loader__', None) is not None:\n",
      "  File \"/home/al3xber/anaconda3/lib/python3.8/inspect.py\", line 754, in getmodule\n",
      "    os.path.realpath(f)] = module.__name__\n",
      "  File \"/home/al3xber/anaconda3/lib/python3.8/posixpath.py\", line 391, in realpath\n",
      "    path, ok = _joinrealpath(filename[:0], filename, {})\n",
      "  File \"/home/al3xber/anaconda3/lib/python3.8/posixpath.py\", line 425, in _joinrealpath\n",
      "    if not islink(newpath):\n",
      "  File \"/home/al3xber/anaconda3/lib/python3.8/posixpath.py\", line 167, in islink\n",
      "    st = os.lstat(path)\n",
      "KeyboardInterrupt\n"
     ]
    },
    {
     "ename": "TypeError",
     "evalue": "object of type 'NoneType' has no len()",
     "output_type": "error",
     "traceback": [
      "\u001b[0;31m---------------------------------------------------------------------------\u001b[0m",
      "\u001b[0;31mKeyboardInterrupt\u001b[0m                         Traceback (most recent call last)",
      "    \u001b[0;31m[... skipping hidden 1 frame]\u001b[0m\n",
      "\u001b[0;32m<ipython-input-4-4d561c4d81fb>\u001b[0m in \u001b[0;36m<module>\u001b[0;34m\u001b[0m\n\u001b[1;32m      1\u001b[0m \u001b[0;32mfor\u001b[0m \u001b[0mk\u001b[0m \u001b[0;32min\u001b[0m \u001b[0mrange\u001b[0m\u001b[0;34m(\u001b[0m\u001b[0;36m5\u001b[0m\u001b[0;34m)\u001b[0m\u001b[0;34m:\u001b[0m\u001b[0;34m\u001b[0m\u001b[0;34m\u001b[0m\u001b[0m\n\u001b[0;32m----> 2\u001b[0;31m     \u001b[0mplot_steerer_noise\u001b[0m\u001b[0;34m(\u001b[0m\u001b[0;36m0.016\u001b[0m\u001b[0;34m,\u001b[0m\u001b[0;34m-\u001b[0m\u001b[0;36m0.00025\u001b[0m\u001b[0;34m)\u001b[0m   \u001b[0;31m#not optimal settings\u001b[0m\u001b[0;34m\u001b[0m\u001b[0;34m\u001b[0m\u001b[0m\n\u001b[0m",
      "\u001b[0;32m<ipython-input-3-db66144c905b>\u001b[0m in \u001b[0;36mplot_steerer_noise\u001b[0;34m(x, px)\u001b[0m\n\u001b[1;32m      4\u001b[0m \u001b[0;34m\u001b[0m\u001b[0m\n\u001b[0;32m----> 5\u001b[0;31m     result, x_processes,_ = propagator.propagation_thousand_rounds(\n\u001b[0m\u001b[1;32m      6\u001b[0m                                         \u001b[0mnp\u001b[0m\u001b[0;34m.\u001b[0m\u001b[0marray\u001b[0m\u001b[0;34m(\u001b[0m\u001b[0;36m1000\u001b[0m\u001b[0;34m*\u001b[0m\u001b[0;34m[\u001b[0m\u001b[0mx\u001b[0m\u001b[0;34m]\u001b[0m\u001b[0;34m)\u001b[0m\u001b[0;34m,\u001b[0m \u001b[0mnp\u001b[0m\u001b[0;34m.\u001b[0m\u001b[0marray\u001b[0m\u001b[0;34m(\u001b[0m\u001b[0;36m1000\u001b[0m\u001b[0;34m*\u001b[0m\u001b[0;34m[\u001b[0m\u001b[0mpx\u001b[0m\u001b[0;34m]\u001b[0m\u001b[0;34m)\u001b[0m\u001b[0;34m,\u001b[0m\u001b[0;34m\u001b[0m\u001b[0;34m\u001b[0m\u001b[0m\n",
      "\u001b[0;32m~/Desktop/Workspace/rl4nlk_updated/NLK/particle_propagation/particle_propagation/particle_propagation.py\u001b[0m in \u001b[0;36mpropagation_thousand_rounds\u001b[0;34m(self, x, px, when_activate_NLK, kicker_strength, deterministic)\u001b[0m\n\u001b[1;32m     40\u001b[0m \u001b[0;34m\u001b[0m\u001b[0m\n\u001b[0;32m---> 41\u001b[0;31m         result = self.Propagator.propagation_thousand_rounds(x, px, when_activate_NLK, kicker_strength,\n\u001b[0m\u001b[1;32m     42\u001b[0m                  \u001b[0mnoise_x\u001b[0m \u001b[0;34m=\u001b[0m \u001b[0mself\u001b[0m\u001b[0;34m.\u001b[0m\u001b[0mnoise_x\u001b[0m\u001b[0;34m,\u001b[0m \u001b[0mnoise_px\u001b[0m \u001b[0;34m=\u001b[0m \u001b[0mself\u001b[0m\u001b[0;34m.\u001b[0m\u001b[0mnoise_px\u001b[0m\u001b[0;34m,\u001b[0m \u001b[0mnoise_NLK\u001b[0m \u001b[0;34m=\u001b[0m \u001b[0mself\u001b[0m\u001b[0;34m.\u001b[0m\u001b[0mnoise_NLK\u001b[0m\u001b[0;34m,\u001b[0m\u001b[0;34m\u001b[0m\u001b[0;34m\u001b[0m\u001b[0m\n",
      "\u001b[0;32m~/Desktop/Workspace/rl4nlk_updated/NLK/particle_propagation/particle_propagation/thorscsi_propagation.py\u001b[0m in \u001b[0;36mpropagation_thousand_rounds\u001b[0;34m(self, x_list, px_list, when_activate_NLK, kicker_strength, noise_x, noise_px, noise_NLK, noise_first_round)\u001b[0m\n\u001b[1;32m    312\u001b[0m         \u001b[0ma\u001b[0m\u001b[0;34m=\u001b[0m\u001b[0mtime\u001b[0m\u001b[0;34m.\u001b[0m\u001b[0mtime\u001b[0m\u001b[0;34m(\u001b[0m\u001b[0;34m)\u001b[0m\u001b[0;34m\u001b[0m\u001b[0;34m\u001b[0m\u001b[0m\n\u001b[0;32m--> 313\u001b[0;31m         \u001b[0mresult\u001b[0m \u001b[0;34m=\u001b[0m \u001b[0mself\u001b[0m\u001b[0;34m.\u001b[0m\u001b[0m_run_jobs\u001b[0m\u001b[0;34m(\u001b[0m\u001b[0;34m[\u001b[0m\u001b[0;34m(\u001b[0m\u001b[0;34m'job'\u001b[0m\u001b[0;34m,\u001b[0m \u001b[0mi\u001b[0m\u001b[0;34m)\u001b[0m \u001b[0;32mfor\u001b[0m \u001b[0mi\u001b[0m \u001b[0;32min\u001b[0m \u001b[0mrange\u001b[0m\u001b[0;34m(\u001b[0m\u001b[0;36m0\u001b[0m\u001b[0;34m,\u001b[0m\u001b[0mlen\u001b[0m\u001b[0;34m(\u001b[0m\u001b[0mx_list\u001b[0m\u001b[0;34m)\u001b[0m\u001b[0;34m,\u001b[0m\u001b[0;36m25\u001b[0m\u001b[0;34m)\u001b[0m\u001b[0;34m]\u001b[0m\u001b[0;34m,\u001b[0m \u001b[0mworkers\u001b[0m\u001b[0;34m=\u001b[0m\u001b[0;36m20\u001b[0m\u001b[0;34m)\u001b[0m\u001b[0;34m\u001b[0m\u001b[0;34m\u001b[0m\u001b[0m\n\u001b[0m\u001b[1;32m    314\u001b[0m         \u001b[0mprint\u001b[0m\u001b[0;34m(\u001b[0m\u001b[0;34m\"Needed time:\"\u001b[0m\u001b[0;34m,\u001b[0m \u001b[0mtime\u001b[0m\u001b[0;34m.\u001b[0m\u001b[0mtime\u001b[0m\u001b[0;34m(\u001b[0m\u001b[0;34m)\u001b[0m\u001b[0;34m-\u001b[0m\u001b[0ma\u001b[0m\u001b[0;34m)\u001b[0m\u001b[0;34m\u001b[0m\u001b[0;34m\u001b[0m\u001b[0m\n",
      "\u001b[0;32m~/Desktop/Workspace/rl4nlk_updated/NLK/particle_propagation/particle_propagation/thorscsi_propagation.py\u001b[0m in \u001b[0;36m_run_jobs\u001b[0;34m(self, jobs, workers)\u001b[0m\n\u001b[1;32m    439\u001b[0m         \u001b[0mp\u001b[0m\u001b[0;34m.\u001b[0m\u001b[0mstart\u001b[0m\u001b[0;34m(\u001b[0m\u001b[0;34m)\u001b[0m\u001b[0;34m\u001b[0m\u001b[0;34m\u001b[0m\u001b[0m\n\u001b[0;32m--> 440\u001b[0;31m         \u001b[0mp\u001b[0m\u001b[0;34m.\u001b[0m\u001b[0mjoin\u001b[0m\u001b[0;34m(\u001b[0m\u001b[0;34m)\u001b[0m\u001b[0;34m\u001b[0m\u001b[0;34m\u001b[0m\u001b[0m\n\u001b[0m\u001b[1;32m    441\u001b[0m \u001b[0;34m\u001b[0m\u001b[0m\n",
      "\u001b[0;32m~/anaconda3/lib/python3.8/multiprocessing/process.py\u001b[0m in \u001b[0;36mjoin\u001b[0;34m(self, timeout)\u001b[0m\n\u001b[1;32m    148\u001b[0m         \u001b[0;32massert\u001b[0m \u001b[0mself\u001b[0m\u001b[0;34m.\u001b[0m\u001b[0m_popen\u001b[0m \u001b[0;32mis\u001b[0m \u001b[0;32mnot\u001b[0m \u001b[0;32mNone\u001b[0m\u001b[0;34m,\u001b[0m \u001b[0;34m'can only join a started process'\u001b[0m\u001b[0;34m\u001b[0m\u001b[0;34m\u001b[0m\u001b[0m\n\u001b[0;32m--> 149\u001b[0;31m         \u001b[0mres\u001b[0m \u001b[0;34m=\u001b[0m \u001b[0mself\u001b[0m\u001b[0;34m.\u001b[0m\u001b[0m_popen\u001b[0m\u001b[0;34m.\u001b[0m\u001b[0mwait\u001b[0m\u001b[0;34m(\u001b[0m\u001b[0mtimeout\u001b[0m\u001b[0;34m)\u001b[0m\u001b[0;34m\u001b[0m\u001b[0;34m\u001b[0m\u001b[0m\n\u001b[0m\u001b[1;32m    150\u001b[0m         \u001b[0;32mif\u001b[0m \u001b[0mres\u001b[0m \u001b[0;32mis\u001b[0m \u001b[0;32mnot\u001b[0m \u001b[0;32mNone\u001b[0m\u001b[0;34m:\u001b[0m\u001b[0;34m\u001b[0m\u001b[0;34m\u001b[0m\u001b[0m\n",
      "\u001b[0;32m~/anaconda3/lib/python3.8/multiprocessing/popen_fork.py\u001b[0m in \u001b[0;36mwait\u001b[0;34m(self, timeout)\u001b[0m\n\u001b[1;32m     46\u001b[0m             \u001b[0;31m# This shouldn't block if wait() returned successfully.\u001b[0m\u001b[0;34m\u001b[0m\u001b[0;34m\u001b[0m\u001b[0;34m\u001b[0m\u001b[0m\n\u001b[0;32m---> 47\u001b[0;31m             \u001b[0;32mreturn\u001b[0m \u001b[0mself\u001b[0m\u001b[0;34m.\u001b[0m\u001b[0mpoll\u001b[0m\u001b[0;34m(\u001b[0m\u001b[0mos\u001b[0m\u001b[0;34m.\u001b[0m\u001b[0mWNOHANG\u001b[0m \u001b[0;32mif\u001b[0m \u001b[0mtimeout\u001b[0m \u001b[0;34m==\u001b[0m \u001b[0;36m0.0\u001b[0m \u001b[0;32melse\u001b[0m \u001b[0;36m0\u001b[0m\u001b[0;34m)\u001b[0m\u001b[0;34m\u001b[0m\u001b[0;34m\u001b[0m\u001b[0m\n\u001b[0m\u001b[1;32m     48\u001b[0m         \u001b[0;32mreturn\u001b[0m \u001b[0mself\u001b[0m\u001b[0;34m.\u001b[0m\u001b[0mreturncode\u001b[0m\u001b[0;34m\u001b[0m\u001b[0;34m\u001b[0m\u001b[0m\n",
      "\u001b[0;32m~/anaconda3/lib/python3.8/multiprocessing/popen_fork.py\u001b[0m in \u001b[0;36mpoll\u001b[0;34m(self, flag)\u001b[0m\n\u001b[1;32m     26\u001b[0m             \u001b[0;32mtry\u001b[0m\u001b[0;34m:\u001b[0m\u001b[0;34m\u001b[0m\u001b[0;34m\u001b[0m\u001b[0m\n\u001b[0;32m---> 27\u001b[0;31m                 \u001b[0mpid\u001b[0m\u001b[0;34m,\u001b[0m \u001b[0msts\u001b[0m \u001b[0;34m=\u001b[0m \u001b[0mos\u001b[0m\u001b[0;34m.\u001b[0m\u001b[0mwaitpid\u001b[0m\u001b[0;34m(\u001b[0m\u001b[0mself\u001b[0m\u001b[0;34m.\u001b[0m\u001b[0mpid\u001b[0m\u001b[0;34m,\u001b[0m \u001b[0mflag\u001b[0m\u001b[0;34m)\u001b[0m\u001b[0;34m\u001b[0m\u001b[0;34m\u001b[0m\u001b[0m\n\u001b[0m\u001b[1;32m     28\u001b[0m             \u001b[0;32mexcept\u001b[0m \u001b[0mOSError\u001b[0m \u001b[0;32mas\u001b[0m \u001b[0me\u001b[0m\u001b[0;34m:\u001b[0m\u001b[0;34m\u001b[0m\u001b[0;34m\u001b[0m\u001b[0m\n",
      "\u001b[0;31mKeyboardInterrupt\u001b[0m: ",
      "\nDuring handling of the above exception, another exception occurred:\n",
      "\u001b[0;31mAttributeError\u001b[0m                            Traceback (most recent call last)",
      "\u001b[0;32m~/anaconda3/lib/python3.8/site-packages/IPython/core/interactiveshell.py\u001b[0m in \u001b[0;36mshowtraceback\u001b[0;34m(self, exc_tuple, filename, tb_offset, exception_only, running_compiled_code)\u001b[0m\n\u001b[1;32m   2060\u001b[0m                         \u001b[0;31m# in the engines. This should return a list of strings.\u001b[0m\u001b[0;34m\u001b[0m\u001b[0;34m\u001b[0m\u001b[0;34m\u001b[0m\u001b[0m\n\u001b[0;32m-> 2061\u001b[0;31m                         \u001b[0mstb\u001b[0m \u001b[0;34m=\u001b[0m \u001b[0mvalue\u001b[0m\u001b[0;34m.\u001b[0m\u001b[0m_render_traceback_\u001b[0m\u001b[0;34m(\u001b[0m\u001b[0;34m)\u001b[0m\u001b[0;34m\u001b[0m\u001b[0;34m\u001b[0m\u001b[0m\n\u001b[0m\u001b[1;32m   2062\u001b[0m                     \u001b[0;32mexcept\u001b[0m \u001b[0mException\u001b[0m\u001b[0;34m:\u001b[0m\u001b[0;34m\u001b[0m\u001b[0;34m\u001b[0m\u001b[0m\n",
      "\u001b[0;31mAttributeError\u001b[0m: 'KeyboardInterrupt' object has no attribute '_render_traceback_'",
      "\nDuring handling of the above exception, another exception occurred:\n",
      "\u001b[0;31mTypeError\u001b[0m                                 Traceback (most recent call last)",
      "    \u001b[0;31m[... skipping hidden 1 frame]\u001b[0m\n",
      "\u001b[0;32m~/anaconda3/lib/python3.8/site-packages/IPython/core/interactiveshell.py\u001b[0m in \u001b[0;36mshowtraceback\u001b[0;34m(self, exc_tuple, filename, tb_offset, exception_only, running_compiled_code)\u001b[0m\n\u001b[1;32m   2061\u001b[0m                         \u001b[0mstb\u001b[0m \u001b[0;34m=\u001b[0m \u001b[0mvalue\u001b[0m\u001b[0;34m.\u001b[0m\u001b[0m_render_traceback_\u001b[0m\u001b[0;34m(\u001b[0m\u001b[0;34m)\u001b[0m\u001b[0;34m\u001b[0m\u001b[0;34m\u001b[0m\u001b[0m\n\u001b[1;32m   2062\u001b[0m                     \u001b[0;32mexcept\u001b[0m \u001b[0mException\u001b[0m\u001b[0;34m:\u001b[0m\u001b[0;34m\u001b[0m\u001b[0;34m\u001b[0m\u001b[0m\n\u001b[0;32m-> 2063\u001b[0;31m                         stb = self.InteractiveTB.structured_traceback(etype,\n\u001b[0m\u001b[1;32m   2064\u001b[0m                                             value, tb, tb_offset=tb_offset)\n\u001b[1;32m   2065\u001b[0m \u001b[0;34m\u001b[0m\u001b[0m\n",
      "\u001b[0;32m~/anaconda3/lib/python3.8/site-packages/IPython/core/ultratb.py\u001b[0m in \u001b[0;36mstructured_traceback\u001b[0;34m(self, etype, value, tb, tb_offset, number_of_lines_of_context)\u001b[0m\n\u001b[1;32m   1365\u001b[0m         \u001b[0;32melse\u001b[0m\u001b[0;34m:\u001b[0m\u001b[0;34m\u001b[0m\u001b[0;34m\u001b[0m\u001b[0m\n\u001b[1;32m   1366\u001b[0m             \u001b[0mself\u001b[0m\u001b[0;34m.\u001b[0m\u001b[0mtb\u001b[0m \u001b[0;34m=\u001b[0m \u001b[0mtb\u001b[0m\u001b[0;34m\u001b[0m\u001b[0;34m\u001b[0m\u001b[0m\n\u001b[0;32m-> 1367\u001b[0;31m         return FormattedTB.structured_traceback(\n\u001b[0m\u001b[1;32m   1368\u001b[0m             self, etype, value, tb, tb_offset, number_of_lines_of_context)\n\u001b[1;32m   1369\u001b[0m \u001b[0;34m\u001b[0m\u001b[0m\n",
      "\u001b[0;32m~/anaconda3/lib/python3.8/site-packages/IPython/core/ultratb.py\u001b[0m in \u001b[0;36mstructured_traceback\u001b[0;34m(self, etype, value, tb, tb_offset, number_of_lines_of_context)\u001b[0m\n\u001b[1;32m   1265\u001b[0m         \u001b[0;32mif\u001b[0m \u001b[0mmode\u001b[0m \u001b[0;32min\u001b[0m \u001b[0mself\u001b[0m\u001b[0;34m.\u001b[0m\u001b[0mverbose_modes\u001b[0m\u001b[0;34m:\u001b[0m\u001b[0;34m\u001b[0m\u001b[0;34m\u001b[0m\u001b[0m\n\u001b[1;32m   1266\u001b[0m             \u001b[0;31m# Verbose modes need a full traceback\u001b[0m\u001b[0;34m\u001b[0m\u001b[0;34m\u001b[0m\u001b[0;34m\u001b[0m\u001b[0m\n\u001b[0;32m-> 1267\u001b[0;31m             return VerboseTB.structured_traceback(\n\u001b[0m\u001b[1;32m   1268\u001b[0m                 \u001b[0mself\u001b[0m\u001b[0;34m,\u001b[0m \u001b[0metype\u001b[0m\u001b[0;34m,\u001b[0m \u001b[0mvalue\u001b[0m\u001b[0;34m,\u001b[0m \u001b[0mtb\u001b[0m\u001b[0;34m,\u001b[0m \u001b[0mtb_offset\u001b[0m\u001b[0;34m,\u001b[0m \u001b[0mnumber_of_lines_of_context\u001b[0m\u001b[0;34m\u001b[0m\u001b[0;34m\u001b[0m\u001b[0m\n\u001b[1;32m   1269\u001b[0m             )\n",
      "\u001b[0;32m~/anaconda3/lib/python3.8/site-packages/IPython/core/ultratb.py\u001b[0m in \u001b[0;36mstructured_traceback\u001b[0;34m(self, etype, evalue, etb, tb_offset, number_of_lines_of_context)\u001b[0m\n\u001b[1;32m   1122\u001b[0m         \u001b[0;34m\"\"\"Return a nice text document describing the traceback.\"\"\"\u001b[0m\u001b[0;34m\u001b[0m\u001b[0;34m\u001b[0m\u001b[0m\n\u001b[1;32m   1123\u001b[0m \u001b[0;34m\u001b[0m\u001b[0m\n\u001b[0;32m-> 1124\u001b[0;31m         formatted_exception = self.format_exception_as_a_whole(etype, evalue, etb, number_of_lines_of_context,\n\u001b[0m\u001b[1;32m   1125\u001b[0m                                                                tb_offset)\n\u001b[1;32m   1126\u001b[0m \u001b[0;34m\u001b[0m\u001b[0m\n",
      "\u001b[0;32m~/anaconda3/lib/python3.8/site-packages/IPython/core/ultratb.py\u001b[0m in \u001b[0;36mformat_exception_as_a_whole\u001b[0;34m(self, etype, evalue, etb, number_of_lines_of_context, tb_offset)\u001b[0m\n\u001b[1;32m   1080\u001b[0m \u001b[0;34m\u001b[0m\u001b[0m\n\u001b[1;32m   1081\u001b[0m \u001b[0;34m\u001b[0m\u001b[0m\n\u001b[0;32m-> 1082\u001b[0;31m         \u001b[0mlast_unique\u001b[0m\u001b[0;34m,\u001b[0m \u001b[0mrecursion_repeat\u001b[0m \u001b[0;34m=\u001b[0m \u001b[0mfind_recursion\u001b[0m\u001b[0;34m(\u001b[0m\u001b[0morig_etype\u001b[0m\u001b[0;34m,\u001b[0m \u001b[0mevalue\u001b[0m\u001b[0;34m,\u001b[0m \u001b[0mrecords\u001b[0m\u001b[0;34m)\u001b[0m\u001b[0;34m\u001b[0m\u001b[0;34m\u001b[0m\u001b[0m\n\u001b[0m\u001b[1;32m   1083\u001b[0m \u001b[0;34m\u001b[0m\u001b[0m\n\u001b[1;32m   1084\u001b[0m         \u001b[0mframes\u001b[0m \u001b[0;34m=\u001b[0m \u001b[0mself\u001b[0m\u001b[0;34m.\u001b[0m\u001b[0mformat_records\u001b[0m\u001b[0;34m(\u001b[0m\u001b[0mrecords\u001b[0m\u001b[0;34m,\u001b[0m \u001b[0mlast_unique\u001b[0m\u001b[0;34m,\u001b[0m \u001b[0mrecursion_repeat\u001b[0m\u001b[0;34m)\u001b[0m\u001b[0;34m\u001b[0m\u001b[0;34m\u001b[0m\u001b[0m\n",
      "\u001b[0;32m~/anaconda3/lib/python3.8/site-packages/IPython/core/ultratb.py\u001b[0m in \u001b[0;36mfind_recursion\u001b[0;34m(etype, value, records)\u001b[0m\n\u001b[1;32m    380\u001b[0m     \u001b[0;31m# first frame (from in to out) that looks different.\u001b[0m\u001b[0;34m\u001b[0m\u001b[0;34m\u001b[0m\u001b[0;34m\u001b[0m\u001b[0m\n\u001b[1;32m    381\u001b[0m     \u001b[0;32mif\u001b[0m \u001b[0;32mnot\u001b[0m \u001b[0mis_recursion_error\u001b[0m\u001b[0;34m(\u001b[0m\u001b[0metype\u001b[0m\u001b[0;34m,\u001b[0m \u001b[0mvalue\u001b[0m\u001b[0;34m,\u001b[0m \u001b[0mrecords\u001b[0m\u001b[0;34m)\u001b[0m\u001b[0;34m:\u001b[0m\u001b[0;34m\u001b[0m\u001b[0;34m\u001b[0m\u001b[0m\n\u001b[0;32m--> 382\u001b[0;31m         \u001b[0;32mreturn\u001b[0m \u001b[0mlen\u001b[0m\u001b[0;34m(\u001b[0m\u001b[0mrecords\u001b[0m\u001b[0;34m)\u001b[0m\u001b[0;34m,\u001b[0m \u001b[0;36m0\u001b[0m\u001b[0;34m\u001b[0m\u001b[0;34m\u001b[0m\u001b[0m\n\u001b[0m\u001b[1;32m    383\u001b[0m \u001b[0;34m\u001b[0m\u001b[0m\n\u001b[1;32m    384\u001b[0m     \u001b[0;31m# Select filename, lineno, func_name to track frames with\u001b[0m\u001b[0;34m\u001b[0m\u001b[0;34m\u001b[0m\u001b[0;34m\u001b[0m\u001b[0m\n",
      "\u001b[0;31mTypeError\u001b[0m: object of type 'NoneType' has no len()"
     ]
    }
   ],
   "source": [
    "for k in range(5):\n",
    "    plot_steerer_noise(0.016,-0.00025)   #not optimal settings. MUSS WIEDERHOLT WERDEN MIT BESSEREN SETTINGS"
   ]
  },
  {
   "cell_type": "code",
   "execution_count": null,
   "id": "e04a9b8a",
   "metadata": {},
   "outputs": [],
   "source": []
  },
  {
   "cell_type": "code",
   "execution_count": null,
   "id": "54c70d87",
   "metadata": {},
   "outputs": [],
   "source": []
  },
  {
   "cell_type": "code",
   "execution_count": null,
   "id": "4d0b6c1d",
   "metadata": {},
   "outputs": [],
   "source": []
  },
  {
   "cell_type": "code",
   "execution_count": null,
   "id": "ec6c828e",
   "metadata": {},
   "outputs": [],
   "source": []
  },
  {
   "cell_type": "code",
   "execution_count": 4,
   "id": "acb24e7c",
   "metadata": {
    "scrolled": true
   },
   "outputs": [
    {
     "name": "stdout",
     "output_type": "stream",
     "text": [
      "Needed time: 160.00495624542236\n"
     ]
    },
    {
     "data": {
      "image/png": "[encoded data removed]",
      "text/plain": [
       "<Figure size 648x360 with 1 Axes>"
      ]
     },
     "metadata": {
      "needs_background": "light"
     },
     "output_type": "display_data"
    },
    {
     "name": "stdout",
     "output_type": "stream",
     "text": [
      "946.0\n",
      "Needed time: 175.89177465438843\n"
     ]
    },
    {
     "data": {
      "image/png": "[encoded data removed]",
      "text/plain": [
       "<Figure size 648x360 with 1 Axes>"
      ]
     },
     "metadata": {
      "needs_background": "light"
     },
     "output_type": "display_data"
    },
    {
     "name": "stdout",
     "output_type": "stream",
     "text": [
      "935.0\n",
      "Needed time: 189.1787497997284\n"
     ]
    },
    {
     "data": {
      "image/png": "[encoded data removed]",
      "text/plain": [
       "<Figure size 648x360 with 1 Axes>"
      ]
     },
     "metadata": {
      "needs_background": "light"
     },
     "output_type": "display_data"
    },
    {
     "name": "stdout",
     "output_type": "stream",
     "text": [
      "944.0\n",
      "Needed time: 195.14375352859497\n"
     ]
    },
    {
     "data": {
      "image/png": "[encoded data removed]",
      "text/plain": [
       "<Figure size 648x360 with 1 Axes>"
      ]
     },
     "metadata": {
      "needs_background": "light"
     },
     "output_type": "display_data"
    },
    {
     "name": "stdout",
     "output_type": "stream",
     "text": [
      "941.0\n",
      "Needed time: 195.44931364059448\n"
     ]
    },
    {
     "data": {
      "image/png": "[encoded data removed]",
      "text/plain": [
       "<Figure size 648x360 with 1 Axes>"
      ]
     },
     "metadata": {
      "needs_background": "light"
     },
     "output_type": "display_data"
    },
    {
     "name": "stdout",
     "output_type": "stream",
     "text": [
      "943.0\n"
     ]
    }
   ],
   "source": [
    "for k in range(5):\n",
    "    plot_steerer_noise(0.0164,0,noise_first_round = 65e-6,noise_x = 6.5e-6,noise_px = .8*6.5e-6,noise_NLK = 0.025)"
   ]
  },
  {
   "cell_type": "code",
   "execution_count": null,
   "id": "84e720d1",
   "metadata": {},
   "outputs": [],
   "source": []
  },
  {
   "cell_type": "code",
   "execution_count": null,
   "id": "309e35fb",
   "metadata": {},
   "outputs": [],
   "source": []
  },
  {
   "cell_type": "code",
   "execution_count": null,
   "id": "8bac4908",
   "metadata": {},
   "outputs": [],
   "source": []
  },
  {
   "cell_type": "markdown",
   "id": "ff56e3b5",
   "metadata": {},
   "source": [
    "## How many electrons survive non-optimal kicks?"
   ]
  },
  {
   "cell_type": "code",
   "execution_count": 5,
   "id": "0c82547b",
   "metadata": {},
   "outputs": [
    {
     "data": {
      "text/plain": [
       "4"
      ]
     },
     "execution_count": 5,
     "metadata": {},
     "output_type": "execute_result"
    }
   ],
   "source": [
    "np.argmax([1,2,3,4,5])"
   ]
  },
  {
   "cell_type": "markdown",
   "id": "9e7ad699",
   "metadata": {},
   "source": [
    "Dependent on the action strength, we calculated here how many electrons survive the injection"
   ]
  },
  {
   "cell_type": "code",
   "execution_count": 3,
   "id": "b9775818",
   "metadata": {},
   "outputs": [],
   "source": [
    "import tqdm\n",
    "\n",
    "def plot_importance_kicker_strength(kicker_strengths):\n",
    "    output_list = []\n",
    "    \n",
    "    propagator2 = Particle_Propagator(Thor_SCSI_Propagator)\n",
    "    propagator2.given_noise_NLK = 0.0\n",
    "    propagator2.given_noise_first_round = propagator2.given_noise_x\n",
    "    \n",
    "    for kicker_strength in tqdm.tqdm(kicker_strengths):\n",
    "        result, _,_ = propagator2.propagation_thousand_rounds(\n",
    "                                        np.array(1000*[0.016]), np.array(1000*[-0.00025]), \n",
    "                                        when_activate_NLK = 4,kicker_strength = kicker_strength)\n",
    "        output_list.append(result)\n",
    "    \n",
    "    plt.figure(figsize=(9,5))\n",
    "    plt.plot(kicker_strengths, output_list)\n",
    "    plt.axvline(x=kicker_strengths[np.argmax(output_list)],ls=\"--\",c=\"g\")   #optimal kicker value\n",
    "    plt.title(\"Electron survival given different kicker_strengths\")\n",
    "    plt.xlabel(\"Kicker strength\")\n",
    "    plt.ylabel(\"Electron survival (out of 1000)\")\n",
    "    plt.show()\n",
    "    \n",
    "    print(\"Best Kicker strength is:\", kicker_strengths[np.argmax(output_list)])\n",
    "    \n",
    "    return output_list\n",
    "    \n"
   ]
  },
  {
   "cell_type": "code",
   "execution_count": null,
   "id": "9185b97e",
   "metadata": {},
   "outputs": [],
   "source": []
  },
  {
   "cell_type": "code",
   "execution_count": null,
   "id": "58fbb593",
   "metadata": {},
   "outputs": [],
   "source": []
  },
  {
   "cell_type": "code",
   "execution_count": null,
   "id": "bc486bed",
   "metadata": {},
   "outputs": [],
   "source": []
  },
  {
   "cell_type": "code",
   "execution_count": null,
   "id": "31e5ce72",
   "metadata": {},
   "outputs": [],
   "source": []
  },
  {
   "cell_type": "code",
   "execution_count": 5,
   "id": "7418fcee",
   "metadata": {},
   "outputs": [
    {
     "data": {
      "text/plain": [
       "array([-0.3       , -0.29633028, -0.29266055, -0.28899083, -0.2853211 ,\n",
       "       -0.28165138, -0.27798165, -0.27431193, -0.2706422 , -0.26697248,\n",
       "       -0.26330275, -0.25963303, -0.2559633 , -0.25229358, -0.24862385,\n",
       "       -0.24495413, -0.2412844 , -0.23761468, -0.23394495, -0.23027523,\n",
       "       -0.2266055 , -0.22293578, -0.21926606, -0.21559633, -0.21192661,\n",
       "       -0.20825688, -0.20458716, -0.20091743, -0.19724771, -0.19357798,\n",
       "       -0.18990826, -0.18623853, -0.18256881, -0.17889908, -0.17522936,\n",
       "       -0.17155963, -0.16788991, -0.16422018, -0.16055046, -0.15688073,\n",
       "       -0.15321101, -0.14954128, -0.14587156, -0.14220183, -0.13853211,\n",
       "       -0.13486239, -0.13119266, -0.12752294, -0.12385321, -0.12018349,\n",
       "       -0.11651376, -0.11284404, -0.10917431, -0.10550459, -0.10183486,\n",
       "       -0.09816514, -0.09449541, -0.09082569, -0.08715596, -0.08348624,\n",
       "       -0.07981651, -0.07614679, -0.07247706, -0.06880734, -0.06513761,\n",
       "       -0.06146789, -0.05779817, -0.05412844, -0.05045872, -0.04678899,\n",
       "       -0.04311927, -0.03944954, -0.03577982, -0.03211009, -0.02844037,\n",
       "       -0.02477064, -0.02110092, -0.01743119, -0.01376147, -0.01009174,\n",
       "       -0.00642202, -0.00275229,  0.00091743,  0.00458716,  0.00825688,\n",
       "        0.01192661,  0.01559633,  0.01926606,  0.02293578,  0.0266055 ,\n",
       "        0.03027523,  0.03394495,  0.03761468,  0.0412844 ,  0.04495413,\n",
       "        0.04862385,  0.05229358,  0.0559633 ,  0.05963303,  0.06330275,\n",
       "        0.06697248,  0.0706422 ,  0.07431193,  0.07798165,  0.08165138,\n",
       "        0.0853211 ,  0.08899083,  0.09266055,  0.09633028,  0.1       ])"
      ]
     },
     "execution_count": 5,
     "metadata": {},
     "output_type": "execute_result"
    }
   ],
   "source": [
    "import numpy as np\n",
    "kicker_strengths = np.linspace(-.3,.3,110) \n",
    "kicker_strengths"
   ]
  },
  {
   "cell_type": "code",
   "execution_count": 6,
   "id": "592e4da3",
   "metadata": {},
   "outputs": [
    {
     "name": "stderr",
     "output_type": "stream",
     "text": [
      "  1%|          | 1/110 [00:04<08:59,  4.95s/it]"
     ]
    },
    {
     "name": "stdout",
     "output_type": "stream",
     "text": [
      "Needed time: 4.949240207672119\n"
     ]
    },
    {
     "name": "stderr",
     "output_type": "stream",
     "text": [
      "\r",
      "  2%|▏         | 2/110 [00:09<08:42,  4.84s/it]"
     ]
    },
    {
     "name": "stdout",
     "output_type": "stream",
     "text": [
      "Needed time: 4.760936975479126\n"
     ]
    },
    {
     "name": "stderr",
     "output_type": "stream",
     "text": [
      "\r",
      "  3%|▎         | 3/110 [00:14<08:38,  4.85s/it]"
     ]
    },
    {
     "name": "stdout",
     "output_type": "stream",
     "text": [
      "Needed time: 4.857396125793457\n"
     ]
    },
    {
     "name": "stderr",
     "output_type": "stream",
     "text": [
      "\r",
      "  4%|▎         | 4/110 [00:19<08:37,  4.88s/it]"
     ]
    },
    {
     "name": "stdout",
     "output_type": "stream",
     "text": [
      "Needed time: 4.931077480316162\n"
     ]
    },
    {
     "name": "stderr",
     "output_type": "stream",
     "text": [
      "\r",
      "  5%|▍         | 5/110 [00:24<08:26,  4.82s/it]"
     ]
    },
    {
     "name": "stdout",
     "output_type": "stream",
     "text": [
      "Needed time: 4.707380771636963\n"
     ]
    },
    {
     "name": "stderr",
     "output_type": "stream",
     "text": [
      "\r",
      "  5%|▌         | 6/110 [00:28<08:16,  4.78s/it]"
     ]
    },
    {
     "name": "stdout",
     "output_type": "stream",
     "text": [
      "Needed time: 4.694371461868286\n"
     ]
    },
    {
     "name": "stderr",
     "output_type": "stream",
     "text": [
      "\r",
      "  6%|▋         | 7/110 [00:33<08:09,  4.75s/it]"
     ]
    },
    {
     "name": "stdout",
     "output_type": "stream",
     "text": [
      "Needed time: 4.687650680541992\n"
     ]
    },
    {
     "name": "stderr",
     "output_type": "stream",
     "text": [
      "\r",
      "  7%|▋         | 8/110 [00:38<08:04,  4.75s/it]"
     ]
    },
    {
     "name": "stdout",
     "output_type": "stream",
     "text": [
      "Needed time: 4.758558988571167\n"
     ]
    },
    {
     "name": "stderr",
     "output_type": "stream",
     "text": [
      "\r",
      "  8%|▊         | 9/110 [00:43<08:00,  4.75s/it]"
     ]
    },
    {
     "name": "stdout",
     "output_type": "stream",
     "text": [
      "Needed time: 4.754026412963867\n"
     ]
    },
    {
     "name": "stderr",
     "output_type": "stream",
     "text": [
      "\r",
      "  9%|▉         | 10/110 [00:47<07:58,  4.78s/it]"
     ]
    },
    {
     "name": "stdout",
     "output_type": "stream",
     "text": [
      "Needed time: 4.852201700210571\n"
     ]
    },
    {
     "name": "stderr",
     "output_type": "stream",
     "text": [
      "\r",
      " 10%|█         | 11/110 [00:52<07:52,  4.77s/it]"
     ]
    },
    {
     "name": "stdout",
     "output_type": "stream",
     "text": [
      "Needed time: 4.735802412033081\n"
     ]
    },
    {
     "name": "stderr",
     "output_type": "stream",
     "text": [
      "\r",
      " 11%|█         | 12/110 [00:57<07:45,  4.75s/it]"
     ]
    },
    {
     "name": "stdout",
     "output_type": "stream",
     "text": [
      "Needed time: 4.71576714515686\n"
     ]
    },
    {
     "name": "stderr",
     "output_type": "stream",
     "text": [
      "\r",
      " 12%|█▏        | 13/110 [01:02<07:39,  4.74s/it]"
     ]
    },
    {
     "name": "stdout",
     "output_type": "stream",
     "text": [
      "Needed time: 4.71088171005249\n"
     ]
    },
    {
     "name": "stderr",
     "output_type": "stream",
     "text": [
      "\r",
      " 13%|█▎        | 14/110 [01:07<07:38,  4.78s/it]"
     ]
    },
    {
     "name": "stdout",
     "output_type": "stream",
     "text": [
      "Needed time: 4.864572048187256\n"
     ]
    },
    {
     "name": "stderr",
     "output_type": "stream",
     "text": [
      "\r",
      " 14%|█▎        | 15/110 [01:11<07:32,  4.76s/it]"
     ]
    },
    {
     "name": "stdout",
     "output_type": "stream",
     "text": [
      "Needed time: 4.721504211425781\n"
     ]
    },
    {
     "name": "stderr",
     "output_type": "stream",
     "text": [
      "\r",
      " 15%|█▍        | 16/110 [01:16<07:28,  4.77s/it]"
     ]
    },
    {
     "name": "stdout",
     "output_type": "stream",
     "text": [
      "Needed time: 4.77338171005249\n"
     ]
    },
    {
     "name": "stderr",
     "output_type": "stream",
     "text": [
      "\r",
      " 15%|█▌        | 17/110 [01:21<07:21,  4.75s/it]"
     ]
    },
    {
     "name": "stdout",
     "output_type": "stream",
     "text": [
      "Needed time: 4.714536905288696\n"
     ]
    },
    {
     "name": "stderr",
     "output_type": "stream",
     "text": [
      "\r",
      " 16%|█▋        | 18/110 [01:26<07:19,  4.77s/it]"
     ]
    },
    {
     "name": "stdout",
     "output_type": "stream",
     "text": [
      "Needed time: 4.820361614227295\n"
     ]
    },
    {
     "name": "stderr",
     "output_type": "stream",
     "text": [
      "\r",
      " 17%|█▋        | 19/110 [01:30<07:08,  4.71s/it]"
     ]
    },
    {
     "name": "stdout",
     "output_type": "stream",
     "text": [
      "Needed time: 4.569751977920532\n"
     ]
    },
    {
     "name": "stderr",
     "output_type": "stream",
     "text": [
      "\r",
      " 18%|█▊        | 20/110 [01:37<08:04,  5.38s/it]"
     ]
    },
    {
     "name": "stdout",
     "output_type": "stream",
     "text": [
      "Needed time: 6.949294805526733\n"
     ]
    },
    {
     "name": "stderr",
     "output_type": "stream",
     "text": [
      "\r",
      " 19%|█▉        | 21/110 [01:44<08:47,  5.92s/it]"
     ]
    },
    {
     "name": "stdout",
     "output_type": "stream",
     "text": [
      "Needed time: 7.17290735244751\n"
     ]
    },
    {
     "name": "stderr",
     "output_type": "stream",
     "text": [
      "\r",
      " 20%|██        | 22/110 [01:51<09:07,  6.22s/it]"
     ]
    },
    {
     "name": "stdout",
     "output_type": "stream",
     "text": [
      "Needed time: 6.907271385192871\n"
     ]
    },
    {
     "name": "stderr",
     "output_type": "stream",
     "text": [
      "\r",
      " 21%|██        | 23/110 [01:58<09:21,  6.45s/it]"
     ]
    },
    {
     "name": "stdout",
     "output_type": "stream",
     "text": [
      "Needed time: 6.9906005859375\n"
     ]
    },
    {
     "name": "stderr",
     "output_type": "stream",
     "text": [
      "\r",
      " 22%|██▏       | 24/110 [02:05<09:27,  6.60s/it]"
     ]
    },
    {
     "name": "stdout",
     "output_type": "stream",
     "text": [
      "Needed time: 6.954436302185059\n"
     ]
    },
    {
     "name": "stderr",
     "output_type": "stream",
     "text": [
      "\r",
      " 23%|██▎       | 25/110 [02:13<09:50,  6.95s/it]"
     ]
    },
    {
     "name": "stdout",
     "output_type": "stream",
     "text": [
      "Needed time: 7.756697416305542\n"
     ]
    },
    {
     "name": "stderr",
     "output_type": "stream",
     "text": [
      "\r",
      " 24%|██▎       | 26/110 [02:23<10:59,  7.85s/it]"
     ]
    },
    {
     "name": "stdout",
     "output_type": "stream",
     "text": [
      "Needed time: 9.949513673782349\n"
     ]
    },
    {
     "name": "stderr",
     "output_type": "stream",
     "text": [
      "\r",
      " 25%|██▍       | 27/110 [02:33<11:52,  8.58s/it]"
     ]
    },
    {
     "name": "stdout",
     "output_type": "stream",
     "text": [
      "Needed time: 10.282783508300781\n"
     ]
    },
    {
     "name": "stderr",
     "output_type": "stream",
     "text": [
      "\r",
      " 25%|██▌       | 28/110 [02:45<13:08,  9.61s/it]"
     ]
    },
    {
     "name": "stdout",
     "output_type": "stream",
     "text": [
      "Needed time: 12.013105154037476\n"
     ]
    },
    {
     "name": "stderr",
     "output_type": "stream",
     "text": [
      "\r",
      " 26%|██▋       | 29/110 [03:01<15:36, 11.56s/it]"
     ]
    },
    {
     "name": "stdout",
     "output_type": "stream",
     "text": [
      "Needed time: 16.113728523254395\n"
     ]
    },
    {
     "name": "stderr",
     "output_type": "stream",
     "text": [
      "\r",
      " 27%|██▋       | 30/110 [03:20<18:17, 13.72s/it]"
     ]
    },
    {
     "name": "stdout",
     "output_type": "stream",
     "text": [
      "Needed time: 18.748849630355835\n"
     ]
    },
    {
     "name": "stderr",
     "output_type": "stream",
     "text": [
      "\r",
      " 28%|██▊       | 31/110 [03:46<22:54, 17.40s/it]"
     ]
    },
    {
     "name": "stdout",
     "output_type": "stream",
     "text": [
      "Needed time: 25.97868847846985\n"
     ]
    },
    {
     "name": "stderr",
     "output_type": "stream",
     "text": [
      "\r",
      " 29%|██▉       | 32/110 [04:14<26:46, 20.59s/it]"
     ]
    },
    {
     "name": "stdout",
     "output_type": "stream",
     "text": [
      "Needed time: 28.045112133026123\n"
     ]
    },
    {
     "name": "stderr",
     "output_type": "stream",
     "text": [
      "\r",
      " 30%|███       | 33/110 [04:58<35:23, 27.58s/it]"
     ]
    },
    {
     "name": "stdout",
     "output_type": "stream",
     "text": [
      "Needed time: 43.87274789810181\n"
     ]
    },
    {
     "name": "stderr",
     "output_type": "stream",
     "text": [
      "\r",
      " 31%|███       | 34/110 [05:47<43:09, 34.07s/it]"
     ]
    },
    {
     "name": "stdout",
     "output_type": "stream",
     "text": [
      "Needed time: 49.23132610321045\n"
     ]
    },
    {
     "name": "stderr",
     "output_type": "stream",
     "text": [
      "\r",
      " 32%|███▏      | 35/110 [06:49<52:50, 42.27s/it]"
     ]
    },
    {
     "name": "stdout",
     "output_type": "stream",
     "text": [
      "Needed time: 61.40638589859009\n"
     ]
    },
    {
     "name": "stderr",
     "output_type": "stream",
     "text": [
      "\r",
      " 33%|███▎      | 36/110 [08:06<1:05:05, 52.78s/it]"
     ]
    },
    {
     "name": "stdout",
     "output_type": "stream",
     "text": [
      "Needed time: 77.28731155395508\n"
     ]
    },
    {
     "name": "stderr",
     "output_type": "stream",
     "text": [
      "\r",
      " 34%|███▎      | 37/110 [09:43<1:20:21, 66.05s/it]"
     ]
    },
    {
     "name": "stdout",
     "output_type": "stream",
     "text": [
      "Needed time: 97.02390241622925\n"
     ]
    },
    {
     "name": "stderr",
     "output_type": "stream",
     "text": [
      "\r",
      " 35%|███▍      | 38/110 [11:29<1:33:34, 77.97s/it]"
     ]
    },
    {
     "name": "stdout",
     "output_type": "stream",
     "text": [
      "Needed time: 105.78677916526794\n"
     ]
    },
    {
     "name": "stderr",
     "output_type": "stream",
     "text": [
      "\r",
      " 35%|███▌      | 39/110 [13:28<1:46:56, 90.37s/it]"
     ]
    },
    {
     "name": "stdout",
     "output_type": "stream",
     "text": [
      "Needed time: 119.30515599250793\n"
     ]
    },
    {
     "name": "stderr",
     "output_type": "stream",
     "text": [
      "\r",
      " 36%|███▋      | 40/110 [15:44<2:01:21, 104.03s/it]"
     ]
    },
    {
     "name": "stdout",
     "output_type": "stream",
     "text": [
      "Needed time: 135.88034772872925\n"
     ]
    },
    {
     "name": "stderr",
     "output_type": "stream",
     "text": [
      "\r",
      " 37%|███▋      | 41/110 [18:19<2:17:06, 119.23s/it]"
     ]
    },
    {
     "name": "stdout",
     "output_type": "stream",
     "text": [
      "Needed time: 154.69102239608765\n"
     ]
    },
    {
     "name": "stderr",
     "output_type": "stream",
     "text": [
      "\r",
      " 38%|███▊      | 42/110 [20:58<2:28:55, 131.41s/it]"
     ]
    },
    {
     "name": "stdout",
     "output_type": "stream",
     "text": [
      "Needed time: 159.82131814956665\n"
     ]
    },
    {
     "name": "stderr",
     "output_type": "stream",
     "text": [
      "\r",
      " 39%|███▉      | 43/110 [23:29<2:33:04, 137.08s/it]"
     ]
    },
    {
     "name": "stdout",
     "output_type": "stream",
     "text": [
      "Needed time: 150.3269248008728\n"
     ]
    },
    {
     "name": "stderr",
     "output_type": "stream",
     "text": [
      "\r",
      " 40%|████      | 44/110 [26:00<2:35:33, 141.41s/it]"
     ]
    },
    {
     "name": "stdout",
     "output_type": "stream",
     "text": [
      "Needed time: 151.50506210327148\n"
     ]
    },
    {
     "name": "stderr",
     "output_type": "stream",
     "text": [
      "\r",
      " 41%|████      | 45/110 [28:32<2:36:26, 144.41s/it]"
     ]
    },
    {
     "name": "stdout",
     "output_type": "stream",
     "text": [
      "Needed time: 151.3975269794464\n"
     ]
    },
    {
     "name": "stderr",
     "output_type": "stream",
     "text": [
      "\r",
      " 42%|████▏     | 46/110 [31:03<2:36:18, 146.53s/it]"
     ]
    },
    {
     "name": "stdout",
     "output_type": "stream",
     "text": [
      "Needed time: 151.4963457584381\n"
     ]
    },
    {
     "name": "stderr",
     "output_type": "stream",
     "text": [
      "\r",
      " 43%|████▎     | 47/110 [33:35<2:35:40, 148.27s/it]"
     ]
    },
    {
     "name": "stdout",
     "output_type": "stream",
     "text": [
      "Needed time: 152.31426978111267\n"
     ]
    },
    {
     "name": "stderr",
     "output_type": "stream",
     "text": [
      "\r",
      " 44%|████▎     | 48/110 [36:09<2:34:54, 149.90s/it]"
     ]
    },
    {
     "name": "stdout",
     "output_type": "stream",
     "text": [
      "Needed time: 153.7154757976532\n"
     ]
    },
    {
     "name": "stderr",
     "output_type": "stream",
     "text": [
      "\r",
      " 45%|████▍     | 49/110 [38:48<2:35:03, 152.52s/it]"
     ]
    },
    {
     "name": "stdout",
     "output_type": "stream",
     "text": [
      "Needed time: 158.6104826927185\n"
     ]
    },
    {
     "name": "stderr",
     "output_type": "stream",
     "text": [
      "\r",
      " 45%|████▌     | 50/110 [41:41<2:38:42, 158.70s/it]"
     ]
    },
    {
     "name": "stdout",
     "output_type": "stream",
     "text": [
      "Needed time: 173.1366081237793\n"
     ]
    },
    {
     "name": "stderr",
     "output_type": "stream",
     "text": [
      "\r",
      " 46%|████▋     | 51/110 [44:41<2:42:14, 164.99s/it]"
     ]
    },
    {
     "name": "stdout",
     "output_type": "stream",
     "text": [
      "Needed time: 179.64655804634094\n"
     ]
    },
    {
     "name": "stderr",
     "output_type": "stream",
     "text": [
      "\r",
      " 47%|████▋     | 52/110 [47:31<2:41:01, 166.57s/it]"
     ]
    },
    {
     "name": "stdout",
     "output_type": "stream",
     "text": [
      "Needed time: 170.26774644851685\n"
     ]
    },
    {
     "name": "stderr",
     "output_type": "stream",
     "text": [
      "\r",
      " 48%|████▊     | 53/110 [50:40<2:44:49, 173.50s/it]"
     ]
    },
    {
     "name": "stdout",
     "output_type": "stream",
     "text": [
      "Needed time: 189.6748116016388\n"
     ]
    },
    {
     "name": "stderr",
     "output_type": "stream",
     "text": [
      "\r",
      " 49%|████▉     | 54/110 [53:47<2:45:31, 177.34s/it]"
     ]
    },
    {
     "name": "stdout",
     "output_type": "stream",
     "text": [
      "Needed time: 186.3045699596405\n"
     ]
    },
    {
     "name": "stderr",
     "output_type": "stream",
     "text": [
      "\r",
      " 50%|█████     | 55/110 [56:49<2:43:50, 178.74s/it]"
     ]
    },
    {
     "name": "stdout",
     "output_type": "stream",
     "text": [
      "Needed time: 181.99359512329102\n"
     ]
    },
    {
     "name": "stderr",
     "output_type": "stream",
     "text": [
      "\r",
      " 51%|█████     | 56/110 [59:47<2:40:44, 178.61s/it]"
     ]
    },
    {
     "name": "stdout",
     "output_type": "stream",
     "text": [
      "Needed time: 178.29076886177063\n"
     ]
    },
    {
     "name": "stderr",
     "output_type": "stream",
     "text": [
      "\r",
      " 52%|█████▏    | 57/110 [1:02:45<2:37:40, 178.51s/it]"
     ]
    },
    {
     "name": "stdout",
     "output_type": "stream",
     "text": [
      "Needed time: 178.28290843963623\n"
     ]
    },
    {
     "name": "stderr",
     "output_type": "stream",
     "text": [
      "\r",
      " 53%|█████▎    | 58/110 [1:05:50<2:36:18, 180.35s/it]"
     ]
    },
    {
     "name": "stdout",
     "output_type": "stream",
     "text": [
      "Needed time: 184.64639353752136\n"
     ]
    },
    {
     "name": "stderr",
     "output_type": "stream",
     "text": [
      "\r",
      " 54%|█████▎    | 59/110 [1:08:55<2:34:26, 181.70s/it]"
     ]
    },
    {
     "name": "stdout",
     "output_type": "stream",
     "text": [
      "Needed time: 184.83437585830688\n"
     ]
    },
    {
     "name": "stderr",
     "output_type": "stream",
     "text": [
      "\r",
      " 55%|█████▍    | 60/110 [1:11:43<2:28:06, 177.73s/it]"
     ]
    },
    {
     "name": "stdout",
     "output_type": "stream",
     "text": [
      "Needed time: 168.4665515422821\n"
     ]
    },
    {
     "name": "stderr",
     "output_type": "stream",
     "text": [
      "\r",
      " 55%|█████▌    | 61/110 [1:14:27<2:21:44, 173.56s/it]"
     ]
    },
    {
     "name": "stdout",
     "output_type": "stream",
     "text": [
      "Needed time: 163.8284785747528\n"
     ]
    },
    {
     "name": "stderr",
     "output_type": "stream",
     "text": [
      "\r",
      " 56%|█████▋    | 62/110 [1:17:07<2:15:28, 169.35s/it]"
     ]
    },
    {
     "name": "stdout",
     "output_type": "stream",
     "text": [
      "Needed time: 159.5148901939392\n"
     ]
    },
    {
     "name": "stderr",
     "output_type": "stream",
     "text": [
      "\r",
      " 57%|█████▋    | 63/110 [1:19:57<2:12:50, 169.58s/it]"
     ]
    },
    {
     "name": "stdout",
     "output_type": "stream",
     "text": [
      "Needed time: 170.1289041042328\n"
     ]
    },
    {
     "name": "stderr",
     "output_type": "stream",
     "text": [
      "\r",
      " 58%|█████▊    | 64/110 [1:22:50<2:10:50, 170.66s/it]"
     ]
    },
    {
     "name": "stdout",
     "output_type": "stream",
     "text": [
      "Needed time: 173.17933869361877\n"
     ]
    },
    {
     "name": "stderr",
     "output_type": "stream",
     "text": [
      "\r",
      " 59%|█████▉    | 65/110 [1:25:39<2:07:38, 170.19s/it]"
     ]
    },
    {
     "name": "stdout",
     "output_type": "stream",
     "text": [
      "Needed time: 169.09559202194214\n"
     ]
    },
    {
     "name": "stderr",
     "output_type": "stream",
     "text": [
      "\r",
      " 60%|██████    | 66/110 [1:28:23<2:03:23, 168.26s/it]"
     ]
    },
    {
     "name": "stdout",
     "output_type": "stream",
     "text": [
      "Needed time: 163.74514079093933\n"
     ]
    },
    {
     "name": "stderr",
     "output_type": "stream",
     "text": [
      "\r",
      " 61%|██████    | 67/110 [1:30:48<1:55:41, 161.44s/it]"
     ]
    },
    {
     "name": "stdout",
     "output_type": "stream",
     "text": [
      "Needed time: 145.5269637107849\n"
     ]
    },
    {
     "name": "stderr",
     "output_type": "stream",
     "text": [
      "\r",
      " 62%|██████▏   | 68/110 [1:33:02<1:47:09, 153.09s/it]"
     ]
    },
    {
     "name": "stdout",
     "output_type": "stream",
     "text": [
      "Needed time: 133.60120749473572\n"
     ]
    },
    {
     "name": "stderr",
     "output_type": "stream",
     "text": [
      "\r",
      " 63%|██████▎   | 69/110 [1:35:06<1:38:34, 144.25s/it]"
     ]
    },
    {
     "name": "stdout",
     "output_type": "stream",
     "text": [
      "Needed time: 123.6114604473114\n"
     ]
    },
    {
     "name": "stderr",
     "output_type": "stream",
     "text": [
      "\r",
      " 64%|██████▎   | 70/110 [1:36:50<1:28:14, 132.36s/it]"
     ]
    },
    {
     "name": "stdout",
     "output_type": "stream",
     "text": [
      "Needed time: 104.60893678665161\n"
     ]
    },
    {
     "name": "stderr",
     "output_type": "stream",
     "text": [
      "\r",
      " 65%|██████▍   | 71/110 [1:38:13<1:16:16, 117.36s/it]"
     ]
    },
    {
     "name": "stdout",
     "output_type": "stream",
     "text": [
      "Needed time: 82.35352563858032\n"
     ]
    },
    {
     "name": "stderr",
     "output_type": "stream",
     "text": [
      "\r",
      " 65%|██████▌   | 72/110 [1:39:06<1:02:13, 98.24s/it] "
     ]
    },
    {
     "name": "stdout",
     "output_type": "stream",
     "text": [
      "Needed time: 53.64439511299133\n"
     ]
    },
    {
     "name": "stderr",
     "output_type": "stream",
     "text": [
      "\r",
      " 66%|██████▋   | 73/110 [1:39:35<47:46, 77.47s/it]  "
     ]
    },
    {
     "name": "stdout",
     "output_type": "stream",
     "text": [
      "Needed time: 28.9882390499115\n"
     ]
    },
    {
     "name": "stderr",
     "output_type": "stream",
     "text": [
      "\r",
      " 67%|██████▋   | 74/110 [1:39:48<34:53, 58.16s/it]"
     ]
    },
    {
     "name": "stdout",
     "output_type": "stream",
     "text": [
      "Needed time: 13.09140133857727\n"
     ]
    },
    {
     "name": "stderr",
     "output_type": "stream",
     "text": [
      "\r",
      " 68%|██████▊   | 75/110 [1:39:56<25:06, 43.04s/it]"
     ]
    },
    {
     "name": "stdout",
     "output_type": "stream",
     "text": [
      "Needed time: 7.780174255371094\n"
     ]
    },
    {
     "name": "stderr",
     "output_type": "stream",
     "text": [
      "\r",
      " 69%|██████▉   | 76/110 [1:40:02<18:02, 31.84s/it]"
     ]
    },
    {
     "name": "stdout",
     "output_type": "stream",
     "text": [
      "Needed time: 5.707339763641357\n"
     ]
    },
    {
     "name": "stderr",
     "output_type": "stream",
     "text": [
      "\r",
      " 70%|███████   | 77/110 [1:40:07<13:11, 23.98s/it]"
     ]
    },
    {
     "name": "stdout",
     "output_type": "stream",
     "text": [
      "Needed time: 5.636178016662598\n"
     ]
    },
    {
     "name": "stderr",
     "output_type": "stream",
     "text": [
      "\r",
      " 71%|███████   | 78/110 [1:40:13<09:49, 18.42s/it]"
     ]
    },
    {
     "name": "stdout",
     "output_type": "stream",
     "text": [
      "Needed time: 5.432359933853149\n"
     ]
    },
    {
     "name": "stderr",
     "output_type": "stream",
     "text": [
      "\r",
      " 72%|███████▏  | 79/110 [1:40:18<07:31, 14.55s/it]"
     ]
    },
    {
     "name": "stdout",
     "output_type": "stream",
     "text": [
      "Needed time: 5.529642105102539\n"
     ]
    },
    {
     "name": "stderr",
     "output_type": "stream",
     "text": [
      "\r",
      " 73%|███████▎  | 80/110 [1:40:24<05:56, 11.89s/it]"
     ]
    },
    {
     "name": "stdout",
     "output_type": "stream",
     "text": [
      "Needed time: 5.661976099014282\n"
     ]
    },
    {
     "name": "stderr",
     "output_type": "stream",
     "text": [
      "\r",
      " 74%|███████▎  | 81/110 [1:40:30<04:51, 10.05s/it]"
     ]
    },
    {
     "name": "stdout",
     "output_type": "stream",
     "text": [
      "Needed time: 5.77138090133667\n"
     ]
    },
    {
     "name": "stderr",
     "output_type": "stream",
     "text": [
      "\r",
      " 75%|███████▍  | 82/110 [1:40:35<04:03,  8.68s/it]"
     ]
    },
    {
     "name": "stdout",
     "output_type": "stream",
     "text": [
      "Needed time: 5.4723639488220215\n"
     ]
    },
    {
     "name": "stderr",
     "output_type": "stream",
     "text": [
      "\r",
      " 75%|███████▌  | 83/110 [1:40:41<03:29,  7.75s/it]"
     ]
    },
    {
     "name": "stdout",
     "output_type": "stream",
     "text": [
      "Needed time: 5.578708171844482\n"
     ]
    },
    {
     "name": "stderr",
     "output_type": "stream",
     "text": [
      "\r",
      " 76%|███████▋  | 84/110 [1:40:46<03:04,  7.10s/it]"
     ]
    },
    {
     "name": "stdout",
     "output_type": "stream",
     "text": [
      "Needed time: 5.598391532897949\n"
     ]
    },
    {
     "name": "stderr",
     "output_type": "stream",
     "text": [
      "\r",
      " 77%|███████▋  | 85/110 [1:40:52<02:46,  6.65s/it]"
     ]
    },
    {
     "name": "stdout",
     "output_type": "stream",
     "text": [
      "Needed time: 5.59865140914917\n"
     ]
    },
    {
     "name": "stderr",
     "output_type": "stream",
     "text": [
      "\r",
      " 78%|███████▊  | 86/110 [1:40:58<02:31,  6.33s/it]"
     ]
    },
    {
     "name": "stdout",
     "output_type": "stream",
     "text": [
      "Needed time: 5.576086759567261\n"
     ]
    },
    {
     "name": "stderr",
     "output_type": "stream",
     "text": [
      "\r",
      " 79%|███████▉  | 87/110 [1:41:03<02:20,  6.11s/it]"
     ]
    },
    {
     "name": "stdout",
     "output_type": "stream",
     "text": [
      "Needed time: 5.579814195632935\n"
     ]
    },
    {
     "name": "stderr",
     "output_type": "stream",
     "text": [
      "\r",
      " 80%|████████  | 88/110 [1:41:09<02:10,  5.92s/it]"
     ]
    },
    {
     "name": "stdout",
     "output_type": "stream",
     "text": [
      "Needed time: 5.480830907821655\n"
     ]
    },
    {
     "name": "stderr",
     "output_type": "stream",
     "text": [
      "\r",
      " 81%|████████  | 89/110 [1:41:14<02:00,  5.76s/it]"
     ]
    },
    {
     "name": "stdout",
     "output_type": "stream",
     "text": [
      "Needed time: 5.376056909561157\n"
     ]
    },
    {
     "name": "stderr",
     "output_type": "stream",
     "text": [
      "\r",
      " 82%|████████▏ | 90/110 [1:41:19<01:53,  5.66s/it]"
     ]
    },
    {
     "name": "stdout",
     "output_type": "stream",
     "text": [
      "Needed time: 5.418524265289307\n"
     ]
    },
    {
     "name": "stderr",
     "output_type": "stream",
     "text": [
      "\r",
      " 83%|████████▎ | 91/110 [1:41:25<01:45,  5.57s/it]"
     ]
    },
    {
     "name": "stdout",
     "output_type": "stream",
     "text": [
      "Needed time: 5.369187116622925\n"
     ]
    },
    {
     "name": "stderr",
     "output_type": "stream",
     "text": [
      "\r",
      " 84%|████████▎ | 92/110 [1:41:30<01:39,  5.53s/it]"
     ]
    },
    {
     "name": "stdout",
     "output_type": "stream",
     "text": [
      "Needed time: 5.423420429229736\n"
     ]
    },
    {
     "name": "stderr",
     "output_type": "stream",
     "text": [
      "\r",
      " 85%|████████▍ | 93/110 [1:41:36<01:33,  5.48s/it]"
     ]
    },
    {
     "name": "stdout",
     "output_type": "stream",
     "text": [
      "Needed time: 5.371155023574829\n"
     ]
    },
    {
     "name": "stderr",
     "output_type": "stream",
     "text": [
      "\r",
      " 85%|████████▌ | 94/110 [1:41:41<01:28,  5.54s/it]"
     ]
    },
    {
     "name": "stdout",
     "output_type": "stream",
     "text": [
      "Needed time: 5.667372941970825\n"
     ]
    },
    {
     "name": "stderr",
     "output_type": "stream",
     "text": [
      "\r",
      " 86%|████████▋ | 95/110 [1:41:47<01:22,  5.49s/it]"
     ]
    },
    {
     "name": "stdout",
     "output_type": "stream",
     "text": [
      "Needed time: 5.375470161437988\n"
     ]
    },
    {
     "name": "stderr",
     "output_type": "stream",
     "text": [
      "\r",
      " 87%|████████▋ | 96/110 [1:41:52<01:17,  5.51s/it]"
     ]
    },
    {
     "name": "stdout",
     "output_type": "stream",
     "text": [
      "Needed time: 5.551918268203735\n"
     ]
    },
    {
     "name": "stderr",
     "output_type": "stream",
     "text": [
      "\r",
      " 88%|████████▊ | 97/110 [1:41:58<01:11,  5.49s/it]"
     ]
    },
    {
     "name": "stdout",
     "output_type": "stream",
     "text": [
      "Needed time: 5.4525487422943115\n"
     ]
    },
    {
     "name": "stderr",
     "output_type": "stream",
     "text": [
      "\r",
      " 89%|████████▉ | 98/110 [1:42:03<01:06,  5.52s/it]"
     ]
    },
    {
     "name": "stdout",
     "output_type": "stream",
     "text": [
      "Needed time: 5.593661785125732\n"
     ]
    },
    {
     "name": "stderr",
     "output_type": "stream",
     "text": [
      "\r",
      " 90%|█████████ | 99/110 [1:42:09<01:01,  5.56s/it]"
     ]
    },
    {
     "name": "stdout",
     "output_type": "stream",
     "text": [
      "Needed time: 5.653975963592529\n"
     ]
    },
    {
     "name": "stderr",
     "output_type": "stream",
     "text": [
      "\r",
      " 91%|█████████ | 100/110 [1:42:14<00:55,  5.50s/it]"
     ]
    },
    {
     "name": "stdout",
     "output_type": "stream",
     "text": [
      "Needed time: 5.35498046875\n"
     ]
    },
    {
     "name": "stderr",
     "output_type": "stream",
     "text": [
      "\r",
      " 92%|█████████▏| 101/110 [1:42:20<00:49,  5.49s/it]"
     ]
    },
    {
     "name": "stdout",
     "output_type": "stream",
     "text": [
      "Needed time: 5.47223973274231\n"
     ]
    },
    {
     "name": "stderr",
     "output_type": "stream",
     "text": [
      "\r",
      " 93%|█████████▎| 102/110 [1:42:25<00:44,  5.54s/it]"
     ]
    },
    {
     "name": "stdout",
     "output_type": "stream",
     "text": [
      "Needed time: 5.656481742858887\n"
     ]
    },
    {
     "name": "stderr",
     "output_type": "stream",
     "text": [
      "\r",
      " 94%|█████████▎| 103/110 [1:42:31<00:38,  5.47s/it]"
     ]
    },
    {
     "name": "stdout",
     "output_type": "stream",
     "text": [
      "Needed time: 5.310923337936401\n"
     ]
    },
    {
     "name": "stderr",
     "output_type": "stream",
     "text": [
      "\r",
      " 95%|█████████▍| 104/110 [1:42:36<00:33,  5.54s/it]"
     ]
    },
    {
     "name": "stdout",
     "output_type": "stream",
     "text": [
      "Needed time: 5.694153308868408\n"
     ]
    },
    {
     "name": "stderr",
     "output_type": "stream",
     "text": [
      "\r",
      " 95%|█████████▌| 105/110 [1:42:42<00:27,  5.58s/it]"
     ]
    },
    {
     "name": "stdout",
     "output_type": "stream",
     "text": [
      "Needed time: 5.657531023025513\n"
     ]
    },
    {
     "name": "stderr",
     "output_type": "stream",
     "text": [
      "\r",
      " 96%|█████████▋| 106/110 [1:42:47<00:21,  5.45s/it]"
     ]
    },
    {
     "name": "stdout",
     "output_type": "stream",
     "text": [
      "Needed time: 5.139474630355835\n"
     ]
    },
    {
     "name": "stderr",
     "output_type": "stream",
     "text": [
      "\r",
      " 97%|█████████▋| 107/110 [1:42:53<00:16,  5.47s/it]"
     ]
    },
    {
     "name": "stdout",
     "output_type": "stream",
     "text": [
      "Needed time: 5.519808053970337\n"
     ]
    },
    {
     "name": "stderr",
     "output_type": "stream",
     "text": [
      "\r",
      " 98%|█████████▊| 108/110 [1:42:58<00:10,  5.41s/it]"
     ]
    },
    {
     "name": "stdout",
     "output_type": "stream",
     "text": [
      "Needed time: 5.27264666557312\n"
     ]
    },
    {
     "name": "stderr",
     "output_type": "stream",
     "text": [
      "\r",
      " 99%|█████████▉| 109/110 [1:43:03<00:05,  5.35s/it]"
     ]
    },
    {
     "name": "stdout",
     "output_type": "stream",
     "text": [
      "Needed time: 5.21064019203186\n"
     ]
    },
    {
     "name": "stderr",
     "output_type": "stream",
     "text": [
      "100%|██████████| 110/110 [1:43:09<00:00, 56.26s/it]"
     ]
    },
    {
     "name": "stdout",
     "output_type": "stream",
     "text": [
      "Needed time: 5.275898218154907\n"
     ]
    },
    {
     "name": "stderr",
     "output_type": "stream",
     "text": [
      "\n"
     ]
    },
    {
     "data": {
      "image/png": "[encoded data removed]",
      "text/plain": [
       "<Figure size 648x360 with 1 Axes>"
      ]
     },
     "metadata": {
      "needs_background": "light"
     },
     "output_type": "display_data"
    }
   ],
   "source": [
    "# we used here the noises from above. Note that we did not give the Kicker noise, \n",
    "#as this is done later together for all electron. And we did not use the extra noise in round 0,\n",
    "output_list = plot_importance_kicker_strength(kicker_strengths,noise_first_round = 6.5e-6,\n",
    "                                noise_x= 6.5e-6,noise_px= .8*6.5e-6,noise_NLK = 0.0)"
   ]
  },
  {
   "cell_type": "code",
   "execution_count": 9,
   "id": "2963b481",
   "metadata": {},
   "outputs": [
    {
     "name": "stdout",
     "output_type": "stream",
     "text": [
      "[0.0, 0.0, 0.0, 0.0, 0.0, 0.0, 0.0, 0.0, 0.0, 0.0, 0.0, 0.0, 1.0, 1.0, 0.0, 2.0, 0.0, 1.0, 2.0, 3.0, 5.0, 12.0, 5.0, 10.0, 17.0, 25.0, 21.0, 35.0, 65.0, 78.0, 127.0, 133.0, 247.0, 270.0, 353.0, 423.0, 543.0, 616.0, 701.0, 782.0, 867.0, 907.0, 958.0, 971.0, 978.0, 989.0, 994.0, 999.0, 998.0, 1000.0, 1000.0, 999.0, 1000.0, 997.0, 999.0, 993.0, 984.0, 978.0, 968.0, 952.0, 925.0, 891.0, 876.0, 856.0, 829.0, 779.0, 679.0, 580.0, 473.0, 371.0, 244.0, 144.0, 74.0, 16.0, 1.0, 0.0, 0.0, 0.0, 0.0, 0.0, 0.0, 0.0, 0.0, 0.0, 0.0, 0.0, 0.0, 0.0, 0.0, 0.0, 0.0, 0.0, 0.0, 0.0, 0.0, 0.0, 0.0, 0.0, 0.0, 0.0, 0.0, 0.0, 0.0, 0.0, 0.0, 0.0, 0.0, 0.0, 0.0, 0.0]\n"
     ]
    }
   ],
   "source": [
    "print(output_list)"
   ]
  },
  {
   "cell_type": "markdown",
   "id": "9e42a099",
   "metadata": {},
   "source": [
    "### Plot with the used approximation"
   ]
  },
  {
   "cell_type": "code",
   "execution_count": 7,
   "id": "f463aa6b",
   "metadata": {},
   "outputs": [
    {
     "data": {
      "text/plain": [
       "<function matplotlib.pyplot.show(close=None, block=None)>"
      ]
     },
     "execution_count": 7,
     "metadata": {},
     "output_type": "execute_result"
    },
    {
     "data": {
      "image/png": "[encoded data removed]",
      "text/plain": [
       "<Figure size 432x288 with 1 Axes>"
      ]
     },
     "metadata": {
      "needs_background": "light"
     },
     "output_type": "display_data"
    }
   ],
   "source": [
    "plt.plot(kicker_strengths, output_list)\n",
    "plt.plot(kicker_strengths,985*np.exp(-(14.5*(kicker_strengths+0.1075))**4),label=\"Approximation\")\n",
    "plt.xlabel(\"Kicker strength in %\")\n",
    "plt.ylabel(\"Number of electrons\")\n",
    "plt.legend()\n",
    "plt.show"
   ]
  }
 ],
 "metadata": {
  "kernelspec": {
   "display_name": "Python 3",
   "language": "python",
   "name": "python3"
  },
  "language_info": {
   "codemirror_mode": {
    "name": "ipython",
    "version": 3
   },
   "file_extension": ".py",
   "mimetype": "text/x-python",
   "name": "python",
   "nbconvert_exporter": "python",
   "pygments_lexer": "ipython3",
   "version": "3.8.8"
  }
 },
 "nbformat": 4,
 "nbformat_minor": 5
}
