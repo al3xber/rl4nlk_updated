{
 "cells": [
  {
   "cell_type": "code",
   "execution_count": 1,
   "id": "f981d74d",
   "metadata": {},
   "outputs": [
    {
     "name": "stdout",
     "output_type": "stream",
     "text": [
      "<thor_scsi::core::CellVoid const* @ 0x5579eae20cc0>(cell 201: NonLinearKicker(KDNL1KR) aperture=None observer=None)\n"
     ]
    }
   ],
   "source": [
    "from pathlib import Path\n",
    "from thor_scsi.factory import accelerator_from_config\n",
    "from thor_scsi.pyflame import Config\n",
    "import thor_scsi.lib as tslib\n",
    "\n",
    "import numpy as np\n",
    "import matplotlib.pyplot as plt\n",
    "\n",
    "import gtpsa\n",
    "import os\n",
    "import time\n",
    "import copy\n",
    "import copy\n",
    "import random\n",
    "\n",
    "\n",
    "from multiprocessing import Process, Queue, Array\n",
    "from queue import Empty\n",
    "\n",
    "from scipy.stats import truncnorm, norm\n",
    "\n",
    "\n",
    "prefix = Path(os.environ[\"HOME\"])\n",
    "prefix = Path(\"/home/al3xber\")\n",
    "t_dir =  prefix / \"Desktop\" / \"Workspace\"\n",
    "t_file = t_dir / \"BII_NLKmode_3d_start.lat\"   #file is provided\n",
    "\n",
    "x_, px_ = 0, 1\n",
    "y_, py_ = 2, 3\n",
    "\n",
    "emittance_start = 70e-9\n",
    "nv = 6\n",
    "mo = 1\n",
    "default_desc = gtpsa.desc(nv, mo)\n",
    "\n",
    "\n",
    "def create_nlk_interpolation(nlk_name):\n",
    "    def compute_mirror_position_plate(ref_pos, mirror_pos, *, y_plane=True):\n",
    "        assert y_plane\n",
    "        dy = ref_pos.imag - mirror_pos.imag\n",
    "        return ref_pos - 2 * dy * 1j\n",
    "\n",
    "    # fmt: off\n",
    "    ref_pos1 =  8e-3 +  7e-3j\n",
    "    ref_pos2 = 17e-3 + 15e-3j\n",
    "    # fmt: on\n",
    "    t_current = -7e2\n",
    "\n",
    "    # fmt: off\n",
    "    t_current *= 1 - 1 * 0.14 / 2\n",
    "    ref_pos1  *= 1 - 0.14\n",
    "    ref_pos2  *= 1 - 0.14\n",
    "\n",
    "    plate_position1 = 5e-3j\n",
    "    mirror_pos1 = compute_mirror_position_plate(ref_pos1, plate_position1)\n",
    "\n",
    "    inner = tslib.aircoil_filament(ref_pos1.real, ref_pos1.imag,  t_current)\n",
    "    outer = tslib.aircoil_filament(ref_pos2.real, ref_pos2.imag, -t_current)\n",
    "    mirror = tslib.aircoil_filament(mirror_pos1.real, mirror_pos1.imag, -t_current * 0.14)\n",
    "    nlkf_intp = tslib.NonLinearKickerInterpolation([inner, outer, mirror])\n",
    "\n",
    "    c = Config()\n",
    "    c.setAny(\"L\", 0e0)\n",
    "    c.setAny(\"name\", nlk_name)\n",
    "    c.setAny(\"N\", 1)\n",
    "    nlk = tslib.FieldKick(c)\n",
    "    nlk.set_field_interpolator(nlkf_intp)\n",
    "    return nlk, nlkf_intp\n",
    "\n",
    "\n",
    "def create_state_space_vector(*, mu_x=0e0, mu_px=0e0, mu_y=0e0, mu_py=0e0, desc=default_desc):\n",
    "    #ps = gtpsa.ss_vect_double(desc, mo, nv)\n",
    "    ps = gtpsa.ss_vect_double(0.0)\n",
    "    #ps.set_identity()\n",
    "    ps.set_zero()\n",
    "    ps.x+=mu_x\n",
    "    ps.px+=mu_px\n",
    "    ps.y+=mu_y\n",
    "    ps.py+=mu_py\n",
    "    ps.copy()\n",
    "    return ps\n",
    "\n",
    "\n",
    "acc = accelerator_from_config(t_file)\n",
    "calc_config = tslib.ConfigType()\n",
    "\n",
    "#Description of NLK\n",
    "nlkfk = acc.find(\"KDNL1KR\", 0)\n",
    "nlk_name = nlkfk.name\n",
    "_, nlkf_intp = create_nlk_interpolation(nlk_name)\n",
    "\n",
    "nlkfk.set_field_interpolator(nlkf_intp)"
   ]
  },
  {
   "cell_type": "code",
   "execution_count": 2,
   "id": "8e747c76",
   "metadata": {},
   "outputs": [],
   "source": [
    "def create_nlk_interpolation(nlk_name):\n",
    "    def compute_mirror_position_plate(ref_pos, mirror_pos, *, y_plane=True):\n",
    "        assert y_plane\n",
    "        dy = ref_pos.imag - mirror_pos.imag\n",
    "        return ref_pos - 2 * dy * 1j\n",
    "\n",
    "    # fmt: off\n",
    "    ref_pos1 =  8e-3 +  7e-3j\n",
    "    ref_pos2 = 17e-3 + 15e-3j\n",
    "    # fmt: on\n",
    "    t_current = -7e2\n",
    "\n",
    "    # fmt: off\n",
    "    t_current *= 1 - 1 * 0.14 / 2\n",
    "    ref_pos1  *= 1 - 0.14\n",
    "    ref_pos2  *= 1 - 0.14\n",
    "\n",
    "    plate_position1 = 5e-3j\n",
    "    mirror_pos1 = compute_mirror_position_plate(ref_pos1, plate_position1)\n",
    "\n",
    "    inner = tslib.aircoil_filament(ref_pos1.real, ref_pos1.imag,  t_current)\n",
    "    outer = tslib.aircoil_filament(ref_pos2.real, ref_pos2.imag, -t_current)\n",
    "    mirror = tslib.aircoil_filament(mirror_pos1.real, mirror_pos1.imag, -t_current * 0.14)\n",
    "    nlkf_intp = tslib.NonLinearKickerInterpolation([inner, outer, mirror])\n",
    "\n",
    "    c = Config()\n",
    "    c.setAny(\"L\", 0e0)\n",
    "    c.setAny(\"name\", nlk_name)\n",
    "    c.setAny(\"N\", 1)\n",
    "    nlk = tslib.FieldKick(c)\n",
    "    nlk.set_field_interpolator(nlkf_intp)\n",
    "    return nlk, nlkf_intp\n"
   ]
  },
  {
   "cell_type": "code",
   "execution_count": 23,
   "id": "fc8de3ac",
   "metadata": {},
   "outputs": [],
   "source": [
    "x_list = []\n",
    "px_list = []\n",
    "for x in np.linspace(-30e-3,30e-3,400):\n",
    "    ps.set_zero()\n",
    "    ps.x+=x\n",
    "    \n",
    "    nlk.propagate(calc_config,ps)\n",
    "    x_list.append(ps.x)\n",
    "    px_list.append(ps.px)"
   ]
  },
  {
   "cell_type": "code",
   "execution_count": 29,
   "id": "a2b953c3",
   "metadata": {},
   "outputs": [
    {
     "data": {
      "text/plain": [
       "<function matplotlib.pyplot.show(close=None, block=None)>"
      ]
     },
     "execution_count": 29,
     "metadata": {},
     "output_type": "execute_result"
    },
    {
     "data": {
      "image/png": "[encoded data removed]",
      "text/plain": [
       "<Figure size 432x360 with 1 Axes>"
      ]
     },
     "metadata": {
      "needs_background": "light"
     },
     "output_type": "display_data"
    }
   ],
   "source": [
    "plt.figure(figsize=(6,5))\n",
    "plt.scatter(np.array(x_list)*1000,np.array(px_list)*1000)\n",
    "plt.xlabel(\"x in mm\")\n",
    "plt.ylabel(\"$B_y$ in mT\")\n",
    "plt.show"
   ]
  }
 ],
 "metadata": {
  "kernelspec": {
   "display_name": "Python 3",
   "language": "python",
   "name": "python3"
  },
  "language_info": {
   "codemirror_mode": {
    "name": "ipython",
    "version": 3
   },
   "file_extension": ".py",
   "mimetype": "text/x-python",
   "name": "python",
   "nbconvert_exporter": "python",
   "pygments_lexer": "ipython3",
   "version": "3.8.8"
  }
 },
 "nbformat": 4,
 "nbformat_minor": 5
}
