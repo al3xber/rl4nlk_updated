{
 "cells": [
  {
   "cell_type": "code",
   "execution_count": 1,
   "id": "74635999",
   "metadata": {},
   "outputs": [],
   "source": [
    "from particle_propagation import Particle_Propagator,calulate_sigma_px,emmitance_propagation,single_particle\n",
    "import matplotlib.pyplot as plt\n",
    "import numpy as np\n",
    "from scipy.stats import truncnorm, norm\n",
    "\n",
    "\n",
    "Propagator=Particle_Propagator()"
   ]
  },
  {
   "cell_type": "code",
   "execution_count": 2,
   "id": "0418b7be",
   "metadata": {},
   "outputs": [],
   "source": [
    "def plot_rounds_survived_without_kick(x_list,px_list,return_plot = True):\n",
    "    \"\"\"\n",
    "    Plots for a grid the amount of rounds survived without kick.\n",
    "    \"\"\"\n",
    "    extended_x_list = [x for x in x_list for i in range(len(px_list))]\n",
    "    extended_px_list = np.tile(px_list,(len(x_list),))\n",
    "    \n",
    "    result_list,x_processes,_,start_list = Propagator.run_1000(extended_x_list,extended_px_list,\n",
    "                                                     rounds_to_save = np.arange(1000),  #save all rounds, to count later\n",
    "                                        when_activate_NLK=0,kicker_strength=0.0)\n",
    "\n",
    "    x_processes = [len(x[x!=0]) for x in x_processes]   #remove everywhere where x=0, as it means x not changed\n",
    "    x_processes = np.array(x_processes)\n",
    "    x_processes[x_processes>15]=15 \n",
    "\n",
    "    print(f\"In total: {sum(np.array(result_list))} out of {len(result_list)} electrons made it\")\n",
    "    \n",
    "    new_list = []\n",
    "    for i in range(len(result_list)):\n",
    "        new_list.append((x_processes[i],start_list[i]))\n",
    "    \n",
    "    new_list.sort(key=lambda y: y[1][1])\n",
    "    new_list.sort(key=lambda y: y[1][0])\n",
    "\n",
    "    new_list = new_list[:]\n",
    "\n",
    "    x=np.unique(extended_x_list)\n",
    "    y=np.unique(px_list)\n",
    "    X,Y = np.meshgrid(x,y)\n",
    "    \n",
    "    Z = np.array([[int(new_list[j][0]) for j in range(i*len(px_list),(i+1)*len(px_list))]\n",
    "                                                                     for i in range(len(x_list))]).T\n",
    "    \n",
    "    # TEST -------------\n",
    "    _,x_process,_,starts = single_particle(0.018,0.0010,\n",
    "                                                     rounds_to_save = np.arange(1000),\n",
    "                                        when_activate_NLK=0,kicker_strength=0.0)\n",
    "    print(\"Value at x = 18mm, px=0.0010 is\",len(x_process))\n",
    "    _,x_process,_,starts = single_particle(0.018,0.0,\n",
    "                                                     rounds_to_save = np.arange(1000),\n",
    "                                        when_activate_NLK=0,kicker_strength=0.0)\n",
    "    print(\"Value at x = 18mm, px=0.0 is\",len(x_process))\n",
    "    _,x_process,_,starts = single_particle(0.018,-0.0010,\n",
    "                                                     rounds_to_save = np.arange(1000),\n",
    "                                        when_activate_NLK=0,kicker_strength=0.0)\n",
    "    print(\"Value at x = 18mm, px=-0.0010 is\",len(x_process))\n",
    "    _,x_process,_,starts = single_particle(0.016,-0.00075,\n",
    "                                                     rounds_to_save = np.arange(1000),\n",
    "                                        when_activate_NLK=0,kicker_strength=0.0)\n",
    "    print(\"Value at x = 16mm, px=-0.00075 is\",len(x_process))\n",
    "    _,x_process,_,starts = single_particle(0.0155,-0.0005,\n",
    "                                                     rounds_to_save = np.arange(1000),\n",
    "                                        when_activate_NLK=0,kicker_strength=0.0)\n",
    "    print(\"Value at x = 15.5mm, px=-0.0005 is\",len(x_process))\n",
    "    _,x_process,_,starts = single_particle(0.0151,-0.0003,\n",
    "                                                     rounds_to_save = np.arange(1000),\n",
    "                                        when_activate_NLK=0,kicker_strength=0.0)\n",
    "    print(\"Value at x = 15.1mm, px=-0.0003 is\",len(x_process))\n",
    "    #-------------------\n",
    "    \n",
    "    if return_plot == False:\n",
    "        return X,Y,Z\n",
    "    \n",
    "    plt.figure(figsize=(9,5))\n",
    "\n",
    "    plt.pcolormesh(X*1000,Y*1000,Z)\n",
    "    \n",
    "    plt.colorbar()\n",
    "\n",
    "    x = np.linspace(15.01e-3,22.85e-3,360)\n",
    "    poly = PolynomialFeatures(degree=4)\n",
    "    x_poly = poly.fit_transform(x[:,None])\n",
    "\n",
    "    plt.plot(x*1000,(x_poly@nlk_sampler.lower)*1000,c=\"orange\",label=\"injection area\")\n",
    "    plt.plot(x*1000,(x_poly@nlk_sampler.upper)*1000,c=\"orange\")\n",
    "\n",
    "    plt.legend(loc = \"lower right\")\n",
    "    \n",
    "    \n",
    "    \n",
    "    plt.title(f\"Number of rounds electrons survive without kicker\")\n",
    "    plt.ylabel(\"px in mrad\")\n",
    "    plt.xlabel(\"x in mm\")\n",
    "    plt.show()"
   ]
  },
  {
   "cell_type": "code",
   "execution_count": 3,
   "id": "7d259e11",
   "metadata": {},
   "outputs": [],
   "source": [
    "import numpy as np\n",
    "\n",
    "from sklearn.preprocessing import PolynomialFeatures\n",
    "from sklearn.linear_model import LinearRegression\n",
    "\n",
    "class NLK_Sampler:\n",
    "    #this class is used to sample new electrons\n",
    "    def __init__(self):\n",
    "        self.lower = np.array([0.01242802014328473,-2.3510967845422677,    #lower polynom weights, for injection area\n",
    "                                 135.64889234592374,-2621.6674111929387,8374.6738385004])   \n",
    "        self.upper = np.array([-0.026705410090359233,6.412451482988342,  #upper polynom weights, for injection area\n",
    "                                 -549.8383734808201,20891.368558370945,-298723.030031348])\n",
    "        self.diff = self.upper-self.lower\n",
    "        self.transform = np.array([-3.2911361375977704,102.00328087158005,\n",
    "                                   15593.102791660853,-518062.7698926044])\n",
    "        self.poly = PolynomialFeatures(degree=4)\n",
    "        self.poly_transform = PolynomialFeatures(degree=3)\n",
    "    \n",
    "    def sample(self):\n",
    "        x = np.random.uniform(size=(1,1))\n",
    "        x = x**1.8       #fixing term, not known why to use\n",
    "        x = x*(22.85e-3-15e-3)+15e-3\n",
    "\n",
    "        x_poly = self.poly_transform.fit_transform(x)\n",
    "        x = x_poly@self.transform\n",
    "        x = x*(22.85e-3-15e-3)+15e-3\n",
    "\n",
    "        x = np.array([[x[0]]])\n",
    "        \n",
    "\n",
    "        height = np.random.uniform()\n",
    "        x_poly = self.poly.fit_transform(x)   #to x^0,x^1,...,x^4\n",
    "        y = x_poly@self.lower + height*x_poly@self.diff\n",
    "        return x[0,0],y[0]\n",
    "    \n",
    "nlk_sampler = NLK_Sampler()"
   ]
  },
  {
   "cell_type": "code",
   "execution_count": 4,
   "id": "cf4cfb44",
   "metadata": {},
   "outputs": [
    {
     "name": "stdout",
     "output_type": "stream",
     "text": [
      "Needed time: 15.1322500705719\n",
      "In total: 0.0 out of 16200 electrons made it\n",
      "Value at x = 18mm, px=0.0010 is 5\n",
      "Value at x = 18mm, px=0.0 is 6\n",
      "Value at x = 18mm, px=-0.0010 is 1\n",
      "Value at x = 16mm, px=-0.00075 is 7\n",
      "Value at x = 15.5mm, px=-0.0005 is 13\n",
      "Value at x = 15.1mm, px=-0.0003 is 19\n"
     ]
    },
    {
     "name": "stderr",
     "output_type": "stream",
     "text": [
      "<ipython-input-2-2659ff8f83c0>:66: MatplotlibDeprecationWarning: shading='flat' when X and Y have the same dimensions as C is deprecated since 3.3.  Either specify the corners of the quadrilaterals with X and Y, or pass shading='auto', 'nearest' or 'gouraud', or set rcParams['pcolor.shading'].  This will become an error two minor releases later.\n",
      "  plt.pcolormesh(X*1000,Y*1000,Z)\n"
     ]
    },
    {
     "data": {
      "image/png": "[encoded data removed]",
      "text/plain": [
       "<Figure size 648x360 with 2 Axes>"
      ]
     },
     "metadata": {
      "needs_background": "light"
     },
     "output_type": "display_data"
    }
   ],
   "source": [
    "plot_rounds_survived_without_kick(np.linspace(15.001e-3,24e-3,180),np.linspace(-10.5e-4,17e-4,90)) "
   ]
  }
 ],
 "metadata": {
  "kernelspec": {
   "display_name": "Python 3",
   "language": "python",
   "name": "python3"
  },
  "language_info": {
   "codemirror_mode": {
    "name": "ipython",
    "version": 3
   },
   "file_extension": ".py",
   "mimetype": "text/x-python",
   "name": "python",
   "nbconvert_exporter": "python",
   "pygments_lexer": "ipython3",
   "version": "3.8.8"
  }
 },
 "nbformat": 4,
 "nbformat_minor": 5
}
