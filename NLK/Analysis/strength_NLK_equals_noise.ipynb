{
 "cells": [
  {
   "cell_type": "code",
   "execution_count": 4,
   "id": "41250fae",
   "metadata": {},
   "outputs": [],
   "source": [
    "from pathlib import Path\n",
    "from thor_scsi.factory import accelerator_from_config\n",
    "from thor_scsi.pyflame import Config\n",
    "import thor_scsi.lib as tslib\n",
    "\n",
    "import numpy as np\n",
    "import matplotlib.pyplot as plt\n",
    "\n",
    "import gtpsa\n",
    "import os\n",
    "import time\n",
    "import copy\n",
    "import random\n",
    "\n",
    "from multiprocessing import Process, Queue, Array\n",
    "from queue import Empty\n",
    "\n",
    "from scipy.stats import truncnorm, norm\n",
    "\n",
    "\n",
    "\n",
    "prefix = Path(os.environ[\"HOME\"])\n",
    "prefix = Path(\"/home/al3xber\")\n",
    "t_dir =  prefix / \"Desktop\" / \"Workspace\"\n",
    "t_file = t_dir / \"b2_stduser_beamports_blm_tracy_corr_with_nlk.lat\"   #file provided\n",
    "         #Note, this file is different to the other ones. The other file is more accurate for our application\n",
    "         #as this isn't that important, we did not update this version\n",
    "x_, px_ = 0, 1\n",
    "y_, py_ = 2, 3\n",
    "\n",
    "emittance_start = 70e-9\n",
    "nv = 6\n",
    "mo = 1\n",
    "default_desc = gtpsa.desc(nv, mo)\n"
   ]
  },
  {
   "cell_type": "code",
   "execution_count": 11,
   "id": "1674f619",
   "metadata": {},
   "outputs": [],
   "source": [
    "def create_nlk_interpolation(nlk_name):\n",
    "    def compute_mirror_position_plate(ref_pos, mirror_pos, *, y_plane=True):\n",
    "        assert y_plane\n",
    "        dy = ref_pos.imag - mirror_pos.imag\n",
    "        return ref_pos - 2 * dy * 1j\n",
    "\n",
    "    # fmt: off\n",
    "    ref_pos1 =  8e-3 +  7e-3j\n",
    "    ref_pos2 = 17e-3 + 15e-3j\n",
    "    # fmt: on\n",
    "    t_current = -7e2\n",
    "\n",
    "    # fmt: off\n",
    "    t_current *= 1 - 1 * 0.14 / 2\n",
    "    ref_pos1  *= 1 - 0.14\n",
    "    ref_pos2  *= 1 - 0.14\n",
    "\n",
    "    plate_position1 = 5e-3j\n",
    "    mirror_pos1 = compute_mirror_position_plate(ref_pos1, plate_position1)\n",
    "\n",
    "    inner = tslib.aircoil_filament(ref_pos1.real, ref_pos1.imag,  t_current)\n",
    "    outer = tslib.aircoil_filament(ref_pos2.real, ref_pos2.imag, -t_current)\n",
    "    mirror = tslib.aircoil_filament(mirror_pos1.real, mirror_pos1.imag, -t_current * 0.14)\n",
    "    nlkf_intp = tslib.NonLinearKickerInterpolation([inner, outer, mirror])\n",
    "\n",
    "    c = Config()\n",
    "    c.setAny(\"L\", 0e0)\n",
    "    c.setAny(\"name\", nlk_name)\n",
    "    c.setAny(\"N\", 1)\n",
    "    nlk = tslib.FieldKick(c)\n",
    "    nlk.set_field_interpolator(nlkf_intp)\n",
    "    return nlk, nlkf_intp\n",
    "\n",
    "def create_state_space_vector(*, mu_x=0e0, mu_px=0e0, mu_y=0e0, mu_py=0e0):\n",
    "    ps = gtpsa.ss_vect_double(0.0)\n",
    "\n",
    "    ps.set_zero()\n",
    "    ps.x+=mu_x\n",
    "    ps.px+=mu_px\n",
    "    ps.y+=mu_y\n",
    "    ps.py+=mu_py\n",
    "    return ps\n"
   ]
  },
  {
   "cell_type": "code",
   "execution_count": 12,
   "id": "ef0d04c6",
   "metadata": {},
   "outputs": [],
   "source": [
    "acc = accelerator_from_config(t_file)\n",
    "calc_config = tslib.ConfigType()\n",
    "\n",
    "#Description of NLK\n",
    "nlkfk = acc.find(\"pkdnl1kr\", 0)\n",
    "nlk_name = nlkfk.name\n",
    "nlk, nlkf_intp = create_nlk_interpolation(nlk_name)\n",
    "nlkfk.set_field_interpolator(nlkf_intp)"
   ]
  },
  {
   "cell_type": "code",
   "execution_count": 16,
   "id": "6897d331",
   "metadata": {},
   "outputs": [],
   "source": [
    "#calculate how much the px value changes after the NLK\n",
    "\n",
    "x_list = []\n",
    "px_list = []\n",
    "\n",
    "for x in np.linspace(-40e-3,40e-3,400):\n",
    "\n",
    "    nlkf_intp.set_scale(1.0)\n",
    "    ps = create_state_space_vector(mu_x=x,mu_px=0,mu_y=0,mu_py=0)    #x px y py   #TO PLOT!\n",
    "\n",
    "    result = acc.propagate(calc_config, ps, 170,1)   #start at NLK and just go 1 step, to the end of NLK\n",
    "\n",
    "    x_list.append(ps.x)\n",
    "    px_list.append(ps.px)"
   ]
  },
  {
   "cell_type": "code",
   "execution_count": 17,
   "id": "bfa64578",
   "metadata": {
    "scrolled": true
   },
   "outputs": [
    {
     "data": {
      "text/plain": [
       "<matplotlib.collections.PathCollection at 0x7f5de2540580>"
      ]
     },
     "execution_count": 17,
     "metadata": {},
     "output_type": "execute_result"
    },
    {
     "data": {
      "image/png": "[encoded data removed]",
      "text/plain": [
       "<Figure size 432x288 with 1 Axes>"
      ]
     },
     "metadata": {
      "needs_background": "light"
     },
     "output_type": "display_data"
    }
   ],
   "source": [
    "plt.scatter(x_list,px_list)"
   ]
  },
  {
   "cell_type": "code",
   "execution_count": 18,
   "id": "d36d0359",
   "metadata": {},
   "outputs": [
    {
     "name": "stdout",
     "output_type": "stream",
     "text": [
      "0.023893121101031676 -0.023893121101031672\n"
     ]
    }
   ],
   "source": [
    "print(np.max(px_list),np.min(px_list))"
   ]
  },
  {
   "cell_type": "markdown",
   "id": "9610d236",
   "metadata": {},
   "source": [
    "Change of px maximal +- 0.024"
   ]
  },
  {
   "cell_type": "markdown",
   "id": "8bb6a9d3",
   "metadata": {},
   "source": [
    "### Current px Noise ###\n",
    "noise_px_sample = np.random.normal($0,.8*6.5e-6$)\n",
    "\n",
    "99,71% of the data is therefore in (-3 * 0.8 * 6.5e-6, 3 * 0.8 * 6.5e-6) = (-1.56e-05, 1.56e-05)"
   ]
  },
  {
   "cell_type": "markdown",
   "id": "31d24893",
   "metadata": {},
   "source": [
    "Upper value of the interval is attained at a kicker strength of"
   ]
  },
  {
   "cell_type": "code",
   "execution_count": 23,
   "id": "894044a3",
   "metadata": {},
   "outputs": [
    {
     "data": {
      "text/plain": [
       "0.0006529075851595802"
      ]
     },
     "execution_count": 23,
     "metadata": {},
     "output_type": "execute_result"
    }
   ],
   "source": [
    "1.56e-05/0.023893121101031676   #use linearity "
   ]
  },
  {
   "cell_type": "markdown",
   "id": "6ff7da7b",
   "metadata": {},
   "source": [
    "With the activation function around the action it equals around $16\\%$"
   ]
  },
  {
   "cell_type": "code",
   "execution_count": 28,
   "id": "1a3422d4",
   "metadata": {},
   "outputs": [
    {
     "data": {
      "text/plain": [
       "0.15985010596898355"
      ]
     },
     "execution_count": 28,
     "metadata": {},
     "output_type": "execute_result"
    }
   ],
   "source": [
    "0.0006529075851595802**(1/4)"
   ]
  }
 ],
 "metadata": {
  "kernelspec": {
   "display_name": "Python 3",
   "language": "python",
   "name": "python3"
  },
  "language_info": {
   "codemirror_mode": {
    "name": "ipython",
    "version": 3
   },
   "file_extension": ".py",
   "mimetype": "text/x-python",
   "name": "python",
   "nbconvert_exporter": "python",
   "pygments_lexer": "ipython3",
   "version": "3.8.8"
  }
 },
 "nbformat": 4,
 "nbformat_minor": 5
}
