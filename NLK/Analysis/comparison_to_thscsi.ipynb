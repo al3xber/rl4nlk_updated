{
 "cells": [
  {
   "cell_type": "code",
   "execution_count": null,
   "id": "91e85438",
   "metadata": {},
   "outputs": [],
   "source": [
    "import time\n",
    "import numpy as np\n",
    "import gymnasium as gym\n",
    "from nlk1000_gym import NLK_Env\n",
    "import matplotlib.pyplot as plt\n",
    "\n",
    "# Register the environment\n",
    "gym.register(\n",
    "    id='NLK_Env-v0',\n",
    "    entry_point='nlk1000_gym:NLK_Env'\n",
    ")\n",
    "env = gym.make('NLK_Env-v0')\n",
    "\n",
    "import stable_baselines3\n",
    "from stable_baselines3 import TD3\n",
    "from stable_baselines3.common.noise import NormalActionNoise, OrnsteinUhlenbeckActionNoise\n",
    "\n",
    "from sklearn.preprocessing import PolynomialFeatures\n",
    "from sklearn.linear_model import LinearRegression"
   ]
  },
  {
   "cell_type": "code",
   "execution_count": 2,
   "id": "394fa7a4",
   "metadata": {},
   "outputs": [],
   "source": [
    "class NLK_Sampler:\n",
    "    def __init__(self):\n",
    "        self.lower = np.array([0.01242802014328473,-2.3510967845422677,\n",
    "                                 135.64889234592374,-2621.6674111929387,8374.6738385004])\n",
    "        self.upper = np.array([-0.026705410090359233,6.412451482988342,\n",
    "                                 -549.8383734808201,20891.368558370945,-298723.030031348])\n",
    "        self.diff = self.upper-self.lower\n",
    "        self.transform = np.array([-3.2911361375977704,102.00328087158005,\n",
    "                                   15593.102791660853,-518062.7698926044])\n",
    "        self.poly = PolynomialFeatures(degree=4)\n",
    "        self.poly_transform = PolynomialFeatures(degree=3)\n",
    "    def sample(self):\n",
    "        x = np.random.uniform(size=(1,1))\n",
    "        x = x**1.8       #verstehe nicht ganz warum\n",
    "        x = x*(22.85e-3-15e-3)+15e-3\n",
    "\n",
    "        x_poly = self.poly_transform.fit_transform(x)\n",
    "        x = x_poly@self.transform\n",
    "        x = x*(22.85e-3-15e-3)+15e-3\n",
    "        #x = self.poly_transform.fit_transform(x.reshape((1,1)))@self.transform\n",
    "        x = np.array([[x[0]]])\n",
    "        \n",
    "        #x = np.random.uniform(low=15e-3, high=22.85e-3,size=(1,1))\n",
    "        height = np.random.uniform()\n",
    "        x_poly = self.poly.fit_transform(x)   #to x^0,x^1,...,x^4\n",
    "        y = x_poly@self.lower + height*x_poly@self.diff\n",
    "        return x[0,0],y[0]\n",
    "    \n",
    "nlk_sampler = NLK_Sampler()"
   ]
  },
  {
   "cell_type": "code",
   "execution_count": 4,
   "id": "ebd16c10",
   "metadata": {},
   "outputs": [
    {
     "name": "stdout",
     "output_type": "stream",
     "text": [
      "<thor_scsi::core::CellVoid const* @ 0x558a77b37460>(cell 201: NonLinearKicker(KDNL1KR) aperture=None observer=None)\n"
     ]
    }
   ],
   "source": [
    "from pathlib import Path\n",
    "from thor_scsi.factory import accelerator_from_config\n",
    "from thor_scsi.pyflame import Config\n",
    "import thor_scsi.lib as tslib\n",
    "\n",
    "import numpy as np\n",
    "import matplotlib.pyplot as plt\n",
    "\n",
    "import gtpsa\n",
    "import os\n",
    "import time\n",
    "import copy\n",
    "import copy\n",
    "import random\n",
    "\n",
    "\n",
    "from multiprocessing import Process, Queue, Array\n",
    "from queue import Empty\n",
    "\n",
    "from scipy.stats import truncnorm, norm\n",
    "\n",
    "\n",
    "\n",
    "prefix = Path(os.environ[\"HOME\"])\n",
    "prefix = Path(\"/home/al3xber\")\n",
    "t_dir =  prefix / \"Desktop\" / \"Workspace\"\n",
    "t_file = t_dir / \"BII_NLKmode_3d_start.lat\"   #file is provieded\n",
    "\n",
    "x_, px_ = 0, 1\n",
    "y_, py_ = 2, 3\n",
    "\n",
    "emittance_start = 70e-9\n",
    "nv = 6\n",
    "mo = 1\n",
    "default_desc = gtpsa.desc(nv, mo)\n",
    "\n",
    "\n",
    "def create_nlk_interpolation(nlk_name):\n",
    "    def compute_mirror_position_plate(ref_pos, mirror_pos, *, y_plane=True):\n",
    "        assert y_plane\n",
    "        dy = ref_pos.imag - mirror_pos.imag\n",
    "        return ref_pos - 2 * dy * 1j\n",
    "\n",
    "    # fmt: off\n",
    "    ref_pos1 =  8e-3 +  7e-3j\n",
    "    ref_pos2 = 17e-3 + 15e-3j\n",
    "    # fmt: on\n",
    "    t_current = -7e2\n",
    "\n",
    "    # fmt: off\n",
    "    t_current *= 1 - 1 * 0.14 / 2\n",
    "    ref_pos1  *= 1 - 0.14\n",
    "    ref_pos2  *= 1 - 0.14\n",
    "\n",
    "    plate_position1 = 5e-3j\n",
    "    mirror_pos1 = compute_mirror_position_plate(ref_pos1, plate_position1)\n",
    "\n",
    "    inner = tslib.aircoil_filament(ref_pos1.real, ref_pos1.imag,  t_current)\n",
    "    outer = tslib.aircoil_filament(ref_pos2.real, ref_pos2.imag, -t_current)\n",
    "    mirror = tslib.aircoil_filament(mirror_pos1.real, mirror_pos1.imag, -t_current * 0.14)\n",
    "    nlkf_intp = tslib.NonLinearKickerInterpolation([inner, outer, mirror])\n",
    "\n",
    "    c = Config()\n",
    "    c.setAny(\"L\", 0e0)\n",
    "    c.setAny(\"name\", nlk_name)\n",
    "    c.setAny(\"N\", 1)\n",
    "    nlk = tslib.FieldKick(c)\n",
    "    nlk.set_field_interpolator(nlkf_intp)\n",
    "    return nlk, nlkf_intp\n",
    "\n",
    "\n",
    "def create_state_space_vector(*, mu_x=0e0, mu_px=0e0, mu_y=0e0, mu_py=0e0, desc=default_desc):\n",
    "    #ps = gtpsa.ss_vect_double(desc, mo, nv)\n",
    "    ps = gtpsa.ss_vect_double(0.0)\n",
    "    #ps.set_identity()\n",
    "    ps.set_zero()\n",
    "    ps.x+=mu_x\n",
    "    ps.px+=mu_px\n",
    "    ps.y+=mu_y\n",
    "    ps.py+=mu_py\n",
    "    ps.copy()\n",
    "    return ps\n",
    "\n",
    "\n",
    "acc = accelerator_from_config(t_file)\n",
    "calc_config = tslib.ConfigType()\n",
    "\n",
    "#Description of NLK\n",
    "nlkfk = acc.find(\"KDNL1KR\", 0)\n",
    "print(nlkfk)\n",
    "nlk_name = nlkfk.name\n",
    "_, nlkf_intp = create_nlk_interpolation(nlk_name)\n",
    "\n",
    "nlkfk.set_field_interpolator(nlkf_intp)"
   ]
  },
  {
   "cell_type": "code",
   "execution_count": 5,
   "id": "e4b40f33",
   "metadata": {},
   "outputs": [],
   "source": [
    "from particle_propagation import Particle_Propagator,calulate_sigma_px,emmitance_propagation,single_particle\n",
    "\n",
    "Propagator=Particle_Propagator()"
   ]
  },
  {
   "cell_type": "code",
   "execution_count": 6,
   "id": "66b1b213",
   "metadata": {},
   "outputs": [],
   "source": [
    "def encoder(points, x_normalization, px_normalization, normalized = True):\n",
    "    #assert points are normalized!\n",
    "    if not normalized:\n",
    "        points[0,:]*=x_normalization\n",
    "        points[1,:]*=px_normalization\n",
    "        \n",
    "    if (points.shape)[1] == 0:\n",
    "        #check if points are contained\n",
    "        return np.float32(np.zeros((2,))), np.uint8(np.zeros((1,51,51)))\n",
    "    \n",
    "    means = points.mean(axis = 1, dtype=np.float32)\n",
    "    assert means.shape == (2,)\n",
    "    \n",
    "    range_xpx = np.array([0.006*x_normalization,0.0005*px_normalization])\n",
    "    H,_,_ = np.histogram2d(points[0,:],points[1,:], bins=51, range = np.vstack([means-range_xpx,means+range_xpx]).T)\n",
    "    \n",
    "    \n",
    "    if np.sum(H)!= 0:\n",
    "        H = ((H/np.sum(H))*255).astype(np.uint8).T\n",
    "    \n",
    "    return means, H[None]   #[None] for (1,51,51) shape\n"
   ]
  },
  {
   "cell_type": "code",
   "execution_count": 7,
   "id": "cc7145e7",
   "metadata": {},
   "outputs": [],
   "source": [
    "def model_on_thscsi_on_point(x,px,model):\n",
    "    #we check in this function the performance of the model for the input means: x,px\n",
    "    \n",
    "    sigma_x = 0.00112\n",
    "    sigma_px = 6.29e-05\n",
    "    \n",
    "    x_normalization = 100\n",
    "    px_normalization = 1000\n",
    "    \n",
    "    #less points, because of high time consumption\n",
    "    x_points  = norm.rvs(loc = x, scale = sigma_x, size = 100) #generate random x points\n",
    "    px_points = norm.rvs(loc = px, scale = sigma_px, size = 100)  #generate px points \n",
    "\n",
    "    points = np.vstack([x_points,px_points]) \n",
    "\n",
    "    points = points[:, points[0,:] > 0.015]   # remove points that are inside of septum\n",
    "\n",
    "\n",
    "    NLK_activated = False\n",
    "    runde = np.float32(np.array([0.0]))\n",
    "\n",
    "    when_NLK_activated = 0\n",
    "\n",
    "    while (not NLK_activated) and (points.shape[1] != 0):\n",
    "        means, image = encoder(np.copy(points), x_normalization, px_normalization, normalized = False)\n",
    "\n",
    "        obs = {\"round\": runde,\n",
    "                \"x,px mean\": means,\n",
    "                \"image\": image}\n",
    "\n",
    "        action, _states = model.predict(obs)   #check what the model predicts\n",
    "\n",
    "\n",
    "        if (abs(action[0])<=0.16):\n",
    "            ##if no NLK is activated, add round to count when it is activated\n",
    "            nlkf_intp.set_scale(0.0)\n",
    "            when_NLK_activated += 1    \n",
    "        else:\n",
    "            #if kicker is acticated apply strength\n",
    "            NLK_strength = np.sign(action[0])*(action[0]**4)\n",
    "            nlkf_intp.set_scale(NLK_strength) \n",
    "            NLK_activated = True\n",
    "\n",
    "\n",
    "        for j in range(points.shape[1]):\n",
    "            ps = create_state_space_vector(mu_x=points[0,j],mu_px=points[1,j])\n",
    "\n",
    "            result = acc.propagate(calc_config, ps)\n",
    "\n",
    "            points[0,j] = ps.x\n",
    "            points[1,j] = ps.px\n",
    "\n",
    "\n",
    "        points = points[:, points[0,:] < 0.015]   # remove points that collided into septum\n",
    "\n",
    "        runde += np.float32(1/100)\n",
    "\n",
    "\n",
    "    if points.shape[1] == 0:\n",
    "\n",
    "        return 0, when_NLK_activated\n",
    "    \n",
    "    result, _,_,_ = Propagator.run_1000(points[0,:],points[1,:],when_activate_NLK=10000,\n",
    "                                        kicker_strength=1.0,noise_x=0.0, noise_px=0.0, \n",
    "                                        noise_NLK=0.0,noise_first_round=0.0)\n",
    "\n",
    "    #print(\"SUM OF RESULT:\", np.sum(result))\n",
    "    return np.sum(result)*10, when_NLK_activated #*10, because less points are used\n",
    "\n",
    "    \n"
   ]
  },
  {
   "cell_type": "code",
   "execution_count": 8,
   "id": "25db6d97",
   "metadata": {},
   "outputs": [],
   "source": [
    "def model_on_thscsi(model):\n",
    "    #check how a model performs on the drift kick simulation\n",
    "    x_list = np.linspace(15e-3,22.85e-3,90)\n",
    "    px_list = np.linspace(-0.0008,0.0012,45)\n",
    "    \n",
    "    Z = np.zeros((len(x_list),len(px_list)))\n",
    "    Z_round = np.zeros((len(x_list),len(px_list)))\n",
    "\n",
    "    poly = PolynomialFeatures(degree=4)\n",
    "    nlk_sampler = NLK_Sampler()\n",
    "        \n",
    "    new_list = []\n",
    "    counter = 0\n",
    "    reward_sum = 0\n",
    "    for i in tqdm.tqdm(range(len(x_list))):\n",
    "        x_poly = poly.fit_transform(np.array([[x_list[i]]]))\n",
    "        x_lower = x_poly@nlk_sampler.lower\n",
    "        x_upper = x_poly@nlk_sampler.upper\n",
    "        \n",
    "        for j in range(len(px_list)):\n",
    "            info = []\n",
    "            if px_list[j]>x_lower and px_list[j]<x_upper:   #check if value is in injection area\n",
    "                reward, round_kicked = model_on_thscsi_on_point(x_list[i],px_list[j],model)  #find performance on point\n",
    "                \n",
    "                reward_sum += reward\n",
    "                \n",
    "                #save information\n",
    "                Z[i,j] = reward\n",
    "                Z_round[i,j] = round_kicked\n",
    "                \n",
    "                counter+=1\n",
    "            else:\n",
    "                Z[i,j] = np.nan\n",
    "                Z_round[i,j] = np.nan\n",
    "\n",
    "    return reward_sum/counter, Z, Z_round"
   ]
  },
  {
   "cell_type": "code",
   "execution_count": 9,
   "id": "9f0f2737",
   "metadata": {},
   "outputs": [],
   "source": [
    "model = TD3.load(\"training_1000step_1000electron\")   #load model"
   ]
  },
  {
   "cell_type": "code",
   "execution_count": 11,
   "id": "bb98ff6d",
   "metadata": {},
   "outputs": [
    {
     "name": "stderr",
     "output_type": "stream",
     "text": [
      "\r",
      "  0%|          | 0/90 [00:00<?, ?it/s]"
     ]
    },
    {
     "name": "stdout",
     "output_type": "stream",
     "text": [
      "Needed time: 24.611480712890625\n",
      "Needed time: 24.84458017349243\n",
      "Needed time: 24.71534490585327\n",
      "Needed time: 24.753512859344482\n",
      "Needed time: 24.981046199798584\n",
      "Needed time: 26.70292353630066\n",
      "Needed time: 24.746007204055786\n",
      "Needed time: 26.84266948699951\n",
      "Needed time: 24.743442058563232\n",
      "Needed time: 24.69238042831421\n",
      "Needed time: 24.75100588798523\n",
      "Needed time: 4.497695446014404\n",
      "Needed time: 26.77349829673767\n",
      "Needed time: 24.903603315353394\n",
      "Needed time: 26.85187077522278\n",
      "Needed time: 26.793943405151367\n",
      "Needed time: 24.719982862472534\n",
      "Needed time: 24.729199647903442\n",
      "Needed time: 26.704420804977417\n",
      "Needed time: 26.737099409103394\n",
      "Needed time: 26.73908257484436\n",
      "Needed time: 26.796218156814575\n",
      "Needed time: 26.718367338180542\n",
      "Needed time: 26.75763177871704\n",
      "Needed time: 4.489121675491333\n",
      "Needed time: 26.660757780075073\n",
      "Needed time: 26.75102686882019\n",
      "Needed time: 26.778534412384033\n",
      "Needed time: 26.717493772506714\n",
      "Needed time: 26.686418771743774\n",
      "Needed time: 4.4952497482299805\n",
      "Needed time: 26.83442783355713\n",
      "Needed time: 24.790813207626343\n",
      "Needed time: 24.98666214942932\n",
      "Needed time: 26.84097933769226\n",
      "Needed time: 26.828724145889282\n",
      "Needed time: 26.81684422492981\n",
      "Needed time: 24.68296480178833\n",
      "Needed time: 24.828500747680664\n",
      "Needed time: 24.746551752090454\n"
     ]
    },
    {
     "name": "stderr",
     "output_type": "stream",
     "text": [
      "\r",
      "  1%|          | 1/90 [16:33<24:33:32, 993.40s/it]"
     ]
    },
    {
     "name": "stdout",
     "output_type": "stream",
     "text": [
      "Needed time: 16.650425672531128\n",
      "Needed time: 26.746660470962524\n",
      "Needed time: 24.953437566757202\n",
      "Needed time: 24.72818350791931\n",
      "Needed time: 26.784393072128296\n",
      "Needed time: 24.696937084197998\n",
      "Needed time: 24.66932702064514\n",
      "Needed time: 24.766675233840942\n",
      "Needed time: 24.794971466064453\n",
      "Needed time: 24.69404172897339\n",
      "Needed time: 24.714377403259277\n",
      "Needed time: 24.70256471633911\n",
      "Needed time: 24.77920627593994\n",
      "Needed time: 28.691206693649292\n",
      "Needed time: 26.760112524032593\n",
      "Needed time: 26.84505033493042\n",
      "Needed time: 26.890802145004272\n",
      "Needed time: 24.799811363220215\n",
      "Needed time: 24.793243646621704\n",
      "Needed time: 24.82023811340332\n",
      "Needed time: 24.686441898345947\n",
      "Needed time: 24.667619466781616\n",
      "Needed time: 24.965485334396362\n",
      "Needed time: 24.813859462738037\n",
      "Needed time: 26.760053873062134\n",
      "Needed time: 26.90097975730896\n",
      "Needed time: 24.737825393676758\n",
      "Needed time: 24.88401961326599\n",
      "Needed time: 24.787196159362793\n",
      "Needed time: 24.77022409439087\n",
      "Needed time: 24.72734260559082\n",
      "Needed time: 8.506784200668335\n",
      "Needed time: 24.816765785217285\n",
      "Needed time: 24.707650661468506\n",
      "Needed time: 24.790397882461548\n",
      "Needed time: 24.76190447807312\n",
      "Needed time: 24.735044717788696\n",
      "Needed time: 24.735066413879395\n",
      "Needed time: 24.795665979385376\n",
      "Needed time: 24.759984254837036\n",
      "Needed time: 20.688758850097656\n"
     ]
    },
    {
     "name": "stderr",
     "output_type": "stream",
     "text": [
      "\r",
      "  2%|▏         | 2/90 [33:21<24:29:55, 1002.23s/it]"
     ]
    },
    {
     "name": "stdout",
     "output_type": "stream",
     "text": [
      "Needed time: 12.623372316360474\n",
      "Needed time: 24.732139587402344\n",
      "Needed time: 24.72635507583618\n",
      "Needed time: 24.70374321937561\n",
      "Needed time: 24.733829259872437\n",
      "Needed time: 24.680445909500122\n",
      "Needed time: 24.709474563598633\n",
      "Needed time: 24.835087060928345\n",
      "Needed time: 24.7685387134552\n",
      "Needed time: 24.854990005493164\n",
      "Needed time: 22.685637712478638\n",
      "Needed time: 22.8079354763031\n",
      "Needed time: 24.798545122146606\n",
      "Needed time: 24.874573945999146\n",
      "Needed time: 24.915772914886475\n",
      "Needed time: 24.737492084503174\n",
      "Needed time: 24.73047423362732\n",
      "Needed time: 25.02405881881714\n",
      "Needed time: 24.70512342453003\n",
      "Needed time: 24.801911115646362\n",
      "Needed time: 24.811347484588623\n",
      "Needed time: 24.8348491191864\n",
      "Needed time: 24.745381116867065\n",
      "Needed time: 24.75377106666565\n",
      "Needed time: 24.618979692459106\n",
      "Needed time: 6.509778022766113\n",
      "Needed time: 26.75750422477722\n",
      "Needed time: 24.76263737678528\n",
      "Needed time: 28.875185251235962\n",
      "Needed time: 28.88633108139038\n",
      "Needed time: 30.800883054733276\n",
      "Needed time: 4.522313117980957\n",
      "Needed time: 26.854600191116333\n",
      "Needed time: 24.839558362960815\n",
      "Needed time: 26.842633962631226\n",
      "Needed time: 26.77214741706848\n",
      "Needed time: 24.824984073638916\n",
      "Needed time: 24.930633544921875\n",
      "Needed time: 24.743894577026367\n",
      "Needed time: 22.704894065856934\n",
      "Needed time: 22.729123830795288\n"
     ]
    },
    {
     "name": "stderr",
     "output_type": "stream",
     "text": [
      "\r",
      "  3%|▎         | 3/90 [49:52<24:05:37, 996.98s/it] "
     ]
    },
    {
     "name": "stdout",
     "output_type": "stream",
     "text": [
      "Needed time: 16.645907402038574\n",
      "Needed time: 24.659268856048584\n",
      "Needed time: 24.74216651916504\n",
      "Needed time: 24.734721183776855\n",
      "Needed time: 26.801172018051147\n",
      "Needed time: 24.819894790649414\n",
      "Needed time: 26.72256851196289\n",
      "Needed time: 24.81397032737732\n",
      "Needed time: 24.790146112442017\n",
      "Needed time: 24.7762234210968\n",
      "Needed time: 24.70240807533264\n",
      "Needed time: 22.810787439346313\n",
      "Needed time: 8.707462072372437\n",
      "Needed time: 26.83726739883423\n",
      "Needed time: 26.754474878311157\n",
      "Needed time: 26.873982667922974\n",
      "Needed time: 26.897666215896606\n",
      "Needed time: 24.872910499572754\n",
      "Needed time: 26.73507070541382\n",
      "Needed time: 26.763794422149658\n",
      "Needed time: 26.803387880325317\n",
      "Needed time: 26.896173238754272\n",
      "Needed time: 24.921441078186035\n",
      "Needed time: 26.93347978591919\n",
      "Needed time: 24.884374380111694\n",
      "Needed time: 4.469576358795166\n",
      "Needed time: 26.746802806854248\n",
      "Needed time: 26.94020700454712\n",
      "Needed time: 26.794536352157593\n",
      "Needed time: 24.78464102745056\n",
      "Needed time: 24.74108362197876\n",
      "Needed time: 4.515362501144409\n",
      "Needed time: 26.62995719909668\n",
      "Needed time: 26.91166114807129\n",
      "Needed time: 24.72240138053894\n",
      "Needed time: 24.77748990058899\n",
      "Needed time: 26.705596446990967\n",
      "Needed time: 26.847900390625\n",
      "Needed time: 24.80342173576355\n",
      "Needed time: 24.69226884841919\n",
      "Needed time: 20.635842084884644\n"
     ]
    },
    {
     "name": "stderr",
     "output_type": "stream",
     "text": [
      "\r",
      "  4%|▍         | 4/90 [1:06:21<23:44:27, 993.81s/it]"
     ]
    },
    {
     "name": "stdout",
     "output_type": "stream",
     "text": [
      "Needed time: 16.59371066093445\n",
      "Needed time: 28.68019413948059\n",
      "Needed time: 28.757728576660156\n",
      "Needed time: 26.746191263198853\n",
      "Needed time: 26.833007097244263\n",
      "Needed time: 26.84316849708557\n",
      "Needed time: 25.043071746826172\n",
      "Needed time: 26.801454067230225\n",
      "Needed time: 24.708293676376343\n",
      "Needed time: 24.705716609954834\n",
      "Needed time: 24.84853720664978\n",
      "Needed time: 22.66852641105652\n",
      "Needed time: 26.8081111907959\n",
      "Needed time: 26.839590311050415\n",
      "Needed time: 26.813461780548096\n",
      "Needed time: 26.81106448173523\n",
      "Needed time: 26.975204467773438\n",
      "Needed time: 24.73220419883728\n",
      "Needed time: 28.676586389541626\n",
      "Needed time: 28.705852031707764\n",
      "Needed time: 28.75811529159546\n",
      "Needed time: 28.857901334762573\n",
      "Needed time: 31.023313522338867\n",
      "Needed time: 34.9767165184021\n",
      "Needed time: 32.99598670005798\n",
      "Needed time: 33.05299735069275\n",
      "Needed time: 33.011449575424194\n",
      "Needed time: 32.999765396118164\n",
      "Needed time: 32.95751595497131\n",
      "Needed time: 32.83001255989075\n",
      "Needed time: 32.86173057556152\n",
      "Needed time: 4.55840277671814\n",
      "Needed time: 34.99105477333069\n",
      "Needed time: 34.97118663787842\n",
      "Needed time: 35.08760380744934\n",
      "Needed time: 35.0738468170166\n",
      "Needed time: 32.98992967605591\n",
      "Needed time: 36.94594359397888\n",
      "Needed time: 33.006765365600586\n",
      "Needed time: 31.16357946395874\n",
      "Needed time: 28.87061047554016\n"
     ]
    },
    {
     "name": "stderr",
     "output_type": "stream",
     "text": [
      "\r",
      "  6%|▌         | 5/90 [1:26:16<25:10:34, 1066.28s/it]"
     ]
    },
    {
     "name": "stdout",
     "output_type": "stream",
     "text": [
      "Needed time: 20.861589908599854\n",
      "Needed time: 35.12532877922058\n",
      "Needed time: 34.94224786758423\n",
      "Needed time: 32.96355438232422\n",
      "Needed time: 34.97649049758911\n",
      "Needed time: 33.03958249092102\n",
      "Needed time: 35.05479621887207\n",
      "Needed time: 30.98768138885498\n",
      "Needed time: 31.003072500228882\n",
      "Needed time: 32.956212520599365\n",
      "Needed time: 26.853431940078735\n",
      "Needed time: 34.95705056190491\n",
      "Needed time: 35.032827377319336\n",
      "Needed time: 35.0190486907959\n",
      "Needed time: 34.90990877151489\n",
      "Needed time: 34.947901248931885\n",
      "Needed time: 35.06364154815674\n",
      "Needed time: 35.02388787269592\n",
      "Needed time: 35.129852533340454\n",
      "Needed time: 33.001219749450684\n",
      "Needed time: 35.129669189453125\n",
      "Needed time: 33.13364267349243\n",
      "Needed time: 35.05767345428467\n",
      "Needed time: 34.98879885673523\n",
      "Needed time: 4.690041542053223\n",
      "Needed time: 35.080857276916504\n",
      "Needed time: 35.20843958854675\n",
      "Needed time: 35.22207736968994\n",
      "Needed time: 35.11426520347595\n",
      "Needed time: 33.11952328681946\n",
      "Needed time: 35.037792921066284\n",
      "Needed time: 34.888739585876465\n",
      "Needed time: 33.21688461303711\n",
      "Needed time: 34.90117526054382\n",
      "Needed time: 37.22608280181885\n",
      "Needed time: 35.06227207183838\n",
      "Needed time: 32.994518518447876\n",
      "Needed time: 35.05347537994385\n",
      "Needed time: 33.16376447677612\n",
      "Needed time: 28.990795373916626\n"
     ]
    },
    {
     "name": "stderr",
     "output_type": "stream",
     "text": [
      "\r",
      "  7%|▋         | 6/90 [1:48:27<26:58:51, 1156.32s/it]"
     ]
    },
    {
     "name": "stdout",
     "output_type": "stream",
     "text": [
      "Needed time: 22.880492210388184\n",
      "Needed time: 35.03356051445007\n",
      "Needed time: 33.175625801086426\n",
      "Needed time: 35.05866885185242\n",
      "Needed time: 35.275158405303955\n",
      "Needed time: 35.228890895843506\n",
      "Needed time: 35.0633487701416\n",
      "Needed time: 35.12987399101257\n",
      "Needed time: 30.845824003219604\n",
      "Needed time: 27.062835216522217\n",
      "Needed time: 26.83248019218445\n",
      "Needed time: 35.185412883758545\n",
      "Needed time: 33.13710069656372\n",
      "Needed time: 35.16991901397705\n",
      "Needed time: 35.05741357803345\n",
      "Needed time: 35.102006673812866\n",
      "Needed time: 32.98786902427673\n",
      "Needed time: 33.091529846191406\n",
      "Needed time: 35.060795545578\n",
      "Needed time: 36.98808479309082\n",
      "Needed time: 28.947272539138794\n",
      "Needed time: 26.891931295394897\n",
      "Needed time: 26.944881916046143\n",
      "Needed time: 29.055052995681763\n",
      "Needed time: 26.773036241531372\n",
      "Needed time: 28.954705238342285\n",
      "Needed time: 30.913419723510742\n",
      "Needed time: 26.813787937164307\n",
      "Needed time: 26.845593452453613\n",
      "Needed time: 26.809812784194946\n",
      "Needed time: 28.750540018081665\n",
      "Needed time: 28.790378093719482\n",
      "Needed time: 26.787136554718018\n",
      "Needed time: 26.758002281188965\n",
      "Needed time: 26.878636360168457\n",
      "Needed time: 26.907957077026367\n",
      "Needed time: 26.734665155410767\n",
      "Needed time: 26.87705135345459\n",
      "Needed time: 24.726367712020874\n",
      "Needed time: 24.79852533340454\n"
     ]
    },
    {
     "name": "stderr",
     "output_type": "stream",
     "text": [
      "\r",
      "  8%|▊         | 7/90 [2:08:42<27:06:17, 1175.63s/it]"
     ]
    },
    {
     "name": "stdout",
     "output_type": "stream",
     "text": [
      "Needed time: 18.69232726097107\n",
      "Needed time: 26.805689811706543\n",
      "Needed time: 28.80209994316101\n",
      "Needed time: 26.71535301208496\n",
      "Needed time: 26.878756523132324\n",
      "Needed time: 26.80719518661499\n",
      "Needed time: 26.740322828292847\n",
      "Needed time: 26.83447551727295\n",
      "Needed time: 28.740524291992188\n",
      "Needed time: 24.808927536010742\n",
      "Needed time: 24.673652172088623\n",
      "Needed time: 26.732381105422974\n",
      "Needed time: 26.8405544757843\n",
      "Needed time: 26.708473443984985\n",
      "Needed time: 27.042271375656128\n",
      "Needed time: 26.701282024383545\n",
      "Needed time: 26.75788688659668\n",
      "Needed time: 24.835211277008057\n",
      "Needed time: 24.781494855880737\n",
      "Needed time: 26.887789964675903\n",
      "Needed time: 26.787555694580078\n",
      "Needed time: 24.829641819000244\n",
      "Needed time: 29.044482707977295\n",
      "Needed time: 26.819766998291016\n",
      "Needed time: 26.755486726760864\n",
      "Needed time: 26.933851957321167\n",
      "Needed time: 26.77898931503296\n",
      "Needed time: 26.829963207244873\n",
      "Needed time: 26.864240884780884\n",
      "Needed time: 24.761390447616577\n",
      "Needed time: 4.462665319442749\n",
      "Needed time: 26.67988681793213\n",
      "Needed time: 26.723491430282593\n",
      "Needed time: 26.75982141494751\n",
      "Needed time: 24.75791335105896\n",
      "Needed time: 24.93734097480774\n",
      "Needed time: 24.782391786575317\n",
      "Needed time: 24.810458421707153\n",
      "Needed time: 26.943379402160645\n",
      "Needed time: 22.638524770736694\n"
     ]
    },
    {
     "name": "stderr",
     "output_type": "stream",
     "text": [
      "\r",
      "  9%|▉         | 8/90 [2:25:54<25:44:18, 1129.98s/it]"
     ]
    },
    {
     "name": "stdout",
     "output_type": "stream",
     "text": [
      "Needed time: 18.641308784484863\n",
      "Needed time: 26.692254066467285\n",
      "Needed time: 26.80555534362793\n",
      "Needed time: 26.817437648773193\n",
      "Needed time: 28.798421621322632\n",
      "Needed time: 26.96870231628418\n",
      "Needed time: 26.730604648590088\n",
      "Needed time: 26.803434371948242\n",
      "Needed time: 26.823262691497803\n",
      "Needed time: 24.704777717590332\n",
      "Needed time: 22.695786237716675\n",
      "Needed time: 26.863006591796875\n",
      "Needed time: 26.91462516784668\n",
      "Needed time: 26.80980634689331\n",
      "Needed time: 26.76429557800293\n",
      "Needed time: 26.827855587005615\n",
      "Needed time: 26.693440198898315\n",
      "Needed time: 24.86232876777649\n",
      "Needed time: 26.673421144485474\n",
      "Needed time: 26.803945541381836\n",
      "Needed time: 24.779643774032593\n",
      "Needed time: 24.86614465713501\n",
      "Needed time: 24.940847158432007\n",
      "Needed time: 26.861658573150635\n",
      "Needed time: 24.882291555404663\n",
      "Needed time: 26.771594285964966\n",
      "Needed time: 24.689018726348877\n",
      "Needed time: 24.78160810470581\n",
      "Needed time: 24.675456285476685\n",
      "Needed time: 24.82024359703064\n",
      "Needed time: 4.46751856803894\n",
      "Needed time: 24.753442525863647\n",
      "Needed time: 24.81953191757202\n",
      "Needed time: 24.715415716171265\n",
      "Needed time: 24.8404803276062\n",
      "Needed time: 26.720221996307373\n",
      "Needed time: 27.005227088928223\n",
      "Needed time: 26.80837917327881\n",
      "Needed time: 24.870227098464966\n",
      "Needed time: 22.68562388420105\n"
     ]
    },
    {
     "name": "stderr",
     "output_type": "stream",
     "text": [
      "\r",
      " 10%|█         | 9/90 [2:42:48<24:36:31, 1093.72s/it]"
     ]
    },
    {
     "name": "stdout",
     "output_type": "stream",
     "text": [
      "Needed time: 18.647279739379883\n",
      "Needed time: 24.74496865272522\n",
      "Needed time: 26.742736339569092\n",
      "Needed time: 25.003015756607056\n",
      "Needed time: 27.0134060382843\n",
      "Needed time: 26.91042947769165\n",
      "Needed time: 26.885812520980835\n",
      "Needed time: 26.9137225151062\n",
      "Needed time: 22.682397842407227\n",
      "Needed time: 24.818687677383423\n",
      "Needed time: 20.63586187362671\n",
      "Needed time: 26.66676425933838\n",
      "Needed time: 26.736167907714844\n",
      "Needed time: 26.940441370010376\n",
      "Needed time: 29.007768630981445\n",
      "Needed time: 28.912279844284058\n",
      "Needed time: 26.91211223602295\n",
      "Needed time: 26.966450214385986\n",
      "Needed time: 26.8885338306427\n",
      "Needed time: 28.869157075881958\n",
      "Needed time: 28.81539249420166\n",
      "Needed time: 26.898977518081665\n",
      "Needed time: 26.87042808532715\n",
      "Needed time: 24.734749794006348\n",
      "Needed time: 24.809073209762573\n",
      "Needed time: 26.807760000228882\n",
      "Needed time: 26.82815909385681\n",
      "Needed time: 26.865622758865356\n",
      "Needed time: 26.817127466201782\n",
      "Needed time: 24.893381595611572\n",
      "Needed time: 24.997793197631836\n",
      "Needed time: 24.781779527664185\n",
      "Needed time: 24.767764806747437\n",
      "Needed time: 24.892668962478638\n",
      "Needed time: 24.917661428451538\n",
      "Needed time: 24.724055767059326\n",
      "Needed time: 24.812882900238037\n",
      "Needed time: 24.76328420639038\n",
      "Needed time: 24.872679710388184\n",
      "Needed time: 22.79635190963745\n"
     ]
    },
    {
     "name": "stderr",
     "output_type": "stream",
     "text": [
      "\r",
      " 11%|█         | 10/90 [3:00:09<23:56:28, 1077.36s/it]"
     ]
    },
    {
     "name": "stdout",
     "output_type": "stream",
     "text": [
      "Needed time: 20.84700870513916\n",
      "Needed time: 26.74998712539673\n",
      "Needed time: 24.801201581954956\n",
      "Needed time: 24.794208526611328\n",
      "Needed time: 24.87813138961792\n",
      "Needed time: 26.751726627349854\n",
      "Needed time: 24.881914138793945\n",
      "Needed time: 24.91270923614502\n",
      "Needed time: 22.819562911987305\n",
      "Needed time: 22.832677841186523\n",
      "Needed time: 24.741291046142578\n",
      "Needed time: 24.85234832763672\n",
      "Needed time: 24.77853488922119\n",
      "Needed time: 24.83039093017578\n",
      "Needed time: 26.787386417388916\n",
      "Needed time: 24.790959119796753\n",
      "Needed time: 24.885079860687256\n",
      "Needed time: 24.84222674369812\n",
      "Needed time: 24.876158475875854\n",
      "Needed time: 24.78725552558899\n",
      "Needed time: 24.78328800201416\n",
      "Needed time: 24.845895528793335\n",
      "Needed time: 24.781298637390137\n",
      "Needed time: 24.9410183429718\n",
      "Needed time: 14.761092185974121\n",
      "Needed time: 24.831578254699707\n",
      "Needed time: 24.825220584869385\n",
      "Needed time: 24.73245406150818\n",
      "Needed time: 24.759754180908203\n",
      "Needed time: 24.669534921646118\n",
      "Needed time: 24.843688249588013\n",
      "Needed time: 24.836068391799927\n",
      "Needed time: 24.789311408996582\n",
      "Needed time: 24.92499303817749\n",
      "Needed time: 24.819452047348022\n",
      "Needed time: 24.820948123931885\n",
      "Needed time: 24.837466955184937\n",
      "Needed time: 24.75043034553528\n",
      "Needed time: 26.920557260513306\n",
      "Needed time: 22.834723472595215\n"
     ]
    },
    {
     "name": "stderr",
     "output_type": "stream",
     "text": [
      "\r",
      " 12%|█▏        | 11/90 [3:16:33<23:00:39, 1048.60s/it]"
     ]
    },
    {
     "name": "stdout",
     "output_type": "stream",
     "text": [
      "Needed time: 14.680908441543579\n",
      "Needed time: 24.79534649848938\n",
      "Needed time: 26.79663848876953\n",
      "Needed time: 26.936492204666138\n",
      "Needed time: 26.77359366416931\n",
      "Needed time: 26.879738092422485\n",
      "Needed time: 24.718001127243042\n",
      "Needed time: 24.895983457565308\n",
      "Needed time: 20.68607211112976\n",
      "Needed time: 18.765612602233887\n",
      "Needed time: 26.99484872817993\n",
      "Needed time: 25.01587724685669\n",
      "Needed time: 26.856228590011597\n",
      "Needed time: 26.823017358779907\n",
      "Needed time: 31.39420437812805\n",
      "Needed time: 31.114110469818115\n",
      "Needed time: 28.95124316215515\n",
      "Needed time: 30.9325168132782\n",
      "Needed time: 26.94010901451111\n",
      "Needed time: 28.94227647781372\n",
      "Needed time: 26.818601369857788\n",
      "Needed time: 25.08128571510315\n",
      "Needed time: 26.79077386856079\n",
      "Needed time: 24.89875864982605\n",
      "Needed time: 24.813866138458252\n",
      "Needed time: 26.903769969940186\n",
      "Needed time: 28.870550870895386\n",
      "Needed time: 26.83442211151123\n",
      "Needed time: 26.799060106277466\n",
      "Needed time: 24.79396629333496\n",
      "Needed time: 24.867408990859985\n",
      "Needed time: 24.748032331466675\n",
      "Needed time: 24.815866470336914\n",
      "Needed time: 24.8564293384552\n",
      "Needed time: 24.846062183380127\n",
      "Needed time: 31.038692474365234\n",
      "Needed time: 30.884007215499878\n",
      "Needed time: 27.06483268737793\n",
      "Needed time: 22.800601959228516\n"
     ]
    },
    {
     "name": "stderr",
     "output_type": "stream",
     "text": [
      "\r",
      " 13%|█▎        | 12/90 [3:33:44<22:36:30, 1043.47s/it]"
     ]
    },
    {
     "name": "stdout",
     "output_type": "stream",
     "text": [
      "Needed time: 18.713557720184326\n",
      "Needed time: 26.716648817062378\n",
      "Needed time: 28.86539387702942\n",
      "Needed time: 32.86859488487244\n",
      "Needed time: 26.986702919006348\n",
      "Needed time: 31.0562961101532\n",
      "Needed time: 33.09807109832764\n",
      "Needed time: 30.994909524917603\n",
      "Needed time: 26.931058406829834\n",
      "Needed time: 26.973265886306763\n",
      "Needed time: 32.917202949523926\n",
      "Needed time: 28.80096960067749\n",
      "Needed time: 33.00689435005188\n",
      "Needed time: 33.179060220718384\n",
      "Needed time: 35.246272563934326\n",
      "Needed time: 33.026466846466064\n",
      "Needed time: 30.8221595287323\n",
      "Needed time: 26.966891050338745\n",
      "Needed time: 28.803386926651\n",
      "Needed time: 30.876871347427368\n",
      "Needed time: 28.83231782913208\n",
      "Needed time: 31.087364196777344\n",
      "Needed time: 30.752569675445557\n",
      "Needed time: 30.811044692993164\n",
      "Needed time: 30.80528998374939\n",
      "Needed time: 28.79641318321228\n",
      "Needed time: 26.817232608795166\n",
      "Needed time: 26.84568214416504\n",
      "Needed time: 26.78740429878235\n",
      "Needed time: 24.86457133293152\n",
      "Needed time: 24.773391246795654\n",
      "Needed time: 24.80806612968445\n",
      "Needed time: 24.872105598449707\n",
      "Needed time: 26.74447202682495\n",
      "Needed time: 26.7404727935791\n",
      "Needed time: 24.80379295349121\n",
      "Needed time: 24.75949192047119\n",
      "Needed time: 24.858773469924927\n",
      "Needed time: 24.98040461540222\n"
     ]
    },
    {
     "name": "stderr",
     "output_type": "stream",
     "text": [
      "\r",
      " 14%|█▍        | 13/90 [3:52:25<22:49:03, 1066.80s/it]"
     ]
    },
    {
     "name": "stdout",
     "output_type": "stream",
     "text": [
      "Needed time: 18.70816993713379\n",
      "Needed time: 24.712843894958496\n",
      "Needed time: 24.885819673538208\n",
      "Needed time: 24.789763689041138\n",
      "Needed time: 24.732614994049072\n",
      "Needed time: 24.824547052383423\n",
      "Needed time: 24.860607862472534\n",
      "Needed time: 22.946218252182007\n",
      "Needed time: 20.82730722427368\n",
      "Needed time: 16.69150710105896\n",
      "Needed time: 24.89146137237549\n",
      "Needed time: 24.768558025360107\n",
      "Needed time: 24.77673840522766\n",
      "Needed time: 24.85681438446045\n",
      "Needed time: 24.81358766555786\n",
      "Needed time: 26.819271326065063\n",
      "Needed time: 24.808146476745605\n",
      "Needed time: 24.72539758682251\n",
      "Needed time: 26.88166308403015\n",
      "Needed time: 24.81742024421692\n",
      "Needed time: 26.811882972717285\n",
      "Needed time: 24.883030891418457\n",
      "Needed time: 24.839009046554565\n",
      "Needed time: 24.711106300354004\n",
      "Needed time: 24.795413494110107\n",
      "Needed time: 24.808347940444946\n",
      "Needed time: 24.853065967559814\n",
      "Needed time: 26.690065145492554\n",
      "Needed time: 24.71040439605713\n",
      "Needed time: 24.98507809638977\n",
      "Needed time: 4.459593057632446\n",
      "Needed time: 24.771846294403076\n",
      "Needed time: 26.753854513168335\n",
      "Needed time: 26.969324827194214\n",
      "Needed time: 26.911682605743408\n",
      "Needed time: 28.793182373046875\n",
      "Needed time: 26.971258878707886\n",
      "Needed time: 26.940873622894287\n",
      "Needed time: 26.830880880355835\n"
     ]
    },
    {
     "name": "stderr",
     "output_type": "stream",
     "text": [
      "\r",
      " 16%|█▌        | 14/90 [4:08:32<21:53:09, 1036.71s/it]"
     ]
    },
    {
     "name": "stdout",
     "output_type": "stream",
     "text": [
      "Needed time: 24.910025119781494\n",
      "Needed time: 26.843186616897583\n",
      "Needed time: 24.929691314697266\n",
      "Needed time: 26.828871250152588\n",
      "Needed time: 24.891967058181763\n",
      "Needed time: 24.885735750198364\n",
      "Needed time: 22.719693422317505\n",
      "Needed time: 24.711656093597412\n",
      "Needed time: 20.730342864990234\n",
      "Needed time: 18.808085918426514\n",
      "Needed time: 24.787325620651245\n",
      "Needed time: 24.884469747543335\n",
      "Needed time: 26.75068497657776\n",
      "Needed time: 26.763472318649292\n",
      "Needed time: 26.76108479499817\n",
      "Needed time: 26.95259189605713\n",
      "Needed time: 26.674572467803955\n",
      "Needed time: 26.837618350982666\n",
      "Needed time: 26.992506742477417\n",
      "Needed time: 26.860122203826904\n",
      "Needed time: 24.92352294921875\n",
      "Needed time: 26.951277017593384\n",
      "Needed time: 28.852490425109863\n",
      "Needed time: 28.965981483459473\n",
      "Needed time: 28.943459510803223\n",
      "Needed time: 26.95873522758484\n",
      "Needed time: 27.007720947265625\n",
      "Needed time: 26.878273487091064\n",
      "Needed time: 26.892924547195435\n",
      "Needed time: 26.90542984008789\n",
      "Needed time: 28.974318027496338\n",
      "Needed time: 27.012025356292725\n",
      "Needed time: 26.915489196777344\n",
      "Needed time: 26.96986484527588\n",
      "Needed time: 26.830886602401733\n",
      "Needed time: 26.808587789535522\n",
      "Needed time: 26.961102724075317\n",
      "Needed time: 24.927965879440308\n",
      "Needed time: 22.84873056411743\n"
     ]
    },
    {
     "name": "stderr",
     "output_type": "stream",
     "text": [
      "\r",
      " 17%|█▋        | 15/90 [4:25:31<21:29:22, 1031.51s/it]"
     ]
    },
    {
     "name": "stdout",
     "output_type": "stream",
     "text": [
      "Needed time: 18.598763704299927\n",
      "Needed time: 26.813318967819214\n",
      "Needed time: 26.807646989822388\n",
      "Needed time: 26.706700086593628\n",
      "Needed time: 28.930717945098877\n",
      "Needed time: 22.8234121799469\n",
      "Needed time: 24.730578660964966\n",
      "Needed time: 22.821696281433105\n",
      "Needed time: 20.65948724746704\n",
      "Needed time: 26.847943544387817\n",
      "Needed time: 26.701468229293823\n",
      "Needed time: 27.0114848613739\n",
      "Needed time: 26.85476040840149\n",
      "Needed time: 26.977659225463867\n",
      "Needed time: 28.941083908081055\n",
      "Needed time: 26.84912419319153\n",
      "Needed time: 26.83294129371643\n",
      "Needed time: 26.97202968597412\n",
      "Needed time: 28.772019624710083\n",
      "Needed time: 26.668755769729614\n",
      "Needed time: 26.963205337524414\n",
      "Needed time: 26.836760759353638\n",
      "Needed time: 4.492948055267334\n",
      "Needed time: 24.9212007522583\n",
      "Needed time: 26.871970653533936\n",
      "Needed time: 26.9091055393219\n",
      "Needed time: 26.91643476486206\n",
      "Needed time: 27.029303789138794\n",
      "Needed time: 26.833855628967285\n",
      "Needed time: 26.857667684555054\n",
      "Needed time: 26.77063775062561\n",
      "Needed time: 26.86142611503601\n",
      "Needed time: 26.861448764801025\n",
      "Needed time: 26.8987238407135\n",
      "Needed time: 26.855770587921143\n",
      "Needed time: 26.797003269195557\n",
      "Needed time: 26.942413330078125\n",
      "Needed time: 24.85240626335144\n"
     ]
    },
    {
     "name": "stderr",
     "output_type": "stream",
     "text": [
      "\r",
      " 18%|█▊        | 16/90 [4:42:01<20:56:29, 1018.77s/it]"
     ]
    },
    {
     "name": "stdout",
     "output_type": "stream",
     "text": [
      "Needed time: 22.75978946685791\n",
      "Needed time: 26.83882164955139\n",
      "Needed time: 26.890053033828735\n",
      "Needed time: 26.675315380096436\n",
      "Needed time: 24.87931728363037\n",
      "Needed time: 26.82430386543274\n",
      "Needed time: 22.788018703460693\n",
      "Needed time: 20.78583312034607\n",
      "Needed time: 20.83215570449829\n",
      "Needed time: 27.00606894493103\n",
      "Needed time: 26.93512988090515\n",
      "Needed time: 26.894840955734253\n",
      "Needed time: 25.001432180404663\n",
      "Needed time: 26.90684986114502\n",
      "Needed time: 26.8647780418396\n",
      "Needed time: 26.892107486724854\n",
      "Needed time: 26.765548944473267\n",
      "Needed time: 29.09963870048523\n",
      "Needed time: 28.789796829223633\n",
      "Needed time: 31.362619400024414\n",
      "Needed time: 26.98342728614807\n",
      "Needed time: 26.983986139297485\n",
      "Needed time: 4.471127033233643\n",
      "Needed time: 29.103816509246826\n",
      "Needed time: 28.868943691253662\n",
      "Needed time: 29.017487049102783\n",
      "Needed time: 26.988137245178223\n",
      "Needed time: 26.787261962890625\n",
      "Needed time: 28.952508211135864\n",
      "Needed time: 26.704176425933838\n",
      "Needed time: 26.860628843307495\n",
      "Needed time: 26.916849374771118\n",
      "Needed time: 26.870590925216675\n",
      "Needed time: 26.918533325195312\n",
      "Needed time: 26.91667604446411\n",
      "Needed time: 26.8554584980011\n",
      "Needed time: 26.86194086074829\n",
      "Needed time: 24.91294813156128\n"
     ]
    },
    {
     "name": "stderr",
     "output_type": "stream",
     "text": [
      "\r",
      " 19%|█▉        | 17/90 [4:58:36<20:30:52, 1011.68s/it]"
     ]
    },
    {
     "name": "stdout",
     "output_type": "stream",
     "text": [
      "Needed time: 18.877243757247925\n",
      "Needed time: 26.772927284240723\n",
      "Needed time: 26.95314121246338\n",
      "Needed time: 26.905802965164185\n",
      "Needed time: 24.78729748725891\n",
      "Needed time: 24.741041660308838\n",
      "Needed time: 24.791353464126587\n",
      "Needed time: 18.77958917617798\n",
      "Needed time: 20.75853991508484\n",
      "Needed time: 26.85070824623108\n",
      "Needed time: 26.801203727722168\n",
      "Needed time: 28.918935537338257\n",
      "Needed time: 26.768706798553467\n",
      "Needed time: 28.825788736343384\n",
      "Needed time: 26.820390224456787\n",
      "Needed time: 26.80412745475769\n",
      "Needed time: 28.930284023284912\n",
      "Needed time: 26.829681396484375\n",
      "Needed time: 26.881865978240967\n",
      "Needed time: 26.96119475364685\n",
      "Needed time: 26.92252516746521\n",
      "Needed time: 26.877979516983032\n",
      "Needed time: 26.945713996887207\n",
      "Needed time: 27.01106572151184\n",
      "Needed time: 27.007529258728027\n",
      "Needed time: 24.93095588684082\n",
      "Needed time: 26.91152811050415\n",
      "Needed time: 26.97794771194458\n",
      "Needed time: 26.752007722854614\n",
      "Needed time: 4.478183031082153\n",
      "Needed time: 26.692114114761353\n",
      "Needed time: 26.900372743606567\n",
      "Needed time: 26.953591346740723\n",
      "Needed time: 26.88505792617798\n",
      "Needed time: 26.823225021362305\n",
      "Needed time: 26.839181661605835\n",
      "Needed time: 26.88477349281311\n",
      "Needed time: 24.84562110900879\n"
     ]
    },
    {
     "name": "stderr",
     "output_type": "stream",
     "text": [
      "\r",
      " 20%|██        | 18/90 [5:15:00<20:04:01, 1003.35s/it]"
     ]
    },
    {
     "name": "stdout",
     "output_type": "stream",
     "text": [
      "Needed time: 20.842395067214966\n",
      "Needed time: 28.860593557357788\n",
      "Needed time: 28.921780109405518\n",
      "Needed time: 26.897393226623535\n",
      "Needed time: 26.850356340408325\n",
      "Needed time: 22.84425401687622\n",
      "Needed time: 20.75031042098999\n",
      "Needed time: 18.709128618240356\n",
      "Needed time: 16.73721480369568\n",
      "Needed time: 24.873370885849\n",
      "Needed time: 24.968444347381592\n",
      "Needed time: 24.865827322006226\n",
      "Needed time: 26.941385746002197\n",
      "Needed time: 26.719097137451172\n",
      "Needed time: 24.90014123916626\n",
      "Needed time: 24.821579456329346\n",
      "Needed time: 26.78394341468811\n",
      "Needed time: 26.914946794509888\n",
      "Needed time: 26.832051992416382\n",
      "Needed time: 26.72111201286316\n",
      "Needed time: 26.79305148124695\n",
      "Needed time: 24.676953077316284\n",
      "Needed time: 4.472733497619629\n",
      "Needed time: 24.777751922607422\n",
      "Needed time: 26.884358882904053\n",
      "Needed time: 26.73162317276001\n",
      "Needed time: 24.850308656692505\n",
      "Needed time: 24.853495597839355\n",
      "Needed time: 24.87265634536743\n",
      "Needed time: 26.855390548706055\n",
      "Needed time: 24.85868811607361\n",
      "Needed time: 24.83170771598816\n",
      "Needed time: 26.923477172851562\n",
      "Needed time: 26.711711406707764\n",
      "Needed time: 26.901633739471436\n",
      "Needed time: 26.96532654762268\n",
      "Needed time: 24.829526662826538\n"
     ]
    },
    {
     "name": "stderr",
     "output_type": "stream",
     "text": [
      "\r",
      " 21%|██        | 19/90 [5:30:28<19:20:24, 980.63s/it] "
     ]
    },
    {
     "name": "stdout",
     "output_type": "stream",
     "text": [
      "Needed time: 24.811368465423584\n",
      "Needed time: 24.907179594039917\n",
      "Needed time: 24.87563419342041\n",
      "Needed time: 24.783504486083984\n",
      "Needed time: 22.787977695465088\n",
      "Needed time: 20.783702611923218\n",
      "Needed time: 18.665092945098877\n",
      "Needed time: 18.68586039543152\n",
      "Needed time: 26.773837089538574\n",
      "Needed time: 24.869803190231323\n",
      "Needed time: 24.84420919418335\n",
      "Needed time: 27.00981092453003\n",
      "Needed time: 24.943169593811035\n",
      "Needed time: 26.842870712280273\n",
      "Needed time: 26.86710810661316\n",
      "Needed time: 26.881138801574707\n",
      "Needed time: 26.769920349121094\n",
      "Needed time: 24.974952220916748\n",
      "Needed time: 26.809382438659668\n",
      "Needed time: 26.88060212135315\n",
      "Needed time: 24.89480233192444\n",
      "Needed time: 26.851329565048218\n",
      "Needed time: 26.79005455970764\n",
      "Needed time: 24.87198495864868\n",
      "Needed time: 26.762786149978638\n",
      "Needed time: 24.93258023262024\n",
      "Needed time: 26.706782579421997\n",
      "Needed time: 24.774708032608032\n",
      "Needed time: 12.623844623565674\n",
      "Needed time: 25.06111717224121\n",
      "Needed time: 26.934394598007202\n",
      "Needed time: 24.944004774093628\n",
      "Needed time: 26.90828800201416\n",
      "Needed time: 26.86955952644348\n",
      "Needed time: 26.816848516464233\n",
      "Needed time: 24.863828897476196\n"
     ]
    },
    {
     "name": "stderr",
     "output_type": "stream",
     "text": [
      "\r",
      " 22%|██▏       | 20/90 [5:45:33<18:37:41, 958.03s/it]"
     ]
    },
    {
     "name": "stdout",
     "output_type": "stream",
     "text": [
      "Needed time: 24.878784656524658\n",
      "Needed time: 24.73436713218689\n",
      "Needed time: 24.83153247833252\n",
      "Needed time: 24.793219804763794\n",
      "Needed time: 20.76305055618286\n",
      "Needed time: 20.780515670776367\n",
      "Needed time: 16.72447657585144\n",
      "Needed time: 18.748114109039307\n",
      "Needed time: 24.8025324344635\n",
      "Needed time: 26.7313871383667\n",
      "Needed time: 26.70381784439087\n",
      "Needed time: 26.9898841381073\n",
      "Needed time: 25.002155303955078\n",
      "Needed time: 26.73291540145874\n",
      "Needed time: 26.725472927093506\n",
      "Needed time: 27.13797163963318\n",
      "Needed time: 24.776821851730347\n",
      "Needed time: 26.855161428451538\n",
      "Needed time: 27.00727677345276\n",
      "Needed time: 24.97046208381653\n",
      "Needed time: 24.834956407546997\n",
      "Needed time: 26.971510887145996\n",
      "Needed time: 26.951195240020752\n",
      "Needed time: 26.825982809066772\n",
      "Needed time: 24.858155250549316\n",
      "Needed time: 27.04519534111023\n",
      "Needed time: 26.880674839019775\n",
      "Needed time: 26.905583381652832\n",
      "Needed time: 4.482388257980347\n",
      "Needed time: 24.87202548980713\n",
      "Needed time: 26.957924842834473\n",
      "Needed time: 26.73954939842224\n",
      "Needed time: 26.773794174194336\n",
      "Needed time: 26.79472541809082\n",
      "Needed time: 24.877161264419556\n",
      "Needed time: 26.84693956375122\n"
     ]
    },
    {
     "name": "stderr",
     "output_type": "stream",
     "text": [
      "\r",
      " 23%|██▎       | 21/90 [6:00:34<18:02:05, 940.95s/it]"
     ]
    },
    {
     "name": "stdout",
     "output_type": "stream",
     "text": [
      "Needed time: 26.787206411361694\n",
      "Needed time: 24.80950117111206\n",
      "Needed time: 24.83259105682373\n",
      "Needed time: 22.832565546035767\n",
      "Needed time: 24.919870138168335\n",
      "Needed time: 20.706330060958862\n",
      "Needed time: 18.729605197906494\n",
      "Needed time: 18.8075430393219\n",
      "Needed time: 24.766127824783325\n",
      "Needed time: 24.99083924293518\n",
      "Needed time: 26.893266916275024\n",
      "Needed time: 26.82639217376709\n",
      "Needed time: 26.846139907836914\n",
      "Needed time: 24.85338807106018\n",
      "Needed time: 26.968947649002075\n",
      "Needed time: 24.9091899394989\n",
      "Needed time: 26.878509998321533\n",
      "Needed time: 26.832350492477417\n",
      "Needed time: 24.971254587173462\n",
      "Needed time: 24.884317874908447\n",
      "Needed time: 26.841070413589478\n",
      "Needed time: 26.68265438079834\n",
      "Needed time: 26.772878646850586\n",
      "Needed time: 24.95014524459839\n",
      "Needed time: 26.9454243183136\n",
      "Needed time: 24.87173318862915\n",
      "Needed time: 26.741729021072388\n",
      "Needed time: 26.835870027542114\n",
      "Needed time: 26.92576503753662\n",
      "Needed time: 24.899672746658325\n",
      "Needed time: 26.87651228904724\n",
      "Needed time: 24.956660270690918\n",
      "Needed time: 26.94174599647522\n",
      "Needed time: 26.74682879447937\n",
      "Needed time: 24.903634548187256\n",
      "Needed time: 26.927364349365234\n"
     ]
    },
    {
     "name": "stderr",
     "output_type": "stream",
     "text": [
      "\r",
      " 24%|██▍       | 22/90 [6:15:54<17:39:14, 934.63s/it]"
     ]
    },
    {
     "name": "stdout",
     "output_type": "stream",
     "text": [
      "Needed time: 24.804948568344116\n",
      "Needed time: 24.932010889053345\n",
      "Needed time: 26.898964643478394\n",
      "Needed time: 22.942697763442993\n",
      "Needed time: 22.901078701019287\n",
      "Needed time: 20.823628664016724\n",
      "Needed time: 18.611298322677612\n",
      "Needed time: 14.680891275405884\n",
      "Needed time: 24.848050832748413\n",
      "Needed time: 24.911110639572144\n",
      "Needed time: 26.85448384284973\n",
      "Needed time: 26.80089259147644\n",
      "Needed time: 26.89691710472107\n",
      "Needed time: 26.69302535057068\n",
      "Needed time: 24.87458038330078\n",
      "Needed time: 26.836233139038086\n",
      "Needed time: 26.962371587753296\n",
      "Needed time: 26.742695569992065\n",
      "Needed time: 26.809473514556885\n",
      "Needed time: 24.915801525115967\n",
      "Needed time: 24.954679489135742\n",
      "Needed time: 4.4766786098480225\n",
      "Needed time: 26.809335470199585\n",
      "Needed time: 24.89372754096985\n",
      "Needed time: 26.908349990844727\n",
      "Needed time: 24.858364820480347\n",
      "Needed time: 26.87423825263977\n",
      "Needed time: 26.70831799507141\n",
      "Needed time: 4.463125705718994\n",
      "Needed time: 26.837192058563232\n",
      "Needed time: 24.932613372802734\n",
      "Needed time: 26.90095591545105\n",
      "Needed time: 24.845428228378296\n",
      "Needed time: 26.901025772094727\n",
      "Needed time: 26.857916593551636\n",
      "Needed time: 26.932159900665283\n"
     ]
    },
    {
     "name": "stderr",
     "output_type": "stream",
     "text": [
      "\r",
      " 26%|██▌       | 23/90 [6:30:29<17:03:37, 916.67s/it]"
     ]
    },
    {
     "name": "stdout",
     "output_type": "stream",
     "text": [
      "Needed time: 24.85247564315796\n",
      "Needed time: 24.859214305877686\n",
      "Needed time: 24.939868927001953\n",
      "Needed time: 20.81375813484192\n",
      "Needed time: 18.688292264938354\n",
      "Needed time: 16.78577494621277\n",
      "Needed time: 12.636942148208618\n",
      "Needed time: 26.757792949676514\n",
      "Needed time: 24.810169458389282\n",
      "Needed time: 26.813497066497803\n",
      "Needed time: 26.914191484451294\n",
      "Needed time: 26.915460109710693\n",
      "Needed time: 26.776463747024536\n",
      "Needed time: 24.910311937332153\n",
      "Needed time: 26.990278244018555\n",
      "Needed time: 26.903767585754395\n",
      "Needed time: 26.678115606307983\n",
      "Needed time: 26.924343824386597\n",
      "Needed time: 26.84392476081848\n",
      "Needed time: 24.827666997909546\n",
      "Needed time: 26.940826416015625\n",
      "Needed time: 24.841950178146362\n",
      "Needed time: 26.894790649414062\n",
      "Needed time: 27.02450180053711\n",
      "Needed time: 26.90555763244629\n",
      "Needed time: 26.808083295822144\n",
      "Needed time: 26.818511247634888\n",
      "Needed time: 4.4581663608551025\n",
      "Needed time: 24.888622522354126\n",
      "Needed time: 26.8749737739563\n",
      "Needed time: 26.812909364700317\n",
      "Needed time: 26.69317364692688\n",
      "Needed time: 26.87978768348694\n",
      "Needed time: 26.841984748840332\n",
      "Needed time: 24.748181343078613\n"
     ]
    },
    {
     "name": "stderr",
     "output_type": "stream",
     "text": [
      "\r",
      " 27%|██▋       | 24/90 [6:45:00<16:33:31, 903.20s/it]"
     ]
    },
    {
     "name": "stdout",
     "output_type": "stream",
     "text": [
      "Needed time: 26.762827157974243\n",
      "Needed time: 24.804794311523438\n",
      "Needed time: 22.902371406555176\n",
      "Needed time: 20.724185466766357\n",
      "Needed time: 20.674864530563354\n",
      "Needed time: 20.769395351409912\n",
      "Needed time: 14.7012779712677\n",
      "Needed time: 24.904778242111206\n",
      "Needed time: 24.90778088569641\n",
      "Needed time: 26.768728017807007\n",
      "Needed time: 26.890629053115845\n",
      "Needed time: 26.850714445114136\n",
      "Needed time: 26.792291402816772\n",
      "Needed time: 26.952641487121582\n",
      "Needed time: 24.915133476257324\n",
      "Needed time: 26.80816650390625\n",
      "Needed time: 26.73847508430481\n",
      "Needed time: 24.904219150543213\n",
      "Needed time: 26.703222513198853\n",
      "Needed time: 24.94709610939026\n",
      "Needed time: 26.872373819351196\n",
      "Needed time: 26.88188076019287\n",
      "Needed time: 26.83923625946045\n",
      "Needed time: 24.91297149658203\n",
      "Needed time: 26.7754864692688\n",
      "Needed time: 26.818088054656982\n",
      "Needed time: 24.93613052368164\n",
      "Needed time: 26.78143048286438\n",
      "Needed time: 26.837573528289795\n",
      "Needed time: 26.743438005447388\n",
      "Needed time: 26.731691598892212\n",
      "Needed time: 26.83820128440857\n",
      "Needed time: 26.871503829956055\n",
      "Needed time: 24.94929003715515\n",
      "Needed time: 26.873876571655273\n"
     ]
    },
    {
     "name": "stderr",
     "output_type": "stream",
     "text": [
      "\r",
      " 28%|██▊       | 25/90 [6:59:56<16:16:06, 901.03s/it]"
     ]
    },
    {
     "name": "stdout",
     "output_type": "stream",
     "text": [
      "Needed time: 26.88686490058899\n",
      "Needed time: 24.89844822883606\n",
      "Needed time: 24.891781091690063\n",
      "Needed time: 22.924009084701538\n",
      "Needed time: 18.617391109466553\n",
      "Needed time: 16.71960210800171\n",
      "Needed time: 14.611958503723145\n",
      "Needed time: 24.83569836616516\n",
      "Needed time: 26.952568292617798\n",
      "Needed time: 26.817750453948975\n",
      "Needed time: 26.910895586013794\n",
      "Needed time: 26.84850573539734\n",
      "Needed time: 26.760085582733154\n",
      "Needed time: 26.845381259918213\n",
      "Needed time: 24.89075016975403\n",
      "Needed time: 26.81861400604248\n",
      "Needed time: 26.879791259765625\n",
      "Needed time: 27.01429796218872\n",
      "Needed time: 24.799723386764526\n",
      "Needed time: 24.806068181991577\n",
      "Needed time: 4.4764604568481445\n",
      "Needed time: 24.88940715789795\n",
      "Needed time: 26.87782645225525\n",
      "Needed time: 27.000527143478394\n",
      "Needed time: 24.954927444458008\n",
      "Needed time: 26.821661472320557\n",
      "Needed time: 24.873754262924194\n",
      "Needed time: 26.87876868247986\n",
      "Needed time: 26.90383005142212\n",
      "Needed time: 26.77172327041626\n",
      "Needed time: 26.718964338302612\n",
      "Needed time: 26.672157287597656\n",
      "Needed time: 26.821612119674683\n",
      "Needed time: 26.77794885635376\n",
      "Needed time: 26.811302661895752\n"
     ]
    },
    {
     "name": "stderr",
     "output_type": "stream",
     "text": [
      "\r",
      " 29%|██▉       | 26/90 [7:14:28<15:51:42, 892.23s/it]"
     ]
    },
    {
     "name": "stdout",
     "output_type": "stream",
     "text": [
      "Needed time: 24.98433566093445\n",
      "Needed time: 22.834577560424805\n",
      "Needed time: 18.65796947479248\n",
      "Needed time: 20.70871615409851\n",
      "Needed time: 14.680766105651855\n",
      "Needed time: 12.653911828994751\n",
      "Needed time: 24.734530925750732\n",
      "Needed time: 26.672156810760498\n",
      "Needed time: 26.8784601688385\n",
      "Needed time: 26.826882362365723\n",
      "Needed time: 24.92550539970398\n",
      "Needed time: 26.79121971130371\n",
      "Needed time: 26.90778684616089\n",
      "Needed time: 26.914662837982178\n",
      "Needed time: 26.83634114265442\n",
      "Needed time: 26.823856592178345\n",
      "Needed time: 26.70500659942627\n",
      "Needed time: 24.83018207550049\n",
      "Needed time: 26.899476051330566\n",
      "Needed time: 26.76949405670166\n",
      "Needed time: 26.914272785186768\n",
      "Needed time: 26.82811188697815\n",
      "Needed time: 24.981712818145752\n",
      "Needed time: 26.781708478927612\n",
      "Needed time: 26.697641611099243\n",
      "Needed time: 26.87925696372986\n",
      "Needed time: 24.931781768798828\n",
      "Needed time: 26.828215837478638\n",
      "Needed time: 26.865089654922485\n",
      "Needed time: 26.77412462234497\n",
      "Needed time: 26.874836683273315\n",
      "Needed time: 26.736363887786865\n",
      "Needed time: 26.82779312133789\n",
      "Needed time: 26.809725284576416\n"
     ]
    },
    {
     "name": "stderr",
     "output_type": "stream",
     "text": [
      "\r",
      " 30%|███       | 27/90 [7:28:52<15:27:57, 883.78s/it]"
     ]
    },
    {
     "name": "stdout",
     "output_type": "stream",
     "text": [
      "Needed time: 24.8505220413208\n",
      "Needed time: 22.737496376037598\n",
      "Needed time: 20.70935821533203\n",
      "Needed time: 18.715996980667114\n",
      "Needed time: 12.627483129501343\n",
      "Needed time: 16.860249280929565\n",
      "Needed time: 24.868186473846436\n",
      "Needed time: 24.94660520553589\n",
      "Needed time: 27.025634765625\n",
      "Needed time: 26.824208736419678\n",
      "Needed time: 26.842098474502563\n",
      "Needed time: 26.918102502822876\n",
      "Needed time: 26.86246681213379\n",
      "Needed time: 26.826668739318848\n",
      "Needed time: 26.892475128173828\n",
      "Needed time: 26.911114931106567\n",
      "Needed time: 26.813753128051758\n",
      "Needed time: 26.892204761505127\n",
      "Needed time: 20.781837701797485\n",
      "Needed time: 24.938499927520752\n",
      "Needed time: 26.85772728919983\n",
      "Needed time: 26.773435354232788\n",
      "Needed time: 26.92464566230774\n",
      "Needed time: 24.897041082382202\n",
      "Needed time: 26.88551664352417\n",
      "Needed time: 26.87225580215454\n",
      "Needed time: 26.824644327163696\n",
      "Needed time: 26.814669370651245\n",
      "Needed time: 26.81736707687378\n",
      "Needed time: 26.781363248825073\n",
      "Needed time: 26.681955814361572\n",
      "Needed time: 26.831894636154175\n",
      "Needed time: 26.93081045150757\n",
      "Needed time: 26.952483654022217\n"
     ]
    },
    {
     "name": "stderr",
     "output_type": "stream",
     "text": [
      "\r",
      " 31%|███       | 28/90 [7:43:17<15:07:27, 878.19s/it]"
     ]
    },
    {
     "name": "stdout",
     "output_type": "stream",
     "text": [
      "Needed time: 26.90455460548401\n",
      "Needed time: 22.81542181968689\n",
      "Needed time: 18.58892560005188\n",
      "Needed time: 16.69454002380371\n",
      "Needed time: 14.632717609405518\n",
      "Needed time: 12.607370138168335\n",
      "Needed time: 24.867127656936646\n",
      "Needed time: 24.741074085235596\n",
      "Needed time: 26.855647087097168\n",
      "Needed time: 26.801471948623657\n",
      "Needed time: 26.831881284713745\n",
      "Needed time: 26.979445457458496\n",
      "Needed time: 26.859737396240234\n",
      "Needed time: 26.89487624168396\n",
      "Needed time: 26.93319344520569\n",
      "Needed time: 26.845356464385986\n",
      "Needed time: 26.76298213005066\n",
      "Needed time: 26.84427309036255\n",
      "Needed time: 24.792991399765015\n",
      "Needed time: 24.962149381637573\n",
      "Needed time: 26.929680109024048\n",
      "Needed time: 26.91360640525818\n",
      "Needed time: 26.91765332221985\n",
      "Needed time: 26.760169744491577\n",
      "Needed time: 26.898430585861206\n",
      "Needed time: 26.815782070159912\n",
      "Needed time: 26.880738735198975\n",
      "Needed time: 24.790446043014526\n",
      "Needed time: 26.9876389503479\n",
      "Needed time: 26.809507131576538\n",
      "Needed time: 26.89679718017578\n",
      "Needed time: 26.81712818145752\n",
      "Needed time: 26.81009817123413\n",
      "Needed time: 27.00157332420349\n"
     ]
    },
    {
     "name": "stderr",
     "output_type": "stream",
     "text": [
      "\r",
      " 32%|███▏      | 29/90 [7:57:38<14:47:32, 873.00s/it]"
     ]
    },
    {
     "name": "stdout",
     "output_type": "stream",
     "text": [
      "Needed time: 24.90971803665161\n",
      "Needed time: 20.76911950111389\n",
      "Needed time: 16.689800024032593\n",
      "Needed time: 14.690563678741455\n",
      "Needed time: 4.4806296825408936\n",
      "Needed time: 24.919451475143433\n",
      "Needed time: 25.019190549850464\n",
      "Needed time: 26.7259521484375\n",
      "Needed time: 26.809988021850586\n",
      "Needed time: 26.896437644958496\n",
      "Needed time: 26.873639345169067\n",
      "Needed time: 24.968501806259155\n",
      "Needed time: 26.891357898712158\n",
      "Needed time: 26.897130727767944\n",
      "Needed time: 26.996878623962402\n",
      "Needed time: 24.877822637557983\n",
      "Needed time: 24.98345947265625\n",
      "Needed time: 24.978991985321045\n",
      "Needed time: 24.84688115119934\n",
      "Needed time: 26.91228675842285\n",
      "Needed time: 26.910847425460815\n",
      "Needed time: 26.869124174118042\n",
      "Needed time: 26.766165494918823\n",
      "Needed time: 26.8588604927063\n",
      "Needed time: 26.85235571861267\n",
      "Needed time: 25.01105570793152\n",
      "Needed time: 4.474826335906982\n",
      "Needed time: 26.767759323120117\n",
      "Needed time: 26.813456058502197\n",
      "Needed time: 26.983803749084473\n",
      "Needed time: 26.767606019973755\n",
      "Needed time: 26.81903076171875\n",
      "Needed time: 26.759634971618652\n"
     ]
    },
    {
     "name": "stderr",
     "output_type": "stream",
     "text": [
      "\r",
      " 33%|███▎      | 30/90 [8:11:03<14:12:39, 852.66s/it]"
     ]
    },
    {
     "name": "stdout",
     "output_type": "stream",
     "text": [
      "Needed time: 26.731914520263672\n",
      "Needed time: 18.7524631023407\n",
      "Needed time: 14.785242795944214\n",
      "Needed time: 14.649160385131836\n",
      "Needed time: 4.471859693527222\n",
      "Needed time: 26.65296959877014\n",
      "Needed time: 24.904479265213013\n",
      "Needed time: 26.76386785507202\n",
      "Needed time: 24.929927349090576\n",
      "Needed time: 26.912246704101562\n",
      "Needed time: 26.888813972473145\n",
      "Needed time: 24.94542121887207\n",
      "Needed time: 26.992513179779053\n",
      "Needed time: 26.741632223129272\n",
      "Needed time: 26.8586106300354\n",
      "Needed time: 24.90038824081421\n",
      "Needed time: 24.83700966835022\n",
      "Needed time: 24.80573868751526\n",
      "Needed time: 26.79883599281311\n",
      "Needed time: 26.74740195274353\n",
      "Needed time: 26.889631032943726\n",
      "Needed time: 26.825074911117554\n",
      "Needed time: 26.901633501052856\n",
      "Needed time: 24.942999362945557\n",
      "Needed time: 26.83879542350769\n",
      "Needed time: 26.820969104766846\n",
      "Needed time: 26.941691875457764\n",
      "Needed time: 26.789125204086304\n",
      "Needed time: 26.891939401626587\n",
      "Needed time: 24.92313313484192\n",
      "Needed time: 27.040358304977417\n",
      "Needed time: 24.94739055633545\n",
      "Needed time: 26.76530694961548\n"
     ]
    },
    {
     "name": "stderr",
     "output_type": "stream",
     "text": [
      "\r",
      " 34%|███▍      | 31/90 [8:24:43<13:48:41, 842.73s/it]"
     ]
    },
    {
     "name": "stdout",
     "output_type": "stream",
     "text": [
      "Needed time: 24.96557092666626\n",
      "Needed time: 20.700252056121826\n",
      "Needed time: 14.592756271362305\n",
      "Needed time: 12.655362129211426\n",
      "Needed time: 4.484212398529053\n",
      "Needed time: 24.912770986557007\n",
      "Needed time: 26.69003939628601\n",
      "Needed time: 26.970247268676758\n",
      "Needed time: 26.83647322654724\n",
      "Needed time: 24.88599467277527\n",
      "Needed time: 26.789811372756958\n",
      "Needed time: 26.93519163131714\n",
      "Needed time: 26.85641884803772\n",
      "Needed time: 26.880640745162964\n",
      "Needed time: 26.766321659088135\n",
      "Needed time: 25.04877233505249\n",
      "Needed time: 24.881297826766968\n",
      "Needed time: 24.800766706466675\n",
      "Needed time: 24.768463134765625\n",
      "Needed time: 24.881828784942627\n",
      "Needed time: 26.91648292541504\n",
      "Needed time: 24.92422652244568\n",
      "Needed time: 26.84097957611084\n",
      "Needed time: 26.909233808517456\n",
      "Needed time: 24.871832370758057\n",
      "Needed time: 26.755388975143433\n",
      "Needed time: 26.93502712249756\n",
      "Needed time: 26.889410495758057\n",
      "Needed time: 26.82030177116394\n",
      "Needed time: 26.754196643829346\n",
      "Needed time: 26.853630542755127\n",
      "Needed time: 26.77144479751587\n"
     ]
    },
    {
     "name": "stderr",
     "output_type": "stream",
     "text": [
      "\r",
      " 36%|███▌      | 32/90 [8:37:57<13:20:26, 828.03s/it]"
     ]
    },
    {
     "name": "stdout",
     "output_type": "stream",
     "text": [
      "Needed time: 26.7571964263916\n",
      "Needed time: 16.62764072418213\n",
      "Needed time: 12.660152673721313\n",
      "Needed time: 20.723690032958984\n",
      "Needed time: 24.918900728225708\n",
      "Needed time: 26.87525248527527\n",
      "Needed time: 24.97207808494568\n",
      "Needed time: 26.905117511749268\n",
      "Needed time: 26.845212697982788\n",
      "Needed time: 26.76759648323059\n",
      "Needed time: 26.886196613311768\n",
      "Needed time: 24.99340534210205\n",
      "Needed time: 26.71871566772461\n",
      "Needed time: 26.82012963294983\n",
      "Needed time: 26.843780279159546\n",
      "Needed time: 24.878430366516113\n",
      "Needed time: 24.82169485092163\n",
      "Needed time: 26.668717861175537\n",
      "Needed time: 24.74316716194153\n",
      "Needed time: 26.969311714172363\n",
      "Needed time: 26.82594585418701\n",
      "Needed time: 26.956765174865723\n",
      "Needed time: 24.93880319595337\n",
      "Needed time: 26.918310403823853\n",
      "Needed time: 26.927634477615356\n",
      "Needed time: 4.475615501403809\n",
      "Needed time: 25.077183723449707\n",
      "Needed time: 26.71125888824463\n",
      "Needed time: 26.902443647384644\n",
      "Needed time: 26.807992696762085\n",
      "Needed time: 26.776164531707764\n"
     ]
    },
    {
     "name": "stderr",
     "output_type": "stream",
     "text": [
      "\r",
      " 37%|███▋      | 33/90 [8:50:46<12:49:45, 810.28s/it]"
     ]
    },
    {
     "name": "stdout",
     "output_type": "stream",
     "text": [
      "Needed time: 24.97865605354309\n",
      "Needed time: 16.655579090118408\n",
      "Needed time: 14.682048320770264\n",
      "Needed time: 22.767465114593506\n",
      "Needed time: 24.775041341781616\n",
      "Needed time: 26.89130163192749\n",
      "Needed time: 26.75905442237854\n",
      "Needed time: 26.818223237991333\n",
      "Needed time: 26.847553730010986\n",
      "Needed time: 26.74911665916443\n",
      "Needed time: 26.90723156929016\n",
      "Needed time: 26.829777002334595\n",
      "Needed time: 26.82065224647522\n",
      "Needed time: 26.93474245071411\n",
      "Needed time: 26.804049253463745\n",
      "Needed time: 24.812460899353027\n",
      "Needed time: 12.79638147354126\n",
      "Needed time: 24.82855200767517\n",
      "Needed time: 24.947712659835815\n",
      "Needed time: 24.883237600326538\n",
      "Needed time: 24.911932468414307\n",
      "Needed time: 27.004401683807373\n",
      "Needed time: 26.743759393692017\n",
      "Needed time: 26.918179273605347\n",
      "Needed time: 26.932653665542603\n",
      "Needed time: 4.484381198883057\n",
      "Needed time: 26.845195055007935\n",
      "Needed time: 26.66015648841858\n",
      "Needed time: 26.706079721450806\n",
      "Needed time: 26.908556699752808\n",
      "Needed time: 26.88993787765503\n"
     ]
    },
    {
     "name": "stderr",
     "output_type": "stream",
     "text": [
      "\r",
      " 38%|███▊      | 34/90 [9:03:30<12:23:20, 796.43s/it]"
     ]
    },
    {
     "name": "stdout",
     "output_type": "stream",
     "text": [
      "Needed time: 26.771120071411133\n",
      "Needed time: 16.586928606033325\n",
      "Needed time: 10.553322315216064\n",
      "Needed time: 4.482614994049072\n",
      "Needed time: 24.954845666885376\n",
      "Needed time: 24.747997999191284\n",
      "Needed time: 26.79005193710327\n",
      "Needed time: 26.840909004211426\n",
      "Needed time: 26.977569818496704\n",
      "Needed time: 26.892802000045776\n",
      "Needed time: 24.94432544708252\n",
      "Needed time: 26.852164030075073\n",
      "Needed time: 26.806450128555298\n",
      "Needed time: 26.81301975250244\n",
      "Needed time: 26.813448667526245\n",
      "Needed time: 24.920878410339355\n",
      "Needed time: 20.881163120269775\n",
      "Needed time: 22.903271436691284\n",
      "Needed time: 24.87068462371826\n",
      "Needed time: 26.781532049179077\n",
      "Needed time: 26.870712518692017\n",
      "Needed time: 26.673233032226562\n",
      "Needed time: 26.90879225730896\n",
      "Needed time: 26.84169602394104\n",
      "Needed time: 25.023149967193604\n",
      "Needed time: 27.025780200958252\n",
      "Needed time: 26.841296672821045\n",
      "Needed time: 26.866028547286987\n",
      "Needed time: 26.775275230407715\n",
      "Needed time: 26.727853536605835\n",
      "Needed time: 26.79079508781433\n"
     ]
    },
    {
     "name": "stderr",
     "output_type": "stream",
     "text": [
      "\r",
      " 39%|███▉      | 35/90 [9:16:18<12:02:22, 788.04s/it]"
     ]
    },
    {
     "name": "stdout",
     "output_type": "stream",
     "text": [
      "Needed time: 26.838775396347046\n",
      "Needed time: 12.579767942428589\n",
      "Needed time: 10.57048511505127\n",
      "Needed time: 24.897980213165283\n",
      "Needed time: 24.711610794067383\n",
      "Needed time: 26.85924458503723\n",
      "Needed time: 24.865540742874146\n",
      "Needed time: 26.98146963119507\n",
      "Needed time: 26.905792236328125\n",
      "Needed time: 26.91624164581299\n",
      "Needed time: 26.931055784225464\n",
      "Needed time: 24.955175161361694\n",
      "Needed time: 27.017635822296143\n",
      "Needed time: 26.94881558418274\n",
      "Needed time: 24.72909641265869\n",
      "Needed time: 24.827703714370728\n",
      "Needed time: 24.852640628814697\n",
      "Needed time: 24.65994644165039\n",
      "Needed time: 26.701525449752808\n",
      "Needed time: 26.788442850112915\n",
      "Needed time: 24.922813177108765\n",
      "Needed time: 26.929134607315063\n",
      "Needed time: 26.833480834960938\n",
      "Needed time: 26.882819414138794\n",
      "Needed time: 4.473537921905518\n",
      "Needed time: 24.897985458374023\n",
      "Needed time: 26.89610505104065\n",
      "Needed time: 26.79980707168579\n",
      "Needed time: 26.934730529785156\n",
      "Needed time: 26.90089464187622\n"
     ]
    },
    {
     "name": "stderr",
     "output_type": "stream",
     "text": [
      "\r",
      " 40%|████      | 36/90 [9:28:38<11:36:10, 773.54s/it]"
     ]
    },
    {
     "name": "stdout",
     "output_type": "stream",
     "text": [
      "Needed time: 26.797444105148315\n",
      "Needed time: 10.552630186080933\n",
      "Needed time: 26.758171319961548\n",
      "Needed time: 24.966644763946533\n",
      "Needed time: 26.88176918029785\n",
      "Needed time: 26.845548629760742\n",
      "Needed time: 24.814838409423828\n",
      "Needed time: 26.9313485622406\n",
      "Needed time: 26.960828065872192\n",
      "Needed time: 26.820452213287354\n",
      "Needed time: 26.950361490249634\n",
      "Needed time: 26.802638053894043\n",
      "Needed time: 26.86705470085144\n",
      "Needed time: 24.88595199584961\n",
      "Needed time: 22.89769220352173\n",
      "Needed time: 24.876585006713867\n",
      "Needed time: 22.84982180595398\n",
      "Needed time: 24.835617065429688\n",
      "Needed time: 24.864877462387085\n",
      "Needed time: 26.720471143722534\n",
      "Needed time: 26.84618592262268\n",
      "Needed time: 26.94006872177124\n",
      "Needed time: 26.77048969268799\n",
      "Needed time: 24.93131685256958\n",
      "Needed time: 26.9246768951416\n",
      "Needed time: 26.85454821586609\n",
      "Needed time: 24.820677280426025\n",
      "Needed time: 26.93534207344055\n",
      "Needed time: 26.81946086883545\n",
      "Needed time: 26.806800842285156\n"
     ]
    },
    {
     "name": "stderr",
     "output_type": "stream",
     "text": [
      "\r",
      " 41%|████      | 37/90 [9:41:30<11:22:52, 773.07s/it]"
     ]
    },
    {
     "name": "stdout",
     "output_type": "stream",
     "text": [
      "Needed time: 26.796682834625244\n",
      "Needed time: 12.645229816436768\n",
      "Needed time: 26.840586185455322\n",
      "Needed time: 24.887323141098022\n",
      "Needed time: 26.951253652572632\n",
      "Needed time: 24.956580877304077\n",
      "Needed time: 26.80186128616333\n",
      "Needed time: 26.85966658592224\n",
      "Needed time: 26.766759157180786\n",
      "Needed time: 26.853416204452515\n",
      "Needed time: 26.90296483039856\n",
      "Needed time: 27.011735200881958\n",
      "Needed time: 26.896700382232666\n",
      "Needed time: 24.854215145111084\n",
      "Needed time: 24.70292019844055\n",
      "Needed time: 4.498960494995117\n",
      "Needed time: 24.931093215942383\n",
      "Needed time: 24.898018836975098\n",
      "Needed time: 24.923867225646973\n",
      "Needed time: 24.796704292297363\n",
      "Needed time: 26.727901220321655\n",
      "Needed time: 24.75898241996765\n",
      "Needed time: 26.815658807754517\n",
      "Needed time: 26.789315223693848\n",
      "Needed time: 24.799563884735107\n",
      "Needed time: 26.93220281600952\n",
      "Needed time: 26.914941787719727\n",
      "Needed time: 24.994108200073242\n",
      "Needed time: 26.788121700286865\n",
      "Needed time: 27.014312267303467\n"
     ]
    },
    {
     "name": "stderr",
     "output_type": "stream",
     "text": [
      "\r",
      " 42%|████▏     | 38/90 [9:54:02<11:04:29, 766.72s/it]"
     ]
    },
    {
     "name": "stdout",
     "output_type": "stream",
     "text": [
      "Needed time: 24.932698249816895\n",
      "Needed time: 6.514070272445679\n",
      "Needed time: 26.851053476333618\n",
      "Needed time: 26.737088680267334\n",
      "Needed time: 26.91930866241455\n",
      "Needed time: 26.810763597488403\n",
      "Needed time: 26.718212127685547\n",
      "Needed time: 24.956828117370605\n",
      "Needed time: 26.917376041412354\n",
      "Needed time: 26.86510729789734\n",
      "Needed time: 25.004563570022583\n",
      "Needed time: 26.826945781707764\n",
      "Needed time: 26.78116774559021\n",
      "Needed time: 24.92209219932556\n",
      "Needed time: 16.609880924224854\n",
      "Needed time: 22.718239784240723\n",
      "Needed time: 24.78799605369568\n",
      "Needed time: 24.783248901367188\n",
      "Needed time: 26.97937321662903\n",
      "Needed time: 24.863991260528564\n",
      "Needed time: 26.768956184387207\n",
      "Needed time: 26.79142928123474\n",
      "Needed time: 26.793622732162476\n",
      "Needed time: 26.72739577293396\n",
      "Needed time: 26.844045162200928\n",
      "Needed time: 26.818182706832886\n",
      "Needed time: 26.847745418548584\n",
      "Needed time: 26.775270700454712\n",
      "Needed time: 24.888050317764282\n"
     ]
    },
    {
     "name": "stderr",
     "output_type": "stream",
     "text": [
      "\r",
      " 43%|████▎     | 39/90 [10:06:17<10:43:48, 757.43s/it]"
     ]
    },
    {
     "name": "stdout",
     "output_type": "stream",
     "text": [
      "Needed time: 26.881036281585693\n",
      "Needed time: 10.69083023071289\n",
      "Needed time: 26.81105899810791\n",
      "Needed time: 26.712112426757812\n",
      "Needed time: 26.822463750839233\n",
      "Needed time: 26.840112447738647\n",
      "Needed time: 26.846351861953735\n",
      "Needed time: 26.991050243377686\n",
      "Needed time: 26.825129508972168\n",
      "Needed time: 24.959841012954712\n",
      "Needed time: 26.928275108337402\n",
      "Needed time: 24.785383224487305\n",
      "Needed time: 24.87659454345703\n",
      "Needed time: 24.785623788833618\n",
      "Needed time: 18.77907395362854\n",
      "Needed time: 20.718925952911377\n",
      "Needed time: 24.84488844871521\n",
      "Needed time: 24.84951162338257\n",
      "Needed time: 26.725761651992798\n",
      "Needed time: 26.789332151412964\n",
      "Needed time: 26.862517833709717\n",
      "Needed time: 26.854055166244507\n",
      "Needed time: 26.965248584747314\n",
      "Needed time: 24.812929153442383\n",
      "Needed time: 4.467961311340332\n",
      "Needed time: 26.78147292137146\n",
      "Needed time: 24.96422839164734\n",
      "Needed time: 24.992125511169434\n",
      "Needed time: 26.917784452438354\n"
     ]
    },
    {
     "name": "stderr",
     "output_type": "stream",
     "text": [
      "\r",
      " 44%|████▍     | 40/90 [10:18:11<10:20:19, 744.40s/it]"
     ]
    },
    {
     "name": "stdout",
     "output_type": "stream",
     "text": [
      "Needed time: 26.803752660751343\n",
      "Needed time: 26.857691764831543\n",
      "Needed time: 26.795932292938232\n",
      "Needed time: 26.89160680770874\n",
      "Needed time: 24.898807048797607\n",
      "Needed time: 26.917752265930176\n",
      "Needed time: 26.862843990325928\n",
      "Needed time: 26.821682691574097\n",
      "Needed time: 26.997865676879883\n",
      "Needed time: 26.83842182159424\n",
      "Needed time: 25.04962468147278\n",
      "Needed time: 26.734725952148438\n",
      "Needed time: 24.789390802383423\n",
      "Needed time: 22.895824193954468\n",
      "Needed time: 4.48622989654541\n",
      "Needed time: 20.69784688949585\n",
      "Needed time: 24.671451568603516\n",
      "Needed time: 24.83409309387207\n",
      "Needed time: 26.750410795211792\n",
      "Needed time: 26.779703617095947\n",
      "Needed time: 26.79443383216858\n",
      "Needed time: 26.809876918792725\n",
      "Needed time: 26.7878634929657\n",
      "Needed time: 24.860888242721558\n",
      "Needed time: 4.476666450500488\n",
      "Needed time: 26.850130796432495\n",
      "Needed time: 26.847838401794434\n",
      "Needed time: 26.76830220222473\n",
      "Needed time: 26.83102798461914\n"
     ]
    },
    {
     "name": "stderr",
     "output_type": "stream",
     "text": [
      "\r",
      " 46%|████▌     | 41/90 [10:30:09<10:01:18, 736.29s/it]"
     ]
    },
    {
     "name": "stdout",
     "output_type": "stream",
     "text": [
      "Needed time: 26.829540252685547\n",
      "Needed time: 26.84730291366577\n",
      "Needed time: 24.781389236450195\n",
      "Needed time: 26.7741060256958\n",
      "Needed time: 26.76800513267517\n",
      "Needed time: 26.826185703277588\n",
      "Needed time: 26.748332023620605\n",
      "Needed time: 26.72383761405945\n",
      "Needed time: 26.751354932785034\n",
      "Needed time: 26.725018978118896\n",
      "Needed time: 26.87660789489746\n",
      "Needed time: 24.774364709854126\n",
      "Needed time: 24.950802087783813\n",
      "Needed time: 10.549322366714478\n",
      "Needed time: 18.641105890274048\n",
      "Needed time: 22.86851692199707\n",
      "Needed time: 24.766600608825684\n",
      "Needed time: 24.744218349456787\n",
      "Needed time: 24.978092432022095\n",
      "Needed time: 24.7882878780365\n",
      "Needed time: 26.8706476688385\n",
      "Needed time: 26.841635942459106\n",
      "Needed time: 26.833290576934814\n",
      "Needed time: 4.472073554992676\n",
      "Needed time: 24.778667211532593\n",
      "Needed time: 26.8625967502594\n",
      "Needed time: 26.853341102600098\n",
      "Needed time: 24.827353715896606\n"
     ]
    },
    {
     "name": "stderr",
     "output_type": "stream",
     "text": [
      "\r",
      " 47%|████▋     | 42/90 [10:41:37<9:37:26, 721.80s/it] "
     ]
    },
    {
     "name": "stdout",
     "output_type": "stream",
     "text": [
      "Needed time: 26.916716814041138\n",
      "Needed time: 24.90428924560547\n",
      "Needed time: 26.961549043655396\n",
      "Needed time: 25.0854971408844\n",
      "Needed time: 26.978354454040527\n",
      "Needed time: 27.053574800491333\n",
      "Needed time: 26.939305543899536\n",
      "Needed time: 26.83495044708252\n",
      "Needed time: 26.82987904548645\n",
      "Needed time: 26.69021224975586\n",
      "Needed time: 24.88428282737732\n",
      "Needed time: 24.83563995361328\n",
      "Needed time: 24.81679892539978\n",
      "Needed time: 4.470498323440552\n",
      "Needed time: 20.685921907424927\n",
      "Needed time: 22.810186624526978\n",
      "Needed time: 24.79953122138977\n",
      "Needed time: 24.75121808052063\n",
      "Needed time: 24.766173601150513\n",
      "Needed time: 24.694050788879395\n",
      "Needed time: 26.972957611083984\n",
      "Needed time: 26.74906015396118\n",
      "Needed time: 26.906792640686035\n",
      "Needed time: 4.470680475234985\n",
      "Needed time: 24.959254503250122\n",
      "Needed time: 24.921868324279785\n",
      "Needed time: 26.811049461364746\n",
      "Needed time: 26.86748480796814\n"
     ]
    },
    {
     "name": "stderr",
     "output_type": "stream",
     "text": [
      "\r",
      " 48%|████▊     | 43/90 [10:52:58<9:15:50, 709.59s/it]"
     ]
    },
    {
     "name": "stdout",
     "output_type": "stream",
     "text": [
      "Needed time: 26.7871675491333\n",
      "Needed time: 24.918598175048828\n",
      "Needed time: 27.02532649040222\n",
      "Needed time: 26.725526809692383\n",
      "Needed time: 26.91072988510132\n",
      "Needed time: 26.821044206619263\n",
      "Needed time: 24.985329627990723\n",
      "Needed time: 26.96105718612671\n",
      "Needed time: 26.969605445861816\n",
      "Needed time: 26.726520538330078\n",
      "Needed time: 24.842094898223877\n",
      "Needed time: 24.80353045463562\n",
      "Needed time: 6.511002063751221\n",
      "Needed time: 18.810771226882935\n",
      "Needed time: 22.80357265472412\n",
      "Needed time: 22.8403959274292\n",
      "Needed time: 24.943515300750732\n",
      "Needed time: 24.779609203338623\n",
      "Needed time: 24.863288164138794\n",
      "Needed time: 27.068092107772827\n",
      "Needed time: 26.855241537094116\n",
      "Needed time: 26.836595058441162\n",
      "Needed time: 4.480512619018555\n",
      "Needed time: 26.718247652053833\n",
      "Needed time: 24.876515865325928\n",
      "Needed time: 26.80584454536438\n"
     ]
    },
    {
     "name": "stderr",
     "output_type": "stream",
     "text": [
      "\r",
      " 49%|████▉     | 44/90 [11:03:25<8:45:04, 684.88s/it]"
     ]
    },
    {
     "name": "stdout",
     "output_type": "stream",
     "text": [
      "Needed time: 24.92740821838379\n",
      "Needed time: 26.881158351898193\n",
      "Needed time: 24.95337224006653\n",
      "Needed time: 26.966854572296143\n",
      "Needed time: 24.925122022628784\n",
      "Needed time: 26.811784029006958\n",
      "Needed time: 24.991204977035522\n",
      "Needed time: 26.944563150405884\n",
      "Needed time: 26.829278469085693\n",
      "Needed time: 24.89781641960144\n",
      "Needed time: 26.777256965637207\n",
      "Needed time: 22.864031314849854\n",
      "Needed time: 4.4660680294036865\n",
      "Needed time: 18.784807682037354\n",
      "Needed time: 22.9090838432312\n",
      "Needed time: 24.779805421829224\n",
      "Needed time: 25.04970645904541\n",
      "Needed time: 24.94054388999939\n",
      "Needed time: 24.861626863479614\n",
      "Needed time: 26.78245997428894\n",
      "Needed time: 24.963515758514404\n",
      "Needed time: 25.075997829437256\n",
      "Needed time: 26.720147609710693\n",
      "Needed time: 26.86647129058838\n",
      "Needed time: 24.943156719207764\n",
      "Needed time: 26.98805570602417\n"
     ]
    },
    {
     "name": "stderr",
     "output_type": "stream",
     "text": [
      "\r",
      " 50%|█████     | 45/90 [11:14:09<8:24:29, 672.65s/it]"
     ]
    },
    {
     "name": "stdout",
     "output_type": "stream",
     "text": [
      "Needed time: 26.72252345085144\n",
      "Needed time: 26.904134511947632\n",
      "Needed time: 26.948168992996216\n",
      "Needed time: 26.87348699569702\n",
      "Needed time: 26.816016912460327\n",
      "Needed time: 26.84108257293701\n",
      "Needed time: 26.830283164978027\n",
      "Needed time: 25.012484788894653\n",
      "Needed time: 27.009562015533447\n",
      "Needed time: 24.98107361793518\n",
      "Needed time: 24.918285608291626\n",
      "Needed time: 22.721296310424805\n",
      "Needed time: 4.471279144287109\n",
      "Needed time: 18.74336814880371\n",
      "Needed time: 20.78584861755371\n",
      "Needed time: 22.72463583946228\n",
      "Needed time: 24.760653495788574\n",
      "Needed time: 24.812474966049194\n",
      "Needed time: 24.703898191452026\n",
      "Needed time: 24.93000340461731\n",
      "Needed time: 26.83077335357666\n",
      "Needed time: 26.808642148971558\n",
      "Needed time: 26.840633869171143\n",
      "Needed time: 26.845255136489868\n",
      "Needed time: 26.80210566520691\n",
      "Needed time: 26.976163387298584\n"
     ]
    },
    {
     "name": "stderr",
     "output_type": "stream",
     "text": [
      "\r",
      " 51%|█████     | 46/90 [11:24:54<8:07:13, 664.39s/it]"
     ]
    },
    {
     "name": "stdout",
     "output_type": "stream",
     "text": [
      "Needed time: 26.801111936569214\n",
      "Needed time: 24.936474084854126\n",
      "Needed time: 26.876176595687866\n",
      "Needed time: 26.967846155166626\n",
      "Needed time: 26.856277227401733\n",
      "Needed time: 26.873626470565796\n",
      "Needed time: 24.9477698802948\n",
      "Needed time: 26.882664442062378\n",
      "Needed time: 26.80744695663452\n",
      "Needed time: 24.921626329421997\n",
      "Needed time: 24.6742160320282\n",
      "Needed time: 4.492677211761475\n",
      "Needed time: 18.68889594078064\n",
      "Needed time: 20.86596941947937\n",
      "Needed time: 22.824740409851074\n",
      "Needed time: 24.85762095451355\n",
      "Needed time: 24.839537143707275\n",
      "Needed time: 24.86964178085327\n",
      "Needed time: 24.94057059288025\n",
      "Needed time: 25.103224754333496\n",
      "Needed time: 25.00747847557068\n",
      "Needed time: 24.88357162475586\n",
      "Needed time: 26.81191325187683\n",
      "Needed time: 26.947134017944336\n",
      "Needed time: 24.843751907348633\n"
     ]
    },
    {
     "name": "stderr",
     "output_type": "stream",
     "text": [
      "\r",
      " 52%|█████▏    | 47/90 [11:35:07<7:45:05, 648.97s/it]"
     ]
    },
    {
     "name": "stdout",
     "output_type": "stream",
     "text": [
      "Needed time: 26.941725730895996\n",
      "Needed time: 26.782503366470337\n",
      "Needed time: 26.93590807914734\n",
      "Needed time: 26.777453422546387\n",
      "Needed time: 26.892894744873047\n",
      "Needed time: 26.678687810897827\n",
      "Needed time: 26.81021738052368\n",
      "Needed time: 26.756462335586548\n",
      "Needed time: 26.804856777191162\n",
      "Needed time: 22.763925790786743\n",
      "Needed time: 20.749866485595703\n",
      "Needed time: 4.471944808959961\n",
      "Needed time: 14.644960641860962\n",
      "Needed time: 22.76637887954712\n",
      "Needed time: 20.85688066482544\n",
      "Needed time: 24.824578762054443\n",
      "Needed time: 24.92582416534424\n",
      "Needed time: 24.71921682357788\n",
      "Needed time: 24.82277250289917\n",
      "Needed time: 26.763957262039185\n",
      "Needed time: 24.83247947692871\n",
      "Needed time: 24.968122720718384\n",
      "Needed time: 24.84742760658264\n",
      "Needed time: 26.783610105514526\n",
      "Needed time: 26.859951496124268\n"
     ]
    },
    {
     "name": "stderr",
     "output_type": "stream",
     "text": [
      "\r",
      " 53%|█████▎    | 48/90 [11:45:13<7:25:05, 635.85s/it]"
     ]
    },
    {
     "name": "stdout",
     "output_type": "stream",
     "text": [
      "Needed time: 24.961170196533203\n",
      "Needed time: 26.877567768096924\n",
      "Needed time: 26.797436475753784\n",
      "Needed time: 26.98080587387085\n",
      "Needed time: 26.7379629611969\n",
      "Needed time: 26.931493520736694\n",
      "Needed time: 24.9414005279541\n",
      "Needed time: 26.827109336853027\n",
      "Needed time: 26.8584885597229\n",
      "Needed time: 24.819414138793945\n",
      "Needed time: 20.84647488594055\n",
      "Needed time: 4.474786281585693\n",
      "Needed time: 16.810876607894897\n",
      "Needed time: 18.599125146865845\n",
      "Needed time: 20.718167066574097\n",
      "Needed time: 23.019438982009888\n",
      "Needed time: 24.86485195159912\n",
      "Needed time: 24.81708526611328\n",
      "Needed time: 24.74942421913147\n",
      "Needed time: 24.818551540374756\n",
      "Needed time: 26.75895047187805\n",
      "Needed time: 24.987870693206787\n",
      "Needed time: 24.740716695785522\n",
      "Needed time: 24.839594841003418\n",
      "Needed time: 26.78365659713745\n"
     ]
    },
    {
     "name": "stderr",
     "output_type": "stream",
     "text": [
      "\r",
      " 54%|█████▍    | 49/90 [11:55:14<7:07:30, 625.63s/it]"
     ]
    },
    {
     "name": "stdout",
     "output_type": "stream",
     "text": [
      "Needed time: 26.91754913330078\n",
      "Needed time: 26.77892303466797\n",
      "Needed time: 26.822247743606567\n",
      "Needed time: 26.93442726135254\n",
      "Needed time: 24.908562660217285\n",
      "Needed time: 26.980257749557495\n",
      "Needed time: 26.80798602104187\n",
      "Needed time: 24.819987297058105\n",
      "Needed time: 24.91152787208557\n",
      "Needed time: 20.91334629058838\n",
      "Needed time: 4.476426601409912\n",
      "Needed time: 14.706908702850342\n",
      "Needed time: 18.757822275161743\n",
      "Needed time: 20.819282054901123\n",
      "Needed time: 22.83606743812561\n",
      "Needed time: 24.895784378051758\n",
      "Needed time: 24.773825883865356\n",
      "Needed time: 26.696271419525146\n",
      "Needed time: 24.99387240409851\n",
      "Needed time: 24.787859678268433\n",
      "Needed time: 24.725078344345093\n",
      "Needed time: 4.467218399047852\n",
      "Needed time: 24.87093687057495\n",
      "Needed time: 26.89268946647644\n"
     ]
    },
    {
     "name": "stderr",
     "output_type": "stream",
     "text": [
      "\r",
      " 56%|█████▌    | 50/90 [12:04:23<6:41:39, 602.50s/it]"
     ]
    },
    {
     "name": "stdout",
     "output_type": "stream",
     "text": [
      "Needed time: 24.846327781677246\n",
      "Needed time: 26.878902673721313\n",
      "Needed time: 26.711549043655396\n",
      "Needed time: 26.74240016937256\n",
      "Needed time: 26.991320610046387\n",
      "Needed time: 26.87939214706421\n",
      "Needed time: 25.008565664291382\n",
      "Needed time: 26.98788046836853\n",
      "Needed time: 24.825777769088745\n",
      "Needed time: 20.662189722061157\n",
      "Needed time: 4.499804735183716\n",
      "Needed time: 16.718540906906128\n",
      "Needed time: 16.77414059638977\n",
      "Needed time: 22.80430841445923\n",
      "Needed time: 22.85440731048584\n",
      "Needed time: 22.87259817123413\n",
      "Needed time: 24.911590576171875\n",
      "Needed time: 24.789109230041504\n",
      "Needed time: 24.73462748527527\n",
      "Needed time: 24.779101371765137\n",
      "Needed time: 24.783122062683105\n",
      "Needed time: 4.454979419708252\n",
      "Needed time: 26.766500234603882\n",
      "Needed time: 24.694528341293335\n"
     ]
    },
    {
     "name": "stderr",
     "output_type": "stream",
     "text": [
      "\r",
      " 57%|█████▋    | 51/90 [12:13:33<6:21:22, 586.74s/it]"
     ]
    },
    {
     "name": "stdout",
     "output_type": "stream",
     "text": [
      "Needed time: 26.746256113052368\n",
      "Needed time: 26.819522619247437\n",
      "Needed time: 26.709779262542725\n",
      "Needed time: 26.783886671066284\n",
      "Needed time: 24.895127296447754\n",
      "Needed time: 24.781191110610962\n",
      "Needed time: 24.915563344955444\n",
      "Needed time: 22.855226039886475\n",
      "Needed time: 22.746236324310303\n",
      "Needed time: 16.650761365890503\n",
      "Needed time: 14.620360612869263\n",
      "Needed time: 14.71141505241394\n",
      "Needed time: 18.701135873794556\n",
      "Needed time: 22.88671088218689\n",
      "Needed time: 24.800176858901978\n",
      "Needed time: 26.920254945755005\n",
      "Needed time: 22.863401889801025\n",
      "Needed time: 24.804179668426514\n",
      "Needed time: 24.843509912490845\n",
      "Needed time: 24.761836528778076\n",
      "Needed time: 4.482909440994263\n",
      "Needed time: 26.782692670822144\n",
      "Needed time: 26.804585933685303\n"
     ]
    },
    {
     "name": "stderr",
     "output_type": "stream",
     "text": [
      "\r",
      " 58%|█████▊    | 52/90 [12:22:18<5:59:54, 568.27s/it]"
     ]
    },
    {
     "name": "stdout",
     "output_type": "stream",
     "text": [
      "Needed time: 24.87447762489319\n",
      "Needed time: 26.868956804275513\n",
      "Needed time: 26.764429807662964\n",
      "Needed time: 26.825809478759766\n",
      "Needed time: 26.705862522125244\n",
      "Needed time: 26.86868977546692\n",
      "Needed time: 24.89604425430298\n",
      "Needed time: 24.898905277252197\n",
      "Needed time: 20.79418158531189\n",
      "Needed time: 4.477547645568848\n",
      "Needed time: 12.598611116409302\n",
      "Needed time: 16.828144788742065\n",
      "Needed time: 16.74479365348816\n",
      "Needed time: 20.844202280044556\n",
      "Needed time: 22.718564987182617\n",
      "Needed time: 24.843948125839233\n",
      "Needed time: 24.811244010925293\n",
      "Needed time: 24.789910316467285\n",
      "Needed time: 24.96362066268921\n",
      "Needed time: 24.7545268535614\n",
      "Needed time: 4.465703010559082\n",
      "Needed time: 24.79327964782715\n"
     ]
    },
    {
     "name": "stderr",
     "output_type": "stream",
     "text": [
      "\r",
      " 59%|█████▉    | 53/90 [12:30:20<5:34:24, 542.29s/it]"
     ]
    },
    {
     "name": "stdout",
     "output_type": "stream",
     "text": [
      "Needed time: 24.846860885620117\n",
      "Needed time: 24.9113187789917\n",
      "Needed time: 26.964640378952026\n",
      "Needed time: 26.718864679336548\n",
      "Needed time: 26.728321075439453\n",
      "Needed time: 26.830031156539917\n",
      "Needed time: 24.95634174346924\n",
      "Needed time: 22.789726734161377\n",
      "Needed time: 18.755623817443848\n",
      "Needed time: 4.502795934677124\n",
      "Needed time: 12.62335991859436\n",
      "Needed time: 12.677938461303711\n",
      "Needed time: 16.723145723342896\n",
      "Needed time: 18.827412128448486\n",
      "Needed time: 22.77482008934021\n",
      "Needed time: 24.922144412994385\n",
      "Needed time: 24.836565732955933\n",
      "Needed time: 26.678449392318726\n",
      "Needed time: 24.920714139938354\n",
      "Needed time: 24.796470880508423\n",
      "Needed time: 4.4766693115234375\n",
      "Needed time: 24.792298078536987\n"
     ]
    },
    {
     "name": "stderr",
     "output_type": "stream",
     "text": [
      "\r",
      " 60%|██████    | 54/90 [12:38:11<5:12:40, 521.11s/it]"
     ]
    },
    {
     "name": "stdout",
     "output_type": "stream",
     "text": [
      "Needed time: 24.946622848510742\n",
      "Needed time: 26.982975244522095\n",
      "Needed time: 26.657342195510864\n",
      "Needed time: 26.782479524612427\n",
      "Needed time: 26.88570761680603\n",
      "Needed time: 24.94398593902588\n",
      "Needed time: 24.870396375656128\n",
      "Needed time: 18.844952821731567\n",
      "Needed time: 8.602890491485596\n",
      "Needed time: 12.65832781791687\n",
      "Needed time: 14.720773696899414\n",
      "Needed time: 16.70581603050232\n",
      "Needed time: 18.9189395904541\n",
      "Needed time: 20.819045782089233\n",
      "Needed time: 22.778364181518555\n",
      "Needed time: 24.970818281173706\n",
      "Needed time: 24.77769660949707\n",
      "Needed time: 24.852421522140503\n",
      "Needed time: 24.71548342704773\n",
      "Needed time: 4.469609498977661\n",
      "Needed time: 24.837093830108643\n"
     ]
    },
    {
     "name": "stderr",
     "output_type": "stream",
     "text": [
      "\r",
      " 61%|██████    | 55/90 [12:45:41<4:51:24, 499.54s/it]"
     ]
    },
    {
     "name": "stdout",
     "output_type": "stream",
     "text": [
      "Needed time: 24.79290533065796\n",
      "Needed time: 26.838354110717773\n",
      "Needed time: 26.776148796081543\n",
      "Needed time: 24.822612762451172\n",
      "Needed time: 26.83115291595459\n",
      "Needed time: 26.710549354553223\n",
      "Needed time: 22.89438533782959\n",
      "Needed time: 20.685142040252686\n",
      "Needed time: 4.478102445602417\n",
      "Needed time: 14.64301586151123\n",
      "Needed time: 12.56611967086792\n",
      "Needed time: 16.633580207824707\n",
      "Needed time: 16.846354722976685\n",
      "Needed time: 20.78670072555542\n",
      "Needed time: 22.821018934249878\n",
      "Needed time: 24.83055090904236\n",
      "Needed time: 22.889081716537476\n",
      "Needed time: 24.748477935791016\n",
      "Needed time: 24.823057413101196\n",
      "Needed time: 22.814313173294067\n",
      "Needed time: 24.8253276348114\n"
     ]
    },
    {
     "name": "stderr",
     "output_type": "stream",
     "text": [
      "\r",
      " 62%|██████▏   | 56/90 [12:53:19<4:36:06, 487.26s/it]"
     ]
    },
    {
     "name": "stdout",
     "output_type": "stream",
     "text": [
      "Needed time: 24.879966974258423\n",
      "Needed time: 26.879542589187622\n",
      "Needed time: 26.91525888442993\n",
      "Needed time: 24.81892728805542\n",
      "Needed time: 26.764280796051025\n",
      "Needed time: 22.702901124954224\n",
      "Needed time: 18.826895475387573\n",
      "Needed time: 8.53427004814148\n",
      "Needed time: 10.630419492721558\n",
      "Needed time: 12.584601402282715\n",
      "Needed time: 14.7248854637146\n",
      "Needed time: 18.69083857536316\n",
      "Needed time: 20.72115683555603\n",
      "Needed time: 22.835511445999146\n",
      "Needed time: 22.70184326171875\n",
      "Needed time: 25.030118465423584\n",
      "Needed time: 24.917283296585083\n",
      "Needed time: 22.821742057800293\n",
      "Needed time: 24.849568843841553\n",
      "Needed time: 26.751765251159668\n"
     ]
    },
    {
     "name": "stderr",
     "output_type": "stream",
     "text": [
      "\r",
      " 63%|██████▎   | 57/90 [13:00:33<4:19:11, 471.25s/it]"
     ]
    },
    {
     "name": "stdout",
     "output_type": "stream",
     "text": [
      "Needed time: 26.72182011604309\n",
      "Needed time: 26.839285612106323\n",
      "Needed time: 26.91742253303528\n",
      "Needed time: 24.849303483963013\n",
      "Needed time: 24.840219736099243\n",
      "Needed time: 24.718841075897217\n",
      "Needed time: 18.744908332824707\n",
      "Needed time: 8.633612394332886\n",
      "Needed time: 8.614236831665039\n",
      "Needed time: 10.518927812576294\n",
      "Needed time: 12.681432962417603\n",
      "Needed time: 12.801640033721924\n",
      "Needed time: 20.7591233253479\n",
      "Needed time: 20.716716766357422\n",
      "Needed time: 20.8174090385437\n",
      "Needed time: 22.7358455657959\n",
      "Needed time: 22.863898515701294\n",
      "Needed time: 24.85475492477417\n",
      "Needed time: 22.779595613479614\n",
      "Needed time: 24.931402921676636\n"
     ]
    },
    {
     "name": "stderr",
     "output_type": "stream",
     "text": [
      "\r",
      " 64%|██████▍   | 58/90 [13:07:23<4:01:32, 452.88s/it]"
     ]
    },
    {
     "name": "stdout",
     "output_type": "stream",
     "text": [
      "Needed time: 24.89140248298645\n",
      "Needed time: 26.766483306884766\n",
      "Needed time: 26.817015647888184\n",
      "Needed time: 24.931102514266968\n",
      "Needed time: 24.818058729171753\n",
      "Needed time: 20.782010078430176\n",
      "Needed time: 18.620928287506104\n",
      "Needed time: 4.465798377990723\n",
      "Needed time: 8.628814697265625\n",
      "Needed time: 10.73363471031189\n",
      "Needed time: 12.655965566635132\n",
      "Needed time: 14.657683610916138\n",
      "Needed time: 16.700989723205566\n",
      "Needed time: 18.73299241065979\n",
      "Needed time: 20.80137610435486\n",
      "Needed time: 24.8420569896698\n",
      "Needed time: 22.766335487365723\n",
      "Needed time: 24.856411933898926\n",
      "Needed time: 22.861032247543335\n",
      "Needed time: 4.471361398696899\n"
     ]
    },
    {
     "name": "stderr",
     "output_type": "stream",
     "text": [
      "\r",
      " 66%|██████▌   | 59/90 [13:13:42<3:42:32, 430.73s/it]"
     ]
    },
    {
     "name": "stdout",
     "output_type": "stream",
     "text": [
      "Needed time: 24.728169202804565\n",
      "Needed time: 24.9266939163208\n",
      "Needed time: 24.924575567245483\n",
      "Needed time: 24.705121517181396\n",
      "Needed time: 20.818744659423828\n",
      "Needed time: 18.689733266830444\n",
      "Needed time: 4.489032030105591\n",
      "Needed time: 10.642746448516846\n",
      "Needed time: 10.677887439727783\n",
      "Needed time: 14.681114435195923\n",
      "Needed time: 12.673792839050293\n",
      "Needed time: 18.755773305892944\n",
      "Needed time: 20.831006288528442\n",
      "Needed time: 22.779985189437866\n",
      "Needed time: 22.878379821777344\n",
      "Needed time: 22.876010179519653\n",
      "Needed time: 22.904661178588867\n",
      "Needed time: 22.876187324523926\n",
      "Needed time: 4.4862306118011475\n"
     ]
    },
    {
     "name": "stderr",
     "output_type": "stream",
     "text": [
      "\r",
      " 67%|██████▋   | 60/90 [13:19:37<3:23:58, 407.96s/it]"
     ]
    },
    {
     "name": "stdout",
     "output_type": "stream",
     "text": [
      "Needed time: 24.898614168167114\n",
      "Needed time: 24.995830535888672\n",
      "Needed time: 24.882203340530396\n",
      "Needed time: 22.86501121520996\n",
      "Needed time: 22.84136986732483\n",
      "Needed time: 18.733237981796265\n",
      "Needed time: 6.520136833190918\n",
      "Needed time: 8.654611110687256\n",
      "Needed time: 12.570148468017578\n",
      "Needed time: 12.629385709762573\n",
      "Needed time: 12.651228666305542\n",
      "Needed time: 18.698930025100708\n",
      "Needed time: 20.778624057769775\n",
      "Needed time: 20.856133460998535\n",
      "Needed time: 22.7323796749115\n",
      "Needed time: 22.823978185653687\n",
      "Needed time: 22.831380367279053\n",
      "Needed time: 22.767653465270996\n"
     ]
    },
    {
     "name": "stderr",
     "output_type": "stream",
     "text": [
      "\r",
      " 68%|██████▊   | 61/90 [13:25:04<3:05:28, 383.74s/it]"
     ]
    },
    {
     "name": "stdout",
     "output_type": "stream",
     "text": [
      "Needed time: 4.478529691696167\n",
      "Needed time: 24.931379079818726\n",
      "Needed time: 24.84548830986023\n",
      "Needed time: 24.803699016571045\n",
      "Needed time: 20.87191343307495\n",
      "Needed time: 6.552282333374023\n",
      "Needed time: 4.451036214828491\n",
      "Needed time: 8.578669548034668\n",
      "Needed time: 6.610414266586304\n",
      "Needed time: 12.665678977966309\n",
      "Needed time: 12.689982891082764\n",
      "Needed time: 16.689762830734253\n",
      "Needed time: 16.796934843063354\n",
      "Needed time: 22.8630952835083\n",
      "Needed time: 22.68158197402954\n",
      "Needed time: 22.832547187805176\n",
      "Needed time: 22.844255924224854\n",
      "Needed time: 22.924931049346924\n"
     ]
    },
    {
     "name": "stderr",
     "output_type": "stream",
     "text": [
      "\r",
      " 69%|██████▉   | 62/90 [13:30:09<2:48:04, 360.15s/it]"
     ]
    },
    {
     "name": "stdout",
     "output_type": "stream",
     "text": [
      "Needed time: 6.525734186172485\n",
      "Needed time: 24.83954381942749\n",
      "Needed time: 24.774744987487793\n",
      "Needed time: 20.73039722442627\n",
      "Needed time: 14.651649236679077\n",
      "Needed time: 4.471041202545166\n",
      "Needed time: 4.470074415206909\n",
      "Needed time: 6.520989418029785\n",
      "Needed time: 10.595935106277466\n",
      "Needed time: 14.640761613845825\n",
      "Needed time: 14.796308517456055\n",
      "Needed time: 16.64510941505432\n",
      "Needed time: 20.793102264404297\n",
      "Needed time: 20.790910959243774\n",
      "Needed time: 22.89423680305481\n",
      "Needed time: 22.92250394821167\n",
      "Needed time: 20.69345736503601\n"
     ]
    },
    {
     "name": "stderr",
     "output_type": "stream",
     "text": [
      "\r",
      " 70%|███████   | 63/90 [13:35:01<2:32:48, 339.59s/it]"
     ]
    },
    {
     "name": "stdout",
     "output_type": "stream",
     "text": [
      "Needed time: 22.79036259651184\n",
      "Needed time: 24.811943292617798\n",
      "Needed time: 22.797553777694702\n",
      "Needed time: 18.712787628173828\n",
      "Needed time: 16.801220178604126\n",
      "Needed time: 4.497280120849609\n",
      "Needed time: 6.528804302215576\n",
      "Needed time: 8.609676122665405\n",
      "Needed time: 8.666897058486938\n",
      "Needed time: 10.602689027786255\n",
      "Needed time: 14.618887186050415\n",
      "Needed time: 16.802294731140137\n",
      "Needed time: 20.8311665058136\n",
      "Needed time: 20.82440710067749\n",
      "Needed time: 20.70383095741272\n",
      "Needed time: 20.842992305755615\n",
      "Needed time: 22.781226634979248\n"
     ]
    },
    {
     "name": "stderr",
     "output_type": "stream",
     "text": [
      "\r",
      " 71%|███████   | 64/90 [13:39:45<2:19:57, 322.99s/it]"
     ]
    },
    {
     "name": "stdout",
     "output_type": "stream",
     "text": [
      "Needed time: 20.920759916305542\n",
      "Needed time: 24.7850923538208\n",
      "Needed time: 18.6197030544281\n",
      "Needed time: 10.577535152435303\n",
      "Needed time: 4.465454816818237\n",
      "Needed time: 4.472130060195923\n",
      "Needed time: 4.4651713371276855\n",
      "Needed time: 8.720497369766235\n",
      "Needed time: 10.753560304641724\n",
      "Needed time: 14.678635835647583\n",
      "Needed time: 14.710865259170532\n",
      "Needed time: 18.689345359802246\n",
      "Needed time: 18.8171968460083\n",
      "Needed time: 22.687262535095215\n",
      "Needed time: 22.886089086532593\n",
      "Needed time: 20.81999158859253\n"
     ]
    },
    {
     "name": "stderr",
     "output_type": "stream",
     "text": [
      "\r",
      " 72%|███████▏  | 65/90 [13:43:46<2:04:17, 298.29s/it]"
     ]
    },
    {
     "name": "stdout",
     "output_type": "stream",
     "text": [
      "Needed time: 16.81593108177185\n",
      "Needed time: 20.778064012527466\n",
      "Needed time: 16.761093616485596\n",
      "Needed time: 12.619359254837036\n",
      "Needed time: 4.46560263633728\n",
      "Needed time: 4.478527545928955\n",
      "Needed time: 4.492096424102783\n",
      "Needed time: 6.532858371734619\n",
      "Needed time: 10.577840805053711\n",
      "Needed time: 10.702999830245972\n",
      "Needed time: 16.80226492881775\n",
      "Needed time: 16.77422523498535\n",
      "Needed time: 20.644871711730957\n",
      "Needed time: 18.820611476898193\n",
      "Needed time: 22.78096652030945\n",
      "Needed time: 20.86035466194153\n"
     ]
    },
    {
     "name": "stderr",
     "output_type": "stream",
     "text": [
      "\r",
      " 73%|███████▎  | 66/90 [13:47:39<1:51:27, 278.64s/it]"
     ]
    },
    {
     "name": "stdout",
     "output_type": "stream",
     "text": [
      "Needed time: 20.9463632106781\n",
      "Needed time: 24.857566595077515\n",
      "Needed time: 18.821376085281372\n",
      "Needed time: 8.680387496948242\n",
      "Needed time: 4.474066972732544\n",
      "Needed time: 4.471474885940552\n",
      "Needed time: 4.459338665008545\n",
      "Needed time: 8.630518674850464\n",
      "Needed time: 12.570727825164795\n",
      "Needed time: 10.653759002685547\n",
      "Needed time: 16.782535076141357\n",
      "Needed time: 20.761611223220825\n",
      "Needed time: 22.852060317993164\n",
      "Needed time: 20.801742553710938\n",
      "Needed time: 22.751921892166138\n"
     ]
    },
    {
     "name": "stderr",
     "output_type": "stream",
     "text": [
      "\r",
      " 74%|███████▍  | 67/90 [13:51:25<1:40:45, 262.83s/it]"
     ]
    },
    {
     "name": "stdout",
     "output_type": "stream",
     "text": [
      "Needed time: 20.81292986869812\n",
      "Needed time: 16.765860080718994\n",
      "Needed time: 12.631621837615967\n",
      "Needed time: 4.460034608840942\n",
      "Needed time: 4.468128204345703\n",
      "Needed time: 4.4773030281066895\n",
      "Needed time: 6.508889198303223\n",
      "Needed time: 8.534169673919678\n",
      "Needed time: 10.65726900100708\n",
      "Needed time: 12.654341697692871\n",
      "Needed time: 14.649678707122803\n",
      "Needed time: 20.814360857009888\n",
      "Needed time: 20.827481269836426\n",
      "Needed time: 20.724090337753296\n"
     ]
    },
    {
     "name": "stderr",
     "output_type": "stream",
     "text": [
      "\r",
      " 76%|███████▌  | 68/90 [13:54:25<1:27:18, 238.11s/it]"
     ]
    },
    {
     "name": "stdout",
     "output_type": "stream",
     "text": [
      "Needed time: 18.833141803741455\n",
      "Needed time: 16.746745109558105\n",
      "Needed time: 4.474592208862305\n",
      "Needed time: 4.470986366271973\n",
      "Needed time: 4.457903623580933\n",
      "Needed time: 6.501904726028442\n",
      "Needed time: 6.556164264678955\n",
      "Needed time: 8.573390245437622\n",
      "Needed time: 10.570124626159668\n",
      "Needed time: 10.725674152374268\n",
      "Needed time: 14.707193851470947\n",
      "Needed time: 16.670050144195557\n",
      "Needed time: 16.751397371292114\n",
      "Needed time: 20.738765001296997\n"
     ]
    },
    {
     "name": "stderr",
     "output_type": "stream",
     "text": [
      "\r",
      " 77%|███████▋  | 69/90 [13:57:11<1:15:46, 216.51s/it]"
     ]
    },
    {
     "name": "stdout",
     "output_type": "stream",
     "text": [
      "Needed time: 20.768425226211548\n",
      "Needed time: 16.741170644760132\n",
      "Needed time: 4.493646860122681\n",
      "Needed time: 4.468534469604492\n",
      "Needed time: 4.47431755065918\n",
      "Needed time: 4.459524869918823\n",
      "Needed time: 6.502202272415161\n",
      "Needed time: 6.606774091720581\n",
      "Needed time: 10.665060997009277\n",
      "Needed time: 12.64299201965332\n",
      "Needed time: 14.687356948852539\n",
      "Needed time: 16.77933979034424\n",
      "Needed time: 20.964301586151123\n",
      "Needed time: 20.75225806236267\n"
     ]
    },
    {
     "name": "stderr",
     "output_type": "stream",
     "text": [
      "\r",
      " 78%|███████▊  | 70/90 [14:00:00<1:07:22, 202.11s/it]"
     ]
    },
    {
     "name": "stdout",
     "output_type": "stream",
     "text": [
      "Needed time: 20.84192204475403\n",
      "Needed time: 4.482453107833862\n",
      "Needed time: 4.48041558265686\n",
      "Needed time: 4.446262359619141\n",
      "Needed time: 4.449228286743164\n",
      "Needed time: 4.443718194961548\n",
      "Needed time: 4.49077296257019\n",
      "Needed time: 8.58675742149353\n",
      "Needed time: 12.624977111816406\n",
      "Needed time: 12.58048701286316\n",
      "Needed time: 14.73325514793396\n",
      "Needed time: 16.722248315811157\n",
      "Needed time: 20.790297985076904\n"
     ]
    },
    {
     "name": "stderr",
     "output_type": "stream",
     "text": [
      "\r",
      " 79%|███████▉  | 71/90 [14:02:17<57:49, 182.60s/it]  "
     ]
    },
    {
     "name": "stdout",
     "output_type": "stream",
     "text": [
      "Needed time: 20.75921392440796\n",
      "Needed time: 4.496073961257935\n",
      "Needed time: 4.4663450717926025\n",
      "Needed time: 4.449198007583618\n",
      "Needed time: 4.458953619003296\n",
      "Needed time: 4.470003604888916\n",
      "Needed time: 6.525491952896118\n",
      "Needed time: 6.5291619300842285\n",
      "Needed time: 8.681213140487671\n",
      "Needed time: 12.666067600250244\n",
      "Needed time: 16.6416757106781\n",
      "Needed time: 18.78859829902649\n"
     ]
    },
    {
     "name": "stderr",
     "output_type": "stream",
     "text": [
      "\r",
      " 80%|████████  | 72/90 [14:04:11<48:36, 162.03s/it]"
     ]
    },
    {
     "name": "stdout",
     "output_type": "stream",
     "text": [
      "Needed time: 18.71075463294983\n",
      "Needed time: 4.460978269577026\n",
      "Needed time: 4.472796678543091\n",
      "Needed time: 4.454298973083496\n",
      "Needed time: 4.445253372192383\n",
      "Needed time: 4.434525728225708\n",
      "Needed time: 6.474377870559692\n",
      "Needed time: 8.548502922058105\n",
      "Needed time: 8.52905821800232\n",
      "Needed time: 12.586789846420288\n",
      "Needed time: 14.749466180801392\n",
      "Needed time: 16.731184244155884\n"
     ]
    },
    {
     "name": "stderr",
     "output_type": "stream",
     "text": [
      "\r",
      " 81%|████████  | 73/90 [14:06:05<41:48, 147.55s/it]"
     ]
    },
    {
     "name": "stdout",
     "output_type": "stream",
     "text": [
      "Needed time: 20.699951887130737\n",
      "Needed time: 4.459820747375488\n",
      "Needed time: 4.465897798538208\n",
      "Needed time: 4.475351810455322\n",
      "Needed time: 4.461705684661865\n",
      "Needed time: 4.467665910720825\n",
      "Needed time: 8.630388736724854\n",
      "Needed time: 8.54157280921936\n",
      "Needed time: 14.57668948173523\n",
      "Needed time: 12.697275876998901\n",
      "Needed time: 16.71015214920044\n"
     ]
    },
    {
     "name": "stderr",
     "output_type": "stream",
     "text": [
      "\r",
      " 82%|████████▏ | 74/90 [14:07:50<35:57, 134.87s/it]"
     ]
    },
    {
     "name": "stdout",
     "output_type": "stream",
     "text": [
      "Needed time: 18.687796115875244\n",
      "Needed time: 4.456996440887451\n",
      "Needed time: 4.4614715576171875\n",
      "Needed time: 4.461093187332153\n",
      "Needed time: 4.452709674835205\n",
      "Needed time: 4.469480514526367\n",
      "Needed time: 6.510595798492432\n",
      "Needed time: 6.526684522628784\n",
      "Needed time: 10.648483753204346\n",
      "Needed time: 10.730329751968384\n",
      "Needed time: 16.70896053314209\n"
     ]
    },
    {
     "name": "stderr",
     "output_type": "stream",
     "text": [
      "\r",
      " 83%|████████▎ | 75/90 [14:09:25<30:45, 123.04s/it]"
     ]
    },
    {
     "name": "stdout",
     "output_type": "stream",
     "text": [
      "Needed time: 18.918474912643433\n",
      "Needed time: 4.453072786331177\n",
      "Needed time: 4.444856405258179\n",
      "Needed time: 4.4677414894104\n",
      "Needed time: 4.457593679428101\n",
      "Needed time: 6.522147178649902\n",
      "Needed time: 8.63752794265747\n",
      "Needed time: 8.550230264663696\n",
      "Needed time: 12.697849035263062\n"
     ]
    },
    {
     "name": "stderr",
     "output_type": "stream",
     "text": [
      "\r",
      " 84%|████████▍ | 76/90 [14:10:39<25:14, 108.16s/it]"
     ]
    },
    {
     "name": "stdout",
     "output_type": "stream",
     "text": [
      "Needed time: 16.63833236694336\n",
      "Needed time: 4.480404615402222\n",
      "Needed time: 4.454370498657227\n",
      "Needed time: 4.450424909591675\n",
      "Needed time: 4.461356163024902\n",
      "Needed time: 4.487626075744629\n",
      "Needed time: 8.558456182479858\n",
      "Needed time: 8.575652837753296\n",
      "Needed time: 8.569186449050903\n"
     ]
    },
    {
     "name": "stderr",
     "output_type": "stream",
     "text": [
      "\r",
      " 86%|████████▌ | 77/90 [14:11:44<20:38, 95.26s/it] "
     ]
    },
    {
     "name": "stdout",
     "output_type": "stream",
     "text": [
      "Needed time: 14.629662036895752\n",
      "Needed time: 4.451552152633667\n",
      "Needed time: 4.462178945541382\n",
      "Needed time: 4.454736948013306\n",
      "Needed time: 4.44960880279541\n",
      "Needed time: 6.487208604812622\n",
      "Needed time: 6.5473268032073975\n",
      "Needed time: 8.651026248931885\n",
      "Needed time: 10.627213954925537\n"
     ]
    },
    {
     "name": "stderr",
     "output_type": "stream",
     "text": [
      "\r",
      " 87%|████████▋ | 78/90 [14:12:49<17:15, 86.30s/it]"
     ]
    },
    {
     "name": "stdout",
     "output_type": "stream",
     "text": [
      "Needed time: 12.705145597457886\n",
      "Needed time: 4.4558422565460205\n",
      "Needed time: 4.472626209259033\n",
      "Needed time: 4.465973615646362\n",
      "Needed time: 4.4711692333221436\n",
      "Needed time: 8.506307601928711\n",
      "Needed time: 8.565876245498657\n"
     ]
    },
    {
     "name": "stderr",
     "output_type": "stream",
     "text": [
      "\r",
      " 88%|████████▊ | 79/90 [14:13:37<13:41, 74.69s/it]"
     ]
    },
    {
     "name": "stdout",
     "output_type": "stream",
     "text": [
      "Needed time: 10.650131940841675\n",
      "Needed time: 4.460282802581787\n",
      "Needed time: 4.4412572383880615\n",
      "Needed time: 4.459789752960205\n",
      "Needed time: 4.46263861656189\n",
      "Needed time: 6.485920429229736\n",
      "Needed time: 6.538056373596191\n"
     ]
    },
    {
     "name": "stderr",
     "output_type": "stream",
     "text": [
      "\r",
      " 89%|████████▉ | 80/90 [14:14:18<10:47, 64.73s/it]"
     ]
    },
    {
     "name": "stdout",
     "output_type": "stream",
     "text": [
      "Needed time: 8.58534049987793\n",
      "Needed time: 4.452967166900635\n",
      "Needed time: 4.4744062423706055\n",
      "Needed time: 4.4855358600616455\n",
      "Needed time: 4.463594913482666\n",
      "Needed time: 4.475132942199707\n",
      "Needed time: 6.513326644897461\n"
     ]
    },
    {
     "name": "stderr",
     "output_type": "stream",
     "text": [
      "\r",
      " 90%|█████████ | 81/90 [14:14:56<08:29, 56.57s/it]"
     ]
    },
    {
     "name": "stdout",
     "output_type": "stream",
     "text": [
      "Needed time: 6.65432071685791\n",
      "Needed time: 4.47629714012146\n",
      "Needed time: 4.460185766220093\n",
      "Needed time: 4.45859956741333\n",
      "Needed time: 4.4683921337127686\n"
     ]
    },
    {
     "name": "stderr",
     "output_type": "stream",
     "text": [
      "\r",
      " 91%|█████████ | 82/90 [14:15:20<06:13, 46.74s/it]"
     ]
    },
    {
     "name": "stdout",
     "output_type": "stream",
     "text": [
      "Needed time: 4.469288349151611\n",
      "Needed time: 4.459036350250244\n",
      "Needed time: 4.44741153717041\n",
      "Needed time: 4.46489691734314\n",
      "Needed time: 4.462376117706299\n"
     ]
    },
    {
     "name": "stderr",
     "output_type": "stream",
     "text": [
      "\r",
      " 92%|█████████▏| 83/90 [14:15:46<04:43, 40.51s/it]"
     ]
    },
    {
     "name": "stdout",
     "output_type": "stream",
     "text": [
      "Needed time: 6.561299085617065\n",
      "Needed time: 4.467409372329712\n",
      "Needed time: 4.470722436904907\n",
      "Needed time: 4.468209743499756\n",
      "Needed time: 4.47928524017334\n"
     ]
    },
    {
     "name": "stderr",
     "output_type": "stream",
     "text": [
      "\r",
      " 93%|█████████▎| 84/90 [14:16:10<03:33, 35.52s/it]"
     ]
    },
    {
     "name": "stdout",
     "output_type": "stream",
     "text": [
      "Needed time: 4.458163738250732\n",
      "Needed time: 4.445462703704834\n",
      "Needed time: 4.462218284606934\n",
      "Needed time: 4.4463160037994385\n"
     ]
    },
    {
     "name": "stderr",
     "output_type": "stream",
     "text": [
      "\r",
      " 94%|█████████▍| 85/90 [14:16:29<02:33, 30.60s/it]"
     ]
    },
    {
     "name": "stdout",
     "output_type": "stream",
     "text": [
      "Needed time: 4.438745498657227\n",
      "Needed time: 4.466748476028442\n",
      "Needed time: 4.481287002563477\n"
     ]
    },
    {
     "name": "stderr",
     "output_type": "stream",
     "text": [
      "\r",
      " 96%|█████████▌| 86/90 [14:16:43<01:42, 25.74s/it]"
     ]
    },
    {
     "name": "stdout",
     "output_type": "stream",
     "text": [
      "Needed time: 4.467145919799805\n",
      "Needed time: 4.451317548751831\n"
     ]
    },
    {
     "name": "stderr",
     "output_type": "stream",
     "text": [
      "\r",
      " 97%|█████████▋| 87/90 [14:16:53<01:02, 20.89s/it]"
     ]
    },
    {
     "name": "stdout",
     "output_type": "stream",
     "text": [
      "Needed time: 4.471387147903442\n",
      "Needed time: 4.458412170410156\n"
     ]
    },
    {
     "name": "stderr",
     "output_type": "stream",
     "text": [
      "\r",
      " 98%|█████████▊| 88/90 [14:17:02<00:34, 17.50s/it]"
     ]
    },
    {
     "name": "stdout",
     "output_type": "stream",
     "text": [
      "Needed time: 4.457804918289185\n"
     ]
    },
    {
     "name": "stderr",
     "output_type": "stream",
     "text": [
      "100%|██████████| 90/90 [14:17:07<00:00, 571.42s/it]"
     ]
    },
    {
     "name": "stdout",
     "output_type": "stream",
     "text": [
      "Needed time: 4.454378128051758\n",
      "51427.534574985504\n"
     ]
    },
    {
     "name": "stderr",
     "output_type": "stream",
     "text": [
      "\n"
     ]
    },
    {
     "data": {
      "text/plain": [
       "727.7365323675872"
      ]
     },
     "execution_count": 11,
     "metadata": {},
     "output_type": "execute_result"
    }
   ],
   "source": [
    "import time\n",
    "a = time.time()\n",
    "value, Z, Z_round = model_on_thscsi(model)\n",
    "print(time.time()-a)\n",
    "value"
   ]
  },
  {
   "cell_type": "code",
   "execution_count": 12,
   "id": "56530104",
   "metadata": {},
   "outputs": [
    {
     "data": {
      "image/png": "[encoded data removed]",
      "text/plain": [
       "<Figure size 648x360 with 2 Axes>"
      ]
     },
     "metadata": {
      "needs_background": "light"
     },
     "output_type": "display_data"
    },
    {
     "data": {
      "image/png": "[encoded data removed]",
      "text/plain": [
       "<Figure size 648x360 with 2 Axes>"
      ]
     },
     "metadata": {
      "needs_background": "light"
     },
     "output_type": "display_data"
    }
   ],
   "source": [
    "x_list = np.linspace(15e-3,22.85e-3,90)\n",
    "px_list = np.linspace(-0.0008,0.0012,45)\n",
    "\n",
    "fig, ax = plt.subplots(figsize=(9,5))\n",
    "\n",
    "pc = ax.pcolormesh(x_list,px_list,Z.T,shading='auto')\n",
    "fig.colorbar(pc)\n",
    " \n",
    "plt.title(f\"Model on thor_scsi Performance\")\n",
    "plt.ylabel(\"px in m\")\n",
    "plt.xlabel(\"x in m\")\n",
    "plt.show()\n",
    "\n",
    "fig, ax = plt.subplots(figsize=(9,5))\n",
    "\n",
    "pc = ax.pcolormesh(x_list,px_list,Z_round.T,shading='auto')\n",
    "fig.colorbar(pc)\n",
    " \n",
    "plt.title(f\"Chosen round to kick by model\")\n",
    "plt.ylabel(\"px in m\")\n",
    "plt.xlabel(\"x in m\")\n",
    "plt.show()"
   ]
  }
 ],
 "metadata": {
  "kernelspec": {
   "display_name": "Python 3",
   "language": "python",
   "name": "python3"
  },
  "language_info": {
   "codemirror_mode": {
    "name": "ipython",
    "version": 3
   },
   "file_extension": ".py",
   "mimetype": "text/x-python",
   "name": "python",
   "nbconvert_exporter": "python",
   "pygments_lexer": "ipython3",
   "version": "3.8.8"
  }
 },
 "nbformat": 4,
 "nbformat_minor": 5
}
